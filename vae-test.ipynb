{
 "cells": [
  {
   "cell_type": "code",
   "execution_count": 1,
   "metadata": {},
   "outputs": [
    {
     "name": "stderr",
     "output_type": "stream",
     "text": [
      "/bask/homes/g/gmmg6904/forecasting-space/users/gmmg6904/cloud_diffusion/.venv/lib/python3.12/site-packages/tqdm/auto.py:21: TqdmWarning: IProgress not found. Please update jupyter and ipywidgets. See https://ipywidgets.readthedocs.io/en/stable/user_install.html\n",
      "  from .autonotebook import tqdm as notebook_tqdm\n"
     ]
    }
   ],
   "source": [
    "from types import SimpleNamespace\n",
    "\n",
    "import wandb\n",
    "import torch\n",
    "\n",
    "from cloudcasting.constants import NUM_CHANNELS, DATA_INTERVAL_SPACING_MINUTES\n",
    "\n",
    "from cloud_diffusion.dataset import CloudcastingDataset\n",
    "from cloud_diffusion.utils import set_seed\n",
    "from cloud_diffusion.ddpm import noisify_ddpm, ddim_sampler\n",
    "from cloud_diffusion.models import UNet2D\n",
    "from cloud_diffusion.vae import VAEChannelAdapter\n",
    "\n",
    "\n",
    "from torch.optim import AdamW\n",
    "from torch.utils.data import DataLoader\n",
    "from torch.optim.lr_scheduler import OneCycleLR\n",
    "import torch.nn.functional as F\n",
    "\n",
    "from fastprogress import progress_bar\n",
    "\n",
    "import matplotlib.pyplot as plt\n",
    "import numpy as np\n",
    "\n",
    "channel_names = ['IR_016', 'IR_039', 'IR_087', 'IR_097', 'IR_108', 'IR_120', 'IR_134',\n",
    "       'VIS006', 'VIS008', 'WV_062', 'WV_073']\n",
    "\n",
    "PROJECT_NAME = \"nathan-test\"\n",
    "MERGE_CHANNELS = False\n",
    "DEBUG = True\n",
    "LOCAL = False\n",
    "\n",
    "config = SimpleNamespace(\n",
    "    img_size=256,\n",
    "    epochs=50,  # number of epochs\n",
    "    model_name=\"uvit-test\",  # model name to save [unet_small, unet_big]\n",
    "    strategy=\"ddpm\",  # strategy to use [ddpm, simple_diffusion]\n",
    "    noise_steps=1000,  # number of noise steps on the diffusion process\n",
    "    sampler_steps=300,  # number of sampler steps on the diffusion process\n",
    "    seed=42,  # random seed\n",
    "    batch_size=2,  # batch size\n",
    "    device=\"mps\" if torch.backends.mps.is_available() else \"cuda\" if torch.cuda.is_available() else \"cpu\",\n",
    "    num_workers=0 if DEBUG else 35,  # number of workers for dataloader\n",
    "    num_frames=4,  # number of frames to use as input (includes noise frame)\n",
    "    lr=5e-4,  # learning rate\n",
    "    log_every_epoch=1,  # log every n epochs to wandb\n",
    "    n_preds=8,  # number of predictions to make\n",
    "    latent_dim=4,\n",
    "    vae_lr=5e-5,\n",
    ")\n",
    "\n",
    "device = config.device\n",
    "\n",
    "\n",
    "HISTORY_STEPS = config.num_frames - 1\n",
    "\n",
    "\n",
    "config.model_params = dict(\n",
    "    block_out_channels=(32, 64, 128, 256),  # number of channels for each block\n",
    "    norm_num_groups=8,  # number of groups for the normalization layer\n",
    "    in_channels=config.num_frames * config.latent_dim,  # number of input channels\n",
    "    out_channels=config.latent_dim,  # number of output channels\n",
    ")\n",
    "\n",
    "set_seed(config.seed)\n",
    "\n",
    "if LOCAL:\n",
    "    TRAINING_DATA_PATH = VALIDATION_DATA_PATH = \"/users/nsimpson/Code/climetrend/cloudcast/2020_training_nonhrv.zarr\"\n",
    "else:\n",
    "    TRAINING_DATA_PATH = \"/bask/projects/v/vjgo8416-climate/shared/data/eumetsat/training/2021_nonhrv.zarr\"\n",
    "    VALIDATION_DATA_PATH = \"/bask/projects/v/vjgo8416-climate/shared/data/eumetsat/training/2022_training_nonhrv.zarr\"\n",
    "# Instantiate the torch dataset object\n",
    "train_ds = CloudcastingDataset(\n",
    "    config.img_size,\n",
    "    valid=False,\n",
    "    # strategy=\"resize\",\n",
    "    zarr_path=TRAINING_DATA_PATH,\n",
    "    start_time=None,\n",
    "    end_time=None,\n",
    "    history_mins=(HISTORY_STEPS - 1) * DATA_INTERVAL_SPACING_MINUTES,\n",
    "    forecast_mins=15,\n",
    "    sample_freq_mins=15,\n",
    "    nan_to_num=False,\n",
    "    merge_channels=MERGE_CHANNELS,\n",
    ")\n",
    "# worth noting they do some sort of shuffling here; we don't for now\n",
    "valid_ds = CloudcastingDataset(\n",
    "    config.img_size,\n",
    "    valid=True,\n",
    "    # strategy=\"resize\",\n",
    "    zarr_path=VALIDATION_DATA_PATH,\n",
    "    start_time=None,\n",
    "    end_time=None,\n",
    "    history_mins=(HISTORY_STEPS - 1) * DATA_INTERVAL_SPACING_MINUTES,\n",
    "    forecast_mins=15,\n",
    "    sample_freq_mins=15,\n",
    "    nan_to_num=False,\n",
    "    merge_channels=MERGE_CHANNELS,\n",
    ")\n",
    "\n",
    "train_dataloader = DataLoader(train_ds, config.batch_size, shuffle=True,  num_workers=config.num_workers, pin_memory=True)\n",
    "valid_dataloader = DataLoader(valid_ds, config.batch_size, shuffle=False, num_workers=config.num_workers, pin_memory=True)"
   ]
  },
  {
   "cell_type": "code",
   "execution_count": 2,
   "metadata": {},
   "outputs": [
    {
     "data": {
      "text/plain": [
       "torch.Size([2, 11, 4, 256, 256])"
      ]
     },
     "execution_count": 2,
     "metadata": {},
     "output_type": "execute_result"
    }
   ],
   "source": [
    "X = next(iter(train_dataloader))\n",
    "X.shape"
   ]
  },
  {
   "cell_type": "code",
   "execution_count": 3,
   "metadata": {},
   "outputs": [],
   "source": [
    "def encode_frames(imgs, vae):\n",
    "    # imgs shape: [batch, channels, time, height, width]\n",
    "    B, C, T, H, W = imgs.shape\n",
    "    \n",
    "    # Reshape to process all frames at once\n",
    "    imgs_2d = imgs.permute(0, 2, 1, 3, 4).reshape(B*T, C, H, W)#.contiguous()\n",
    "    \n",
    "    latents = vae.encode(imgs_2d).latent_dist.sample()\n",
    "    \n",
    "    # Reshape back to include time dimension\n",
    "    _, C_out, H_out, W_out = latents.shape\n",
    "    return latents.reshape(B, T, C_out, H_out, W_out).permute(0, 2, 1, 3, 4)\n",
    "\n",
    "def decode_frames(latents, vae):\n",
    "    # latents shape: [batch, channels, time, height, width]\n",
    "    B, C, T, H, W = latents.shape\n",
    "    \n",
    "    # Reshape to process all frames at once\n",
    "    latents_2d = latents.permute(0, 2, 1, 3, 4).reshape(B*T, C, H, W)#.contiguous()\n",
    "    \n",
    "    # Process through VAE\n",
    "    decoded = vae.decode(latents_2d).sample\n",
    "    \n",
    "    # Reshape back to include time dimension\n",
    "    _, C_out, H_out, W_out = decoded.shape\n",
    "    decoded = decoded.reshape(B, T, C_out, H_out, W_out).permute(0, 2, 1, 3, 4)\n",
    "    \n",
    "    # Map channels\n",
    "    return decoded"
   ]
  },
  {
   "cell_type": "code",
   "execution_count": 4,
   "metadata": {},
   "outputs": [
    {
     "name": "stdout",
     "output_type": "stream",
     "text": [
      "torch.Size([2, 11, 4, 256, 256])\n"
     ]
    }
   ],
   "source": [
    "# model setup\n",
    "unet = UNet2D(**config.model_params).to(device)\n",
    "# vae = get_hacked_vae().to(device)#.float()\n",
    "from diffusers.models import AutoencoderKL\n",
    "vae = VAEChannelAdapter(AutoencoderKL.from_pretrained(\"stabilityai/sdxl-vae\").to(device)).to(device)\n",
    "\n",
    "# vae = AutoencoderKL.from_pretrained(\"CompVis/stable-diffusion-v1-4\", subfolder=\"vae\").to(device).float()\n",
    "# for param in vae.parameters():\n",
    "#     param.requires_grad = False\n",
    "\n",
    "# sampler\n",
    "sampler = ddim_sampler(steps=config.sampler_steps)\n",
    "\n",
    "# configure training\n",
    "# wandb.config.update(config)\n",
    "config.total_train_steps = config.epochs * len(train_dataloader)\n",
    "\n",
    "# Create parameter groups with different learning rates\n",
    "param_groups = [\n",
    "    {\n",
    "        'params': [p for p in vae.parameters() if p.requires_grad],\n",
    "        'lr': config.vae_lr,\n",
    "        'eps': 1e-5\n",
    "    },\n",
    "    {\n",
    "        'params': unet.parameters(),\n",
    "        'lr': config.lr,\n",
    "        'eps': 1e-5\n",
    "    }\n",
    "]\n",
    "optimizer = AdamW(param_groups)\n",
    "scheduler = OneCycleLR(optimizer, max_lr=[config.vae_lr, config.lr], total_steps=config.total_train_steps)\n",
    "scaler = torch.amp.GradScaler(\"cuda\")\n",
    "\n",
    "# get a validation batch for logging\n",
    "val_batch = next(iter(valid_dataloader))[0:2].to(device)  # log first 2 predictions\n",
    "print(val_batch.shape)"
   ]
  },
  {
   "cell_type": "code",
   "execution_count": 9,
   "metadata": {},
   "outputs": [
    {
     "name": "stdout",
     "output_type": "stream",
     "text": [
      "Latent stats:\n",
      "Mean: -0.014\n",
      "Std: 1.105\n",
      "Range: [-2.958, 2.487]\n",
      "Input shape: torch.Size([1, 11, 64, 64]), range: [-1.000, 1.000]\n",
      "Latents shape: torch.Size([1, 4, 8, 8]), range: [-1.519, 1.915]\n",
      "Output shape: torch.Size([1, 11, 64, 64]), range: [-0.995, 0.992]\n"
     ]
    },
    {
     "data": {
      "text/plain": [
       "tensor([[[[-0.3131,  0.2267,  0.1221,  ..., -0.1308,  0.0740,  0.3229],\n",
       "          [-0.2024, -0.0539, -0.1153,  ...,  0.0662,  0.2216,  0.3749],\n",
       "          [-0.3863,  0.1248,  0.1053,  ...,  0.4131,  0.4177,  0.3517],\n",
       "          ...,\n",
       "          [ 0.2698, -0.3137, -0.5546,  ..., -0.6310, -0.4948,  0.3405],\n",
       "          [ 0.1188, -0.4660, -0.7697,  ...,  0.1032,  0.2107,  0.3803],\n",
       "          [ 0.2109,  0.6104,  0.0839,  ...,  0.4946,  0.2015,  0.3172]],\n",
       "\n",
       "         [[ 0.1906,  0.0820,  0.1424,  ...,  0.0575,  0.0832, -0.0485],\n",
       "          [ 0.0566, -0.3328, -0.1398,  ...,  0.2047,  0.2020, -0.1119],\n",
       "          [-0.0758, -0.2198, -0.4947,  ...,  0.2811,  0.0979, -0.0565],\n",
       "          ...,\n",
       "          [ 0.3398, -0.2138,  0.1189,  ..., -0.1691,  0.5578,  0.0621],\n",
       "          [-0.0920, -0.0780,  0.0608,  ...,  0.0527, -0.0773, -0.0125],\n",
       "          [-0.3634, -0.0598, -0.2975,  ..., -0.4819, -0.0839,  0.2312]],\n",
       "\n",
       "         [[-0.2784, -0.3097,  0.1206,  ..., -0.5178, -0.4380, -0.3055],\n",
       "          [-0.5114, -0.6199, -0.5804,  ..., -0.8357, -0.6824, -0.3424],\n",
       "          [-0.6004, -0.6272, -0.4765,  ..., -0.9305, -0.7228,  0.2497],\n",
       "          ...,\n",
       "          [-0.6955, -0.8536, -0.8712,  ..., -0.8129, -0.3892,  0.1544],\n",
       "          [-0.6127, -0.7390, -0.7315,  ..., -0.9047, -0.9010, -0.2194],\n",
       "          [-0.4007, -0.6867, -0.4250,  ...,  0.0934, -0.2205, -0.3714]],\n",
       "\n",
       "         ...,\n",
       "\n",
       "         [[ 0.1329,  0.3139,  0.6263,  ...,  0.6497,  0.4250,  0.2798],\n",
       "          [-0.1404,  0.0104,  0.5742,  ...,  0.4642,  0.2834,  0.3637],\n",
       "          [-0.0810,  0.5459,  0.7154,  ...,  0.7980,  0.4838,  0.3833],\n",
       "          ...,\n",
       "          [-0.0543,  0.2550, -0.6549,  ...,  0.3585,  0.5955,  0.3896],\n",
       "          [-0.3525,  0.3399,  0.0191,  ...,  0.7546,  0.4648,  0.5892],\n",
       "          [ 0.1068,  0.5553,  0.3652,  ...,  0.4026,  0.4971,  0.2063]],\n",
       "\n",
       "         [[ 0.1031,  0.4298,  0.3136,  ...,  0.1738,  0.1638, -0.1083],\n",
       "          [ 0.0485,  0.2903,  0.1331,  ..., -0.0604, -0.1273, -0.2714],\n",
       "          [ 0.1879,  0.3874,  0.0123,  ...,  0.0090, -0.2564, -0.4827],\n",
       "          ...,\n",
       "          [ 0.1211, -0.6033,  0.1269,  ..., -0.0744,  0.4127, -0.1812],\n",
       "          [-0.0119,  0.1193,  0.1787,  ..., -0.0966, -0.3414, -0.2706],\n",
       "          [ 0.2261,  0.3855,  0.5522,  ...,  0.3521, -0.1277, -0.1299]],\n",
       "\n",
       "         [[ 0.1718,  0.0186,  0.1558,  ...,  0.1907,  0.3071,  0.3940],\n",
       "          [ 0.3775, -0.0450,  0.2527,  ...,  0.1892,  0.0753, -0.0063],\n",
       "          [ 0.5002, -0.2442, -0.0388,  ...,  0.6789,  0.5945,  0.2145],\n",
       "          ...,\n",
       "          [ 0.6314, -0.6376, -0.0563,  ..., -0.3014, -0.1488,  0.6747],\n",
       "          [ 0.3494, -0.2170,  0.5423,  ...,  0.3787,  0.6889,  0.4386],\n",
       "          [-0.2759, -0.4805, -0.2188,  ..., -0.3459, -0.2954, -0.5324]]]],\n",
       "       device='cuda:0', grad_fn=<TanhBackward0>)"
      ]
     },
     "execution_count": 9,
     "metadata": {},
     "output_type": "execute_result"
    }
   ],
   "source": [
    "from torch import nn\n",
    "\n",
    "class VAEChannelAdapter(nn.Module):\n",
    "    \"\"\"\n",
    "    Complete VAE adapter that handles:\n",
    "    1. Channel adaptation (many channels <-> 3 channels)\n",
    "    2. VAE encoding/decoding\n",
    "    3. Latent scaling\n",
    "    \n",
    "    All scaling factors are integrated into forward/backward passes\n",
    "    for cleaner usage.\n",
    "    \"\"\"\n",
    "    def __init__(self, vae, channels=11):\n",
    "        super().__init__()\n",
    "        self.vae = vae\n",
    "        self.channels = channels\n",
    "        # Store scaling factor from VAE config\n",
    "        self.scaling_factor = vae.config.scaling_factor\n",
    "        \n",
    "        # Input adapter: channels -> 3\n",
    "        self.in_adapter = nn.Sequential(\n",
    "            nn.Conv2d(channels, 32, 3, padding=1),\n",
    "            nn.GroupNorm(8, 32),\n",
    "            nn.SiLU(),\n",
    "            nn.Conv2d(32, 16, 3, padding=1),\n",
    "            nn.GroupNorm(4, 16),\n",
    "            nn.SiLU(),\n",
    "            nn.Conv2d(16, 3, 3, padding=1),\n",
    "            nn.Tanh()\n",
    "        )\n",
    "        \n",
    "        # Output adapter: 3 -> channels\n",
    "        self.out_adapter = nn.Sequential(\n",
    "            nn.Conv2d(3, 32, 3, padding=1),\n",
    "            nn.GroupNorm(8, 32),\n",
    "            nn.SiLU(),\n",
    "            nn.Conv2d(32, 16, 3, padding=1),\n",
    "            nn.GroupNorm(4, 16),\n",
    "            nn.SiLU(),\n",
    "            nn.Conv2d(16, channels, 3, padding=1),\n",
    "            nn.Tanh()\n",
    "        )\n",
    "        \n",
    "        self._init_weights()\n",
    "        \n",
    "        # Freeze VAE parameters\n",
    "        for param in self.vae.parameters():\n",
    "            param.requires_grad = False\n",
    "    \n",
    "    def _init_weights(self):\n",
    "        \"\"\"Initialize adapter weights for stable training\"\"\"\n",
    "        for module in [self.in_adapter, self.out_adapter]:\n",
    "            for m in module.modules():\n",
    "                if isinstance(m, nn.Conv2d):\n",
    "                    nn.init.kaiming_normal_(m.weight, a=0.1, mode='fan_out', nonlinearity='linear')\n",
    "                    if m.bias is not None:\n",
    "                        nn.init.zeros_(m.bias)\n",
    "    \n",
    "    def encode(self, x):\n",
    "        \"\"\"\n",
    "        Encode and scale in one step\n",
    "        \n",
    "        Args:\n",
    "            x: [B, C, H, W] input tensor where C = self.channels\n",
    "        Returns:\n",
    "            Scaled latents ready for training/inference\n",
    "        \"\"\"\n",
    "        # Adapt channels and encode\n",
    "        x = self.in_adapter(x)\n",
    "        latents = self.vae.encode(x).latent_dist.sample()\n",
    "        # Scale the latents\n",
    "        return latents * self.scaling_factor\n",
    "    \n",
    "    def decode(self, z):\n",
    "        \"\"\"\n",
    "        Descale and decode in one step\n",
    "        \n",
    "        Args:\n",
    "            z: Scaled latent tensor from training/inference\n",
    "        Returns:\n",
    "            Multi-channel output tensor\n",
    "        \"\"\"\n",
    "        # Descale the latents\n",
    "        z = z / self.scaling_factor\n",
    "        # Decode and adapt channels\n",
    "        decoded = self.vae.decode(z).sample\n",
    "        return self.out_adapter(decoded)\n",
    "\n",
    "# Example usage is now much cleaner:\n",
    "def test_vae_adapter(adapter, device='cuda'):\n",
    "    \"\"\"Test the adapter's full pipeline with integrated scaling\"\"\"\n",
    "    x = torch.randn(1, adapter.channels, 64, 64).to(device)\n",
    "    x = torch.tanh(x)  # Normalize input\n",
    "    \n",
    "    print(f\"Input shape: {x.shape}, range: [{x.min():.3f}, {x.max():.3f}]\")\n",
    "    \n",
    "    # Encode (scaling included)\n",
    "    latents = adapter.encode(x)\n",
    "    print(f\"Latents shape: {latents.shape}, range: [{latents.min():.3f}, {latents.max():.3f}]\")\n",
    "    \n",
    "    # Decode (descaling included)\n",
    "    decoded = adapter.decode(latents)\n",
    "    print(f\"Output shape: {decoded.shape}, range: [{decoded.min():.3f}, {decoded.max():.3f}]\")\n",
    "    \n",
    "    return decoded\n",
    "\n",
    "\n",
    "# Usage in training loop is now simpler:\n",
    "adapted_vae = VAEChannelAdapter(AutoencoderKL.from_pretrained(\"stabilityai/sdxl-vae\").to(device), channels=11).to(device)\n",
    "def analyze_latent_distribution(latents):\n",
    "    \"\"\"Check if latents match expected distribution\"\"\"\n",
    "    print(f\"Latent stats:\")\n",
    "    print(f\"Mean: {latents.mean():.3f}\")\n",
    "    print(f\"Std: {latents.std():.3f}\")\n",
    "    print(f\"Range: [{latents.min():.3f}, {latents.max():.3f}]\")\n",
    "    return latents.std().item()\n",
    "# During training\n",
    "latents = adapted_vae.encode(X[:,:,0,:,:].to(device))  # Includes scaling\n",
    "analyze_latent_distribution(latents)\n",
    "decoded = adapted_vae.decode(latents)  # Includes descaling\n",
    "\n",
    "# No need for separate scaling calls!\n",
    "\n",
    "test_vae_adapter(adapted_vae)"
   ]
  },
  {
   "cell_type": "code",
   "execution_count": 5,
   "metadata": {},
   "outputs": [
    {
     "data": {
      "text/html": [
       "\n",
       "<style>\n",
       "    /* Turns off some styling */\n",
       "    progress {\n",
       "        /* gets rid of default border in Firefox and Opera. */\n",
       "        border: none;\n",
       "        /* Needs to be in here for Safari polyfill so background images work as expected. */\n",
       "        background-size: auto;\n",
       "    }\n",
       "    progress:not([value]), progress:not([value])::-webkit-progress-bar {\n",
       "        background: repeating-linear-gradient(45deg, #7e7e7e, #7e7e7e 10px, #5c5c5c 10px, #5c5c5c 20px);\n",
       "    }\n",
       "    .progress-bar-interrupted, .progress-bar-interrupted::-webkit-progress-bar {\n",
       "        background: #F44336;\n",
       "    }\n",
       "</style>\n"
      ],
      "text/plain": [
       "<IPython.core.display.HTML object>"
      ]
     },
     "metadata": {},
     "output_type": "display_data"
    },
    {
     "data": {
      "text/html": [
       "\n",
       "    <div>\n",
       "      <progress value='50' class='' max='50' style='width:300px; height:20px; vertical-align: middle;'></progress>\n",
       "      100.00% [50/50 01:42&lt;00:00]\n",
       "    </div>\n",
       "    "
      ],
      "text/plain": [
       "<IPython.core.display.HTML object>"
      ]
     },
     "metadata": {},
     "output_type": "display_data"
    },
    {
     "data": {
      "text/html": [
       "\n",
       "<style>\n",
       "    /* Turns off some styling */\n",
       "    progress {\n",
       "        /* gets rid of default border in Firefox and Opera. */\n",
       "        border: none;\n",
       "        /* Needs to be in here for Safari polyfill so background images work as expected. */\n",
       "        background-size: auto;\n",
       "    }\n",
       "    progress:not([value]), progress:not([value])::-webkit-progress-bar {\n",
       "        background: repeating-linear-gradient(45deg, #7e7e7e, #7e7e7e 10px, #5c5c5c 10px, #5c5c5c 20px);\n",
       "    }\n",
       "    .progress-bar-interrupted, .progress-bar-interrupted::-webkit-progress-bar {\n",
       "        background: #F44336;\n",
       "    }\n",
       "</style>\n"
      ],
      "text/plain": [
       "<IPython.core.display.HTML object>"
      ]
     },
     "metadata": {},
     "output_type": "display_data"
    },
    {
     "data": {
      "text/html": [
       "\n",
       "    <div>\n",
       "      <progress value='0' class='' max='14687' style='width:300px; height:20px; vertical-align: middle;'></progress>\n",
       "      0.00% [0/14687 00:00&lt;?]\n",
       "    </div>\n",
       "    "
      ],
      "text/plain": [
       "<IPython.core.display.HTML object>"
      ]
     },
     "metadata": {},
     "output_type": "display_data"
    },
    {
     "name": "stdout",
     "output_type": "stream",
     "text": [
      "img_batch stats: min=-0.940, max=0.930, mean=0.281, std=0.457\n",
      "NaN detected in latents\n",
      "NaN detected after VAE encoding\n"
     ]
    },
    {
     "data": {
      "text/html": [
       "\n",
       "<style>\n",
       "    /* Turns off some styling */\n",
       "    progress {\n",
       "        /* gets rid of default border in Firefox and Opera. */\n",
       "        border: none;\n",
       "        /* Needs to be in here for Safari polyfill so background images work as expected. */\n",
       "        background-size: auto;\n",
       "    }\n",
       "    progress:not([value]), progress:not([value])::-webkit-progress-bar {\n",
       "        background: repeating-linear-gradient(45deg, #7e7e7e, #7e7e7e 10px, #5c5c5c 10px, #5c5c5c 20px);\n",
       "    }\n",
       "    .progress-bar-interrupted, .progress-bar-interrupted::-webkit-progress-bar {\n",
       "        background: #F44336;\n",
       "    }\n",
       "</style>\n"
      ],
      "text/plain": [
       "<IPython.core.display.HTML object>"
      ]
     },
     "metadata": {},
     "output_type": "display_data"
    },
    {
     "data": {
      "text/html": [
       "\n",
       "    <div>\n",
       "      <progress value='0' class='' max='14687' style='width:300px; height:20px; vertical-align: middle;'></progress>\n",
       "      0.00% [0/14687 00:00&lt;?]\n",
       "    </div>\n",
       "    "
      ],
      "text/plain": [
       "<IPython.core.display.HTML object>"
      ]
     },
     "metadata": {},
     "output_type": "display_data"
    },
    {
     "name": "stdout",
     "output_type": "stream",
     "text": [
      "img_batch stats: min=-0.957, max=0.930, mean=0.190, std=0.533\n",
      "NaN detected in latents\n",
      "NaN detected after VAE encoding\n"
     ]
    },
    {
     "data": {
      "text/html": [
       "\n",
       "<style>\n",
       "    /* Turns off some styling */\n",
       "    progress {\n",
       "        /* gets rid of default border in Firefox and Opera. */\n",
       "        border: none;\n",
       "        /* Needs to be in here for Safari polyfill so background images work as expected. */\n",
       "        background-size: auto;\n",
       "    }\n",
       "    progress:not([value]), progress:not([value])::-webkit-progress-bar {\n",
       "        background: repeating-linear-gradient(45deg, #7e7e7e, #7e7e7e 10px, #5c5c5c 10px, #5c5c5c 20px);\n",
       "    }\n",
       "    .progress-bar-interrupted, .progress-bar-interrupted::-webkit-progress-bar {\n",
       "        background: #F44336;\n",
       "    }\n",
       "</style>\n"
      ],
      "text/plain": [
       "<IPython.core.display.HTML object>"
      ]
     },
     "metadata": {},
     "output_type": "display_data"
    },
    {
     "data": {
      "text/html": [
       "\n",
       "    <div>\n",
       "      <progress value='0' class='' max='14687' style='width:300px; height:20px; vertical-align: middle;'></progress>\n",
       "      0.00% [0/14687 00:00&lt;?]\n",
       "    </div>\n",
       "    "
      ],
      "text/plain": [
       "<IPython.core.display.HTML object>"
      ]
     },
     "metadata": {},
     "output_type": "display_data"
    },
    {
     "name": "stdout",
     "output_type": "stream",
     "text": [
      "img_batch stats: min=-0.978, max=1.000, mean=0.168, std=0.572\n",
      "NaN detected in latents\n",
      "NaN detected after VAE encoding\n"
     ]
    },
    {
     "data": {
      "text/html": [
       "\n",
       "<style>\n",
       "    /* Turns off some styling */\n",
       "    progress {\n",
       "        /* gets rid of default border in Firefox and Opera. */\n",
       "        border: none;\n",
       "        /* Needs to be in here for Safari polyfill so background images work as expected. */\n",
       "        background-size: auto;\n",
       "    }\n",
       "    progress:not([value]), progress:not([value])::-webkit-progress-bar {\n",
       "        background: repeating-linear-gradient(45deg, #7e7e7e, #7e7e7e 10px, #5c5c5c 10px, #5c5c5c 20px);\n",
       "    }\n",
       "    .progress-bar-interrupted, .progress-bar-interrupted::-webkit-progress-bar {\n",
       "        background: #F44336;\n",
       "    }\n",
       "</style>\n"
      ],
      "text/plain": [
       "<IPython.core.display.HTML object>"
      ]
     },
     "metadata": {},
     "output_type": "display_data"
    },
    {
     "data": {
      "text/html": [
       "\n",
       "    <div>\n",
       "      <progress value='0' class='' max='14687' style='width:300px; height:20px; vertical-align: middle;'></progress>\n",
       "      0.00% [0/14687 00:00&lt;?]\n",
       "    </div>\n",
       "    "
      ],
      "text/plain": [
       "<IPython.core.display.HTML object>"
      ]
     },
     "metadata": {},
     "output_type": "display_data"
    },
    {
     "name": "stdout",
     "output_type": "stream",
     "text": [
      "img_batch stats: min=-0.977, max=0.916, mean=0.090, std=0.594\n",
      "NaN detected in latents\n",
      "NaN detected after VAE encoding\n"
     ]
    },
    {
     "data": {
      "text/html": [
       "\n",
       "<style>\n",
       "    /* Turns off some styling */\n",
       "    progress {\n",
       "        /* gets rid of default border in Firefox and Opera. */\n",
       "        border: none;\n",
       "        /* Needs to be in here for Safari polyfill so background images work as expected. */\n",
       "        background-size: auto;\n",
       "    }\n",
       "    progress:not([value]), progress:not([value])::-webkit-progress-bar {\n",
       "        background: repeating-linear-gradient(45deg, #7e7e7e, #7e7e7e 10px, #5c5c5c 10px, #5c5c5c 20px);\n",
       "    }\n",
       "    .progress-bar-interrupted, .progress-bar-interrupted::-webkit-progress-bar {\n",
       "        background: #F44336;\n",
       "    }\n",
       "</style>\n"
      ],
      "text/plain": [
       "<IPython.core.display.HTML object>"
      ]
     },
     "metadata": {},
     "output_type": "display_data"
    },
    {
     "data": {
      "text/html": [
       "\n",
       "    <div>\n",
       "      <progress value='0' class='' max='14687' style='width:300px; height:20px; vertical-align: middle;'></progress>\n",
       "      0.00% [0/14687 00:00&lt;?]\n",
       "    </div>\n",
       "    "
      ],
      "text/plain": [
       "<IPython.core.display.HTML object>"
      ]
     },
     "metadata": {},
     "output_type": "display_data"
    },
    {
     "name": "stdout",
     "output_type": "stream",
     "text": [
      "img_batch stats: min=-0.977, max=0.893, mean=0.081, std=0.603\n",
      "NaN detected in latents\n",
      "NaN detected after VAE encoding\n"
     ]
    },
    {
     "data": {
      "text/html": [
       "\n",
       "<style>\n",
       "    /* Turns off some styling */\n",
       "    progress {\n",
       "        /* gets rid of default border in Firefox and Opera. */\n",
       "        border: none;\n",
       "        /* Needs to be in here for Safari polyfill so background images work as expected. */\n",
       "        background-size: auto;\n",
       "    }\n",
       "    progress:not([value]), progress:not([value])::-webkit-progress-bar {\n",
       "        background: repeating-linear-gradient(45deg, #7e7e7e, #7e7e7e 10px, #5c5c5c 10px, #5c5c5c 20px);\n",
       "    }\n",
       "    .progress-bar-interrupted, .progress-bar-interrupted::-webkit-progress-bar {\n",
       "        background: #F44336;\n",
       "    }\n",
       "</style>\n"
      ],
      "text/plain": [
       "<IPython.core.display.HTML object>"
      ]
     },
     "metadata": {},
     "output_type": "display_data"
    },
    {
     "data": {
      "text/html": [
       "\n",
       "    <div>\n",
       "      <progress value='0' class='' max='14687' style='width:300px; height:20px; vertical-align: middle;'></progress>\n",
       "      0.00% [0/14687 00:00&lt;?]\n",
       "    </div>\n",
       "    "
      ],
      "text/plain": [
       "<IPython.core.display.HTML object>"
      ]
     },
     "metadata": {},
     "output_type": "display_data"
    },
    {
     "name": "stdout",
     "output_type": "stream",
     "text": [
      "img_batch stats: min=-0.978, max=0.925, mean=0.139, std=0.594\n",
      "NaN detected in latents\n",
      "NaN detected after VAE encoding\n"
     ]
    },
    {
     "data": {
      "text/html": [
       "\n",
       "<style>\n",
       "    /* Turns off some styling */\n",
       "    progress {\n",
       "        /* gets rid of default border in Firefox and Opera. */\n",
       "        border: none;\n",
       "        /* Needs to be in here for Safari polyfill so background images work as expected. */\n",
       "        background-size: auto;\n",
       "    }\n",
       "    progress:not([value]), progress:not([value])::-webkit-progress-bar {\n",
       "        background: repeating-linear-gradient(45deg, #7e7e7e, #7e7e7e 10px, #5c5c5c 10px, #5c5c5c 20px);\n",
       "    }\n",
       "    .progress-bar-interrupted, .progress-bar-interrupted::-webkit-progress-bar {\n",
       "        background: #F44336;\n",
       "    }\n",
       "</style>\n"
      ],
      "text/plain": [
       "<IPython.core.display.HTML object>"
      ]
     },
     "metadata": {},
     "output_type": "display_data"
    },
    {
     "data": {
      "text/html": [
       "\n",
       "    <div>\n",
       "      <progress value='0' class='' max='14687' style='width:300px; height:20px; vertical-align: middle;'></progress>\n",
       "      0.00% [0/14687 00:00&lt;?]\n",
       "    </div>\n",
       "    "
      ],
      "text/plain": [
       "<IPython.core.display.HTML object>"
      ]
     },
     "metadata": {},
     "output_type": "display_data"
    },
    {
     "name": "stdout",
     "output_type": "stream",
     "text": [
      "img_batch stats: min=-0.977, max=0.927, mean=0.124, std=0.617\n",
      "NaN detected in latents\n",
      "NaN detected after VAE encoding\n"
     ]
    },
    {
     "data": {
      "text/html": [
       "\n",
       "<style>\n",
       "    /* Turns off some styling */\n",
       "    progress {\n",
       "        /* gets rid of default border in Firefox and Opera. */\n",
       "        border: none;\n",
       "        /* Needs to be in here for Safari polyfill so background images work as expected. */\n",
       "        background-size: auto;\n",
       "    }\n",
       "    progress:not([value]), progress:not([value])::-webkit-progress-bar {\n",
       "        background: repeating-linear-gradient(45deg, #7e7e7e, #7e7e7e 10px, #5c5c5c 10px, #5c5c5c 20px);\n",
       "    }\n",
       "    .progress-bar-interrupted, .progress-bar-interrupted::-webkit-progress-bar {\n",
       "        background: #F44336;\n",
       "    }\n",
       "</style>\n"
      ],
      "text/plain": [
       "<IPython.core.display.HTML object>"
      ]
     },
     "metadata": {},
     "output_type": "display_data"
    },
    {
     "data": {
      "text/html": [
       "\n",
       "    <div>\n",
       "      <progress value='0' class='' max='14687' style='width:300px; height:20px; vertical-align: middle;'></progress>\n",
       "      0.00% [0/14687 00:00&lt;?]\n",
       "    </div>\n",
       "    "
      ],
      "text/plain": [
       "<IPython.core.display.HTML object>"
      ]
     },
     "metadata": {},
     "output_type": "display_data"
    },
    {
     "name": "stdout",
     "output_type": "stream",
     "text": [
      "img_batch stats: min=-0.978, max=0.934, mean=0.073, std=0.678\n",
      "NaN detected in latents\n",
      "NaN detected after VAE encoding\n"
     ]
    },
    {
     "data": {
      "text/html": [
       "\n",
       "<style>\n",
       "    /* Turns off some styling */\n",
       "    progress {\n",
       "        /* gets rid of default border in Firefox and Opera. */\n",
       "        border: none;\n",
       "        /* Needs to be in here for Safari polyfill so background images work as expected. */\n",
       "        background-size: auto;\n",
       "    }\n",
       "    progress:not([value]), progress:not([value])::-webkit-progress-bar {\n",
       "        background: repeating-linear-gradient(45deg, #7e7e7e, #7e7e7e 10px, #5c5c5c 10px, #5c5c5c 20px);\n",
       "    }\n",
       "    .progress-bar-interrupted, .progress-bar-interrupted::-webkit-progress-bar {\n",
       "        background: #F44336;\n",
       "    }\n",
       "</style>\n"
      ],
      "text/plain": [
       "<IPython.core.display.HTML object>"
      ]
     },
     "metadata": {},
     "output_type": "display_data"
    },
    {
     "data": {
      "text/html": [
       "\n",
       "    <div>\n",
       "      <progress value='0' class='' max='14687' style='width:300px; height:20px; vertical-align: middle;'></progress>\n",
       "      0.00% [0/14687 00:00&lt;?]\n",
       "    </div>\n",
       "    "
      ],
      "text/plain": [
       "<IPython.core.display.HTML object>"
      ]
     },
     "metadata": {},
     "output_type": "display_data"
    },
    {
     "name": "stdout",
     "output_type": "stream",
     "text": [
      "img_batch stats: min=-0.978, max=0.893, mean=0.059, std=0.626\n",
      "NaN detected in latents\n",
      "NaN detected after VAE encoding\n"
     ]
    },
    {
     "data": {
      "text/html": [
       "\n",
       "<style>\n",
       "    /* Turns off some styling */\n",
       "    progress {\n",
       "        /* gets rid of default border in Firefox and Opera. */\n",
       "        border: none;\n",
       "        /* Needs to be in here for Safari polyfill so background images work as expected. */\n",
       "        background-size: auto;\n",
       "    }\n",
       "    progress:not([value]), progress:not([value])::-webkit-progress-bar {\n",
       "        background: repeating-linear-gradient(45deg, #7e7e7e, #7e7e7e 10px, #5c5c5c 10px, #5c5c5c 20px);\n",
       "    }\n",
       "    .progress-bar-interrupted, .progress-bar-interrupted::-webkit-progress-bar {\n",
       "        background: #F44336;\n",
       "    }\n",
       "</style>\n"
      ],
      "text/plain": [
       "<IPython.core.display.HTML object>"
      ]
     },
     "metadata": {},
     "output_type": "display_data"
    },
    {
     "data": {
      "text/html": [
       "\n",
       "    <div>\n",
       "      <progress value='0' class='' max='14687' style='width:300px; height:20px; vertical-align: middle;'></progress>\n",
       "      0.00% [0/14687 00:00&lt;?]\n",
       "    </div>\n",
       "    "
      ],
      "text/plain": [
       "<IPython.core.display.HTML object>"
      ]
     },
     "metadata": {},
     "output_type": "display_data"
    },
    {
     "name": "stdout",
     "output_type": "stream",
     "text": [
      "img_batch stats: min=-0.977, max=0.934, mean=0.094, std=0.595\n",
      "NaN detected in latents\n",
      "NaN detected after VAE encoding\n"
     ]
    },
    {
     "data": {
      "text/html": [
       "\n",
       "<style>\n",
       "    /* Turns off some styling */\n",
       "    progress {\n",
       "        /* gets rid of default border in Firefox and Opera. */\n",
       "        border: none;\n",
       "        /* Needs to be in here for Safari polyfill so background images work as expected. */\n",
       "        background-size: auto;\n",
       "    }\n",
       "    progress:not([value]), progress:not([value])::-webkit-progress-bar {\n",
       "        background: repeating-linear-gradient(45deg, #7e7e7e, #7e7e7e 10px, #5c5c5c 10px, #5c5c5c 20px);\n",
       "    }\n",
       "    .progress-bar-interrupted, .progress-bar-interrupted::-webkit-progress-bar {\n",
       "        background: #F44336;\n",
       "    }\n",
       "</style>\n"
      ],
      "text/plain": [
       "<IPython.core.display.HTML object>"
      ]
     },
     "metadata": {},
     "output_type": "display_data"
    },
    {
     "data": {
      "text/html": [
       "\n",
       "    <div>\n",
       "      <progress value='0' class='' max='14687' style='width:300px; height:20px; vertical-align: middle;'></progress>\n",
       "      0.00% [0/14687 00:00&lt;?]\n",
       "    </div>\n",
       "    "
      ],
      "text/plain": [
       "<IPython.core.display.HTML object>"
      ]
     },
     "metadata": {},
     "output_type": "display_data"
    },
    {
     "name": "stdout",
     "output_type": "stream",
     "text": [
      "img_batch stats: min=-0.992, max=0.904, mean=0.115, std=0.607\n",
      "NaN detected in latents\n",
      "NaN detected after VAE encoding\n"
     ]
    },
    {
     "data": {
      "text/html": [
       "\n",
       "<style>\n",
       "    /* Turns off some styling */\n",
       "    progress {\n",
       "        /* gets rid of default border in Firefox and Opera. */\n",
       "        border: none;\n",
       "        /* Needs to be in here for Safari polyfill so background images work as expected. */\n",
       "        background-size: auto;\n",
       "    }\n",
       "    progress:not([value]), progress:not([value])::-webkit-progress-bar {\n",
       "        background: repeating-linear-gradient(45deg, #7e7e7e, #7e7e7e 10px, #5c5c5c 10px, #5c5c5c 20px);\n",
       "    }\n",
       "    .progress-bar-interrupted, .progress-bar-interrupted::-webkit-progress-bar {\n",
       "        background: #F44336;\n",
       "    }\n",
       "</style>\n"
      ],
      "text/plain": [
       "<IPython.core.display.HTML object>"
      ]
     },
     "metadata": {},
     "output_type": "display_data"
    },
    {
     "data": {
      "text/html": [
       "\n",
       "    <div>\n",
       "      <progress value='0' class='' max='14687' style='width:300px; height:20px; vertical-align: middle;'></progress>\n",
       "      0.00% [0/14687 00:00&lt;?]\n",
       "    </div>\n",
       "    "
      ],
      "text/plain": [
       "<IPython.core.display.HTML object>"
      ]
     },
     "metadata": {},
     "output_type": "display_data"
    },
    {
     "name": "stdout",
     "output_type": "stream",
     "text": [
      "img_batch stats: min=-0.977, max=0.904, mean=0.090, std=0.637\n",
      "NaN detected in latents\n",
      "NaN detected after VAE encoding\n"
     ]
    },
    {
     "data": {
      "text/html": [
       "\n",
       "<style>\n",
       "    /* Turns off some styling */\n",
       "    progress {\n",
       "        /* gets rid of default border in Firefox and Opera. */\n",
       "        border: none;\n",
       "        /* Needs to be in here for Safari polyfill so background images work as expected. */\n",
       "        background-size: auto;\n",
       "    }\n",
       "    progress:not([value]), progress:not([value])::-webkit-progress-bar {\n",
       "        background: repeating-linear-gradient(45deg, #7e7e7e, #7e7e7e 10px, #5c5c5c 10px, #5c5c5c 20px);\n",
       "    }\n",
       "    .progress-bar-interrupted, .progress-bar-interrupted::-webkit-progress-bar {\n",
       "        background: #F44336;\n",
       "    }\n",
       "</style>\n"
      ],
      "text/plain": [
       "<IPython.core.display.HTML object>"
      ]
     },
     "metadata": {},
     "output_type": "display_data"
    },
    {
     "data": {
      "text/html": [
       "\n",
       "    <div>\n",
       "      <progress value='0' class='' max='14687' style='width:300px; height:20px; vertical-align: middle;'></progress>\n",
       "      0.00% [0/14687 00:00&lt;?]\n",
       "    </div>\n",
       "    "
      ],
      "text/plain": [
       "<IPython.core.display.HTML object>"
      ]
     },
     "metadata": {},
     "output_type": "display_data"
    },
    {
     "name": "stdout",
     "output_type": "stream",
     "text": [
      "img_batch stats: min=-0.971, max=0.905, mean=0.079, std=0.565\n",
      "NaN detected in latents\n",
      "NaN detected after VAE encoding\n"
     ]
    },
    {
     "data": {
      "text/html": [
       "\n",
       "<style>\n",
       "    /* Turns off some styling */\n",
       "    progress {\n",
       "        /* gets rid of default border in Firefox and Opera. */\n",
       "        border: none;\n",
       "        /* Needs to be in here for Safari polyfill so background images work as expected. */\n",
       "        background-size: auto;\n",
       "    }\n",
       "    progress:not([value]), progress:not([value])::-webkit-progress-bar {\n",
       "        background: repeating-linear-gradient(45deg, #7e7e7e, #7e7e7e 10px, #5c5c5c 10px, #5c5c5c 20px);\n",
       "    }\n",
       "    .progress-bar-interrupted, .progress-bar-interrupted::-webkit-progress-bar {\n",
       "        background: #F44336;\n",
       "    }\n",
       "</style>\n"
      ],
      "text/plain": [
       "<IPython.core.display.HTML object>"
      ]
     },
     "metadata": {},
     "output_type": "display_data"
    },
    {
     "data": {
      "text/html": [
       "\n",
       "    <div>\n",
       "      <progress value='0' class='' max='14687' style='width:300px; height:20px; vertical-align: middle;'></progress>\n",
       "      0.00% [0/14687 00:00&lt;?]\n",
       "    </div>\n",
       "    "
      ],
      "text/plain": [
       "<IPython.core.display.HTML object>"
      ]
     },
     "metadata": {},
     "output_type": "display_data"
    },
    {
     "name": "stdout",
     "output_type": "stream",
     "text": [
      "img_batch stats: min=-0.977, max=0.915, mean=0.049, std=0.667\n",
      "NaN detected in latents\n",
      "NaN detected after VAE encoding\n"
     ]
    },
    {
     "data": {
      "text/html": [
       "\n",
       "<style>\n",
       "    /* Turns off some styling */\n",
       "    progress {\n",
       "        /* gets rid of default border in Firefox and Opera. */\n",
       "        border: none;\n",
       "        /* Needs to be in here for Safari polyfill so background images work as expected. */\n",
       "        background-size: auto;\n",
       "    }\n",
       "    progress:not([value]), progress:not([value])::-webkit-progress-bar {\n",
       "        background: repeating-linear-gradient(45deg, #7e7e7e, #7e7e7e 10px, #5c5c5c 10px, #5c5c5c 20px);\n",
       "    }\n",
       "    .progress-bar-interrupted, .progress-bar-interrupted::-webkit-progress-bar {\n",
       "        background: #F44336;\n",
       "    }\n",
       "</style>\n"
      ],
      "text/plain": [
       "<IPython.core.display.HTML object>"
      ]
     },
     "metadata": {},
     "output_type": "display_data"
    },
    {
     "data": {
      "text/html": [
       "\n",
       "    <div>\n",
       "      <progress value='0' class='' max='14687' style='width:300px; height:20px; vertical-align: middle;'></progress>\n",
       "      0.00% [0/14687 00:00&lt;?]\n",
       "    </div>\n",
       "    "
      ],
      "text/plain": [
       "<IPython.core.display.HTML object>"
      ]
     },
     "metadata": {},
     "output_type": "display_data"
    },
    {
     "name": "stdout",
     "output_type": "stream",
     "text": [
      "img_batch stats: min=-0.977, max=0.935, mean=0.144, std=0.574\n",
      "NaN detected in latents\n",
      "NaN detected after VAE encoding\n"
     ]
    },
    {
     "data": {
      "text/html": [
       "\n",
       "<style>\n",
       "    /* Turns off some styling */\n",
       "    progress {\n",
       "        /* gets rid of default border in Firefox and Opera. */\n",
       "        border: none;\n",
       "        /* Needs to be in here for Safari polyfill so background images work as expected. */\n",
       "        background-size: auto;\n",
       "    }\n",
       "    progress:not([value]), progress:not([value])::-webkit-progress-bar {\n",
       "        background: repeating-linear-gradient(45deg, #7e7e7e, #7e7e7e 10px, #5c5c5c 10px, #5c5c5c 20px);\n",
       "    }\n",
       "    .progress-bar-interrupted, .progress-bar-interrupted::-webkit-progress-bar {\n",
       "        background: #F44336;\n",
       "    }\n",
       "</style>\n"
      ],
      "text/plain": [
       "<IPython.core.display.HTML object>"
      ]
     },
     "metadata": {},
     "output_type": "display_data"
    },
    {
     "data": {
      "text/html": [
       "\n",
       "    <div>\n",
       "      <progress value='0' class='' max='14687' style='width:300px; height:20px; vertical-align: middle;'></progress>\n",
       "      0.00% [0/14687 00:00&lt;?]\n",
       "    </div>\n",
       "    "
      ],
      "text/plain": [
       "<IPython.core.display.HTML object>"
      ]
     },
     "metadata": {},
     "output_type": "display_data"
    },
    {
     "name": "stdout",
     "output_type": "stream",
     "text": [
      "img_batch stats: min=-0.978, max=0.921, mean=0.098, std=0.616\n",
      "NaN detected in latents\n",
      "NaN detected after VAE encoding\n"
     ]
    },
    {
     "data": {
      "text/html": [
       "\n",
       "<style>\n",
       "    /* Turns off some styling */\n",
       "    progress {\n",
       "        /* gets rid of default border in Firefox and Opera. */\n",
       "        border: none;\n",
       "        /* Needs to be in here for Safari polyfill so background images work as expected. */\n",
       "        background-size: auto;\n",
       "    }\n",
       "    progress:not([value]), progress:not([value])::-webkit-progress-bar {\n",
       "        background: repeating-linear-gradient(45deg, #7e7e7e, #7e7e7e 10px, #5c5c5c 10px, #5c5c5c 20px);\n",
       "    }\n",
       "    .progress-bar-interrupted, .progress-bar-interrupted::-webkit-progress-bar {\n",
       "        background: #F44336;\n",
       "    }\n",
       "</style>\n"
      ],
      "text/plain": [
       "<IPython.core.display.HTML object>"
      ]
     },
     "metadata": {},
     "output_type": "display_data"
    },
    {
     "data": {
      "text/html": [
       "\n",
       "    <div>\n",
       "      <progress value='0' class='' max='14687' style='width:300px; height:20px; vertical-align: middle;'></progress>\n",
       "      0.00% [0/14687 00:00&lt;?]\n",
       "    </div>\n",
       "    "
      ],
      "text/plain": [
       "<IPython.core.display.HTML object>"
      ]
     },
     "metadata": {},
     "output_type": "display_data"
    },
    {
     "name": "stdout",
     "output_type": "stream",
     "text": [
      "img_batch stats: min=-0.941, max=0.938, mean=0.178, std=0.579\n",
      "NaN detected in latents\n",
      "NaN detected after VAE encoding\n"
     ]
    },
    {
     "data": {
      "text/html": [
       "\n",
       "<style>\n",
       "    /* Turns off some styling */\n",
       "    progress {\n",
       "        /* gets rid of default border in Firefox and Opera. */\n",
       "        border: none;\n",
       "        /* Needs to be in here for Safari polyfill so background images work as expected. */\n",
       "        background-size: auto;\n",
       "    }\n",
       "    progress:not([value]), progress:not([value])::-webkit-progress-bar {\n",
       "        background: repeating-linear-gradient(45deg, #7e7e7e, #7e7e7e 10px, #5c5c5c 10px, #5c5c5c 20px);\n",
       "    }\n",
       "    .progress-bar-interrupted, .progress-bar-interrupted::-webkit-progress-bar {\n",
       "        background: #F44336;\n",
       "    }\n",
       "</style>\n"
      ],
      "text/plain": [
       "<IPython.core.display.HTML object>"
      ]
     },
     "metadata": {},
     "output_type": "display_data"
    },
    {
     "data": {
      "text/html": [
       "\n",
       "    <div>\n",
       "      <progress value='0' class='' max='14687' style='width:300px; height:20px; vertical-align: middle;'></progress>\n",
       "      0.00% [0/14687 00:00&lt;?]\n",
       "    </div>\n",
       "    "
      ],
      "text/plain": [
       "<IPython.core.display.HTML object>"
      ]
     },
     "metadata": {},
     "output_type": "display_data"
    },
    {
     "name": "stdout",
     "output_type": "stream",
     "text": [
      "img_batch stats: min=-0.977, max=0.919, mean=0.117, std=0.671\n",
      "NaN detected in latents\n",
      "NaN detected after VAE encoding\n"
     ]
    },
    {
     "data": {
      "text/html": [
       "\n",
       "<style>\n",
       "    /* Turns off some styling */\n",
       "    progress {\n",
       "        /* gets rid of default border in Firefox and Opera. */\n",
       "        border: none;\n",
       "        /* Needs to be in here for Safari polyfill so background images work as expected. */\n",
       "        background-size: auto;\n",
       "    }\n",
       "    progress:not([value]), progress:not([value])::-webkit-progress-bar {\n",
       "        background: repeating-linear-gradient(45deg, #7e7e7e, #7e7e7e 10px, #5c5c5c 10px, #5c5c5c 20px);\n",
       "    }\n",
       "    .progress-bar-interrupted, .progress-bar-interrupted::-webkit-progress-bar {\n",
       "        background: #F44336;\n",
       "    }\n",
       "</style>\n"
      ],
      "text/plain": [
       "<IPython.core.display.HTML object>"
      ]
     },
     "metadata": {},
     "output_type": "display_data"
    },
    {
     "data": {
      "text/html": [
       "\n",
       "    <div>\n",
       "      <progress value='0' class='' max='14687' style='width:300px; height:20px; vertical-align: middle;'></progress>\n",
       "      0.00% [0/14687 00:00&lt;?]\n",
       "    </div>\n",
       "    "
      ],
      "text/plain": [
       "<IPython.core.display.HTML object>"
      ]
     },
     "metadata": {},
     "output_type": "display_data"
    },
    {
     "name": "stdout",
     "output_type": "stream",
     "text": [
      "img_batch stats: min=-0.978, max=0.902, mean=0.066, std=0.660\n",
      "NaN detected in latents\n",
      "NaN detected after VAE encoding\n"
     ]
    },
    {
     "data": {
      "text/html": [
       "\n",
       "<style>\n",
       "    /* Turns off some styling */\n",
       "    progress {\n",
       "        /* gets rid of default border in Firefox and Opera. */\n",
       "        border: none;\n",
       "        /* Needs to be in here for Safari polyfill so background images work as expected. */\n",
       "        background-size: auto;\n",
       "    }\n",
       "    progress:not([value]), progress:not([value])::-webkit-progress-bar {\n",
       "        background: repeating-linear-gradient(45deg, #7e7e7e, #7e7e7e 10px, #5c5c5c 10px, #5c5c5c 20px);\n",
       "    }\n",
       "    .progress-bar-interrupted, .progress-bar-interrupted::-webkit-progress-bar {\n",
       "        background: #F44336;\n",
       "    }\n",
       "</style>\n"
      ],
      "text/plain": [
       "<IPython.core.display.HTML object>"
      ]
     },
     "metadata": {},
     "output_type": "display_data"
    },
    {
     "data": {
      "text/html": [
       "\n",
       "    <div>\n",
       "      <progress value='0' class='' max='14687' style='width:300px; height:20px; vertical-align: middle;'></progress>\n",
       "      0.00% [0/14687 00:00&lt;?]\n",
       "    </div>\n",
       "    "
      ],
      "text/plain": [
       "<IPython.core.display.HTML object>"
      ]
     },
     "metadata": {},
     "output_type": "display_data"
    },
    {
     "name": "stdout",
     "output_type": "stream",
     "text": [
      "img_batch stats: min=-0.942, max=0.935, mean=0.147, std=0.526\n",
      "NaN detected in latents\n",
      "NaN detected after VAE encoding\n"
     ]
    },
    {
     "data": {
      "text/html": [
       "\n",
       "<style>\n",
       "    /* Turns off some styling */\n",
       "    progress {\n",
       "        /* gets rid of default border in Firefox and Opera. */\n",
       "        border: none;\n",
       "        /* Needs to be in here for Safari polyfill so background images work as expected. */\n",
       "        background-size: auto;\n",
       "    }\n",
       "    progress:not([value]), progress:not([value])::-webkit-progress-bar {\n",
       "        background: repeating-linear-gradient(45deg, #7e7e7e, #7e7e7e 10px, #5c5c5c 10px, #5c5c5c 20px);\n",
       "    }\n",
       "    .progress-bar-interrupted, .progress-bar-interrupted::-webkit-progress-bar {\n",
       "        background: #F44336;\n",
       "    }\n",
       "</style>\n"
      ],
      "text/plain": [
       "<IPython.core.display.HTML object>"
      ]
     },
     "metadata": {},
     "output_type": "display_data"
    },
    {
     "data": {
      "text/html": [
       "\n",
       "    <div>\n",
       "      <progress value='0' class='' max='14687' style='width:300px; height:20px; vertical-align: middle;'></progress>\n",
       "      0.00% [0/14687 00:00&lt;?]\n",
       "    </div>\n",
       "    "
      ],
      "text/plain": [
       "<IPython.core.display.HTML object>"
      ]
     },
     "metadata": {},
     "output_type": "display_data"
    },
    {
     "name": "stdout",
     "output_type": "stream",
     "text": [
      "img_batch stats: min=-0.977, max=1.000, mean=0.124, std=0.637\n",
      "NaN detected in latents\n",
      "NaN detected after VAE encoding\n"
     ]
    },
    {
     "data": {
      "text/html": [
       "\n",
       "<style>\n",
       "    /* Turns off some styling */\n",
       "    progress {\n",
       "        /* gets rid of default border in Firefox and Opera. */\n",
       "        border: none;\n",
       "        /* Needs to be in here for Safari polyfill so background images work as expected. */\n",
       "        background-size: auto;\n",
       "    }\n",
       "    progress:not([value]), progress:not([value])::-webkit-progress-bar {\n",
       "        background: repeating-linear-gradient(45deg, #7e7e7e, #7e7e7e 10px, #5c5c5c 10px, #5c5c5c 20px);\n",
       "    }\n",
       "    .progress-bar-interrupted, .progress-bar-interrupted::-webkit-progress-bar {\n",
       "        background: #F44336;\n",
       "    }\n",
       "</style>\n"
      ],
      "text/plain": [
       "<IPython.core.display.HTML object>"
      ]
     },
     "metadata": {},
     "output_type": "display_data"
    },
    {
     "data": {
      "text/html": [
       "\n",
       "    <div>\n",
       "      <progress value='0' class='' max='14687' style='width:300px; height:20px; vertical-align: middle;'></progress>\n",
       "      0.00% [0/14687 00:00&lt;?]\n",
       "    </div>\n",
       "    "
      ],
      "text/plain": [
       "<IPython.core.display.HTML object>"
      ]
     },
     "metadata": {},
     "output_type": "display_data"
    },
    {
     "name": "stdout",
     "output_type": "stream",
     "text": [
      "img_batch stats: min=-0.940, max=0.932, mean=0.128, std=0.519\n",
      "NaN detected in latents\n",
      "NaN detected after VAE encoding\n"
     ]
    },
    {
     "data": {
      "text/html": [
       "\n",
       "<style>\n",
       "    /* Turns off some styling */\n",
       "    progress {\n",
       "        /* gets rid of default border in Firefox and Opera. */\n",
       "        border: none;\n",
       "        /* Needs to be in here for Safari polyfill so background images work as expected. */\n",
       "        background-size: auto;\n",
       "    }\n",
       "    progress:not([value]), progress:not([value])::-webkit-progress-bar {\n",
       "        background: repeating-linear-gradient(45deg, #7e7e7e, #7e7e7e 10px, #5c5c5c 10px, #5c5c5c 20px);\n",
       "    }\n",
       "    .progress-bar-interrupted, .progress-bar-interrupted::-webkit-progress-bar {\n",
       "        background: #F44336;\n",
       "    }\n",
       "</style>\n"
      ],
      "text/plain": [
       "<IPython.core.display.HTML object>"
      ]
     },
     "metadata": {},
     "output_type": "display_data"
    },
    {
     "data": {
      "text/html": [
       "\n",
       "    <div>\n",
       "      <progress value='0' class='' max='14687' style='width:300px; height:20px; vertical-align: middle;'></progress>\n",
       "      0.00% [0/14687 00:00&lt;?]\n",
       "    </div>\n",
       "    "
      ],
      "text/plain": [
       "<IPython.core.display.HTML object>"
      ]
     },
     "metadata": {},
     "output_type": "display_data"
    },
    {
     "name": "stdout",
     "output_type": "stream",
     "text": [
      "img_batch stats: min=-0.977, max=0.885, mean=0.002, std=0.648\n",
      "NaN detected in latents\n",
      "NaN detected after VAE encoding\n"
     ]
    },
    {
     "data": {
      "text/html": [
       "\n",
       "<style>\n",
       "    /* Turns off some styling */\n",
       "    progress {\n",
       "        /* gets rid of default border in Firefox and Opera. */\n",
       "        border: none;\n",
       "        /* Needs to be in here for Safari polyfill so background images work as expected. */\n",
       "        background-size: auto;\n",
       "    }\n",
       "    progress:not([value]), progress:not([value])::-webkit-progress-bar {\n",
       "        background: repeating-linear-gradient(45deg, #7e7e7e, #7e7e7e 10px, #5c5c5c 10px, #5c5c5c 20px);\n",
       "    }\n",
       "    .progress-bar-interrupted, .progress-bar-interrupted::-webkit-progress-bar {\n",
       "        background: #F44336;\n",
       "    }\n",
       "</style>\n"
      ],
      "text/plain": [
       "<IPython.core.display.HTML object>"
      ]
     },
     "metadata": {},
     "output_type": "display_data"
    },
    {
     "data": {
      "text/html": [
       "\n",
       "    <div>\n",
       "      <progress value='0' class='' max='14687' style='width:300px; height:20px; vertical-align: middle;'></progress>\n",
       "      0.00% [0/14687 00:00&lt;?]\n",
       "    </div>\n",
       "    "
      ],
      "text/plain": [
       "<IPython.core.display.HTML object>"
      ]
     },
     "metadata": {},
     "output_type": "display_data"
    },
    {
     "name": "stdout",
     "output_type": "stream",
     "text": [
      "img_batch stats: min=-0.971, max=0.935, mean=0.114, std=0.549\n",
      "NaN detected in latents\n",
      "NaN detected after VAE encoding\n"
     ]
    },
    {
     "data": {
      "text/html": [
       "\n",
       "<style>\n",
       "    /* Turns off some styling */\n",
       "    progress {\n",
       "        /* gets rid of default border in Firefox and Opera. */\n",
       "        border: none;\n",
       "        /* Needs to be in here for Safari polyfill so background images work as expected. */\n",
       "        background-size: auto;\n",
       "    }\n",
       "    progress:not([value]), progress:not([value])::-webkit-progress-bar {\n",
       "        background: repeating-linear-gradient(45deg, #7e7e7e, #7e7e7e 10px, #5c5c5c 10px, #5c5c5c 20px);\n",
       "    }\n",
       "    .progress-bar-interrupted, .progress-bar-interrupted::-webkit-progress-bar {\n",
       "        background: #F44336;\n",
       "    }\n",
       "</style>\n"
      ],
      "text/plain": [
       "<IPython.core.display.HTML object>"
      ]
     },
     "metadata": {},
     "output_type": "display_data"
    },
    {
     "data": {
      "text/html": [
       "\n",
       "    <div>\n",
       "      <progress value='0' class='' max='14687' style='width:300px; height:20px; vertical-align: middle;'></progress>\n",
       "      0.00% [0/14687 00:00&lt;?]\n",
       "    </div>\n",
       "    "
      ],
      "text/plain": [
       "<IPython.core.display.HTML object>"
      ]
     },
     "metadata": {},
     "output_type": "display_data"
    },
    {
     "name": "stdout",
     "output_type": "stream",
     "text": [
      "img_batch stats: min=-0.955, max=0.951, mean=0.180, std=0.584\n",
      "NaN detected in latents\n",
      "NaN detected after VAE encoding\n"
     ]
    },
    {
     "data": {
      "text/html": [
       "\n",
       "<style>\n",
       "    /* Turns off some styling */\n",
       "    progress {\n",
       "        /* gets rid of default border in Firefox and Opera. */\n",
       "        border: none;\n",
       "        /* Needs to be in here for Safari polyfill so background images work as expected. */\n",
       "        background-size: auto;\n",
       "    }\n",
       "    progress:not([value]), progress:not([value])::-webkit-progress-bar {\n",
       "        background: repeating-linear-gradient(45deg, #7e7e7e, #7e7e7e 10px, #5c5c5c 10px, #5c5c5c 20px);\n",
       "    }\n",
       "    .progress-bar-interrupted, .progress-bar-interrupted::-webkit-progress-bar {\n",
       "        background: #F44336;\n",
       "    }\n",
       "</style>\n"
      ],
      "text/plain": [
       "<IPython.core.display.HTML object>"
      ]
     },
     "metadata": {},
     "output_type": "display_data"
    },
    {
     "data": {
      "text/html": [
       "\n",
       "    <div>\n",
       "      <progress value='0' class='' max='14687' style='width:300px; height:20px; vertical-align: middle;'></progress>\n",
       "      0.00% [0/14687 00:00&lt;?]\n",
       "    </div>\n",
       "    "
      ],
      "text/plain": [
       "<IPython.core.display.HTML object>"
      ]
     },
     "metadata": {},
     "output_type": "display_data"
    },
    {
     "name": "stdout",
     "output_type": "stream",
     "text": [
      "img_batch stats: min=-0.962, max=0.912, mean=0.142, std=0.605\n",
      "NaN detected in latents\n",
      "NaN detected after VAE encoding\n"
     ]
    },
    {
     "data": {
      "text/html": [
       "\n",
       "<style>\n",
       "    /* Turns off some styling */\n",
       "    progress {\n",
       "        /* gets rid of default border in Firefox and Opera. */\n",
       "        border: none;\n",
       "        /* Needs to be in here for Safari polyfill so background images work as expected. */\n",
       "        background-size: auto;\n",
       "    }\n",
       "    progress:not([value]), progress:not([value])::-webkit-progress-bar {\n",
       "        background: repeating-linear-gradient(45deg, #7e7e7e, #7e7e7e 10px, #5c5c5c 10px, #5c5c5c 20px);\n",
       "    }\n",
       "    .progress-bar-interrupted, .progress-bar-interrupted::-webkit-progress-bar {\n",
       "        background: #F44336;\n",
       "    }\n",
       "</style>\n"
      ],
      "text/plain": [
       "<IPython.core.display.HTML object>"
      ]
     },
     "metadata": {},
     "output_type": "display_data"
    },
    {
     "data": {
      "text/html": [
       "\n",
       "    <div>\n",
       "      <progress value='0' class='' max='14687' style='width:300px; height:20px; vertical-align: middle;'></progress>\n",
       "      0.00% [0/14687 00:00&lt;?]\n",
       "    </div>\n",
       "    "
      ],
      "text/plain": [
       "<IPython.core.display.HTML object>"
      ]
     },
     "metadata": {},
     "output_type": "display_data"
    },
    {
     "name": "stdout",
     "output_type": "stream",
     "text": [
      "img_batch stats: min=-0.961, max=0.974, mean=0.182, std=0.550\n",
      "NaN detected in latents\n",
      "NaN detected after VAE encoding\n"
     ]
    },
    {
     "data": {
      "text/html": [
       "\n",
       "<style>\n",
       "    /* Turns off some styling */\n",
       "    progress {\n",
       "        /* gets rid of default border in Firefox and Opera. */\n",
       "        border: none;\n",
       "        /* Needs to be in here for Safari polyfill so background images work as expected. */\n",
       "        background-size: auto;\n",
       "    }\n",
       "    progress:not([value]), progress:not([value])::-webkit-progress-bar {\n",
       "        background: repeating-linear-gradient(45deg, #7e7e7e, #7e7e7e 10px, #5c5c5c 10px, #5c5c5c 20px);\n",
       "    }\n",
       "    .progress-bar-interrupted, .progress-bar-interrupted::-webkit-progress-bar {\n",
       "        background: #F44336;\n",
       "    }\n",
       "</style>\n"
      ],
      "text/plain": [
       "<IPython.core.display.HTML object>"
      ]
     },
     "metadata": {},
     "output_type": "display_data"
    },
    {
     "data": {
      "text/html": [
       "\n",
       "    <div>\n",
       "      <progress value='0' class='' max='14687' style='width:300px; height:20px; vertical-align: middle;'></progress>\n",
       "      0.00% [0/14687 00:00&lt;?]\n",
       "    </div>\n",
       "    "
      ],
      "text/plain": [
       "<IPython.core.display.HTML object>"
      ]
     },
     "metadata": {},
     "output_type": "display_data"
    },
    {
     "name": "stdout",
     "output_type": "stream",
     "text": [
      "img_batch stats: min=-0.978, max=0.914, mean=0.064, std=0.653\n",
      "NaN detected in latents\n",
      "NaN detected after VAE encoding\n"
     ]
    },
    {
     "data": {
      "text/html": [
       "\n",
       "<style>\n",
       "    /* Turns off some styling */\n",
       "    progress {\n",
       "        /* gets rid of default border in Firefox and Opera. */\n",
       "        border: none;\n",
       "        /* Needs to be in here for Safari polyfill so background images work as expected. */\n",
       "        background-size: auto;\n",
       "    }\n",
       "    progress:not([value]), progress:not([value])::-webkit-progress-bar {\n",
       "        background: repeating-linear-gradient(45deg, #7e7e7e, #7e7e7e 10px, #5c5c5c 10px, #5c5c5c 20px);\n",
       "    }\n",
       "    .progress-bar-interrupted, .progress-bar-interrupted::-webkit-progress-bar {\n",
       "        background: #F44336;\n",
       "    }\n",
       "</style>\n"
      ],
      "text/plain": [
       "<IPython.core.display.HTML object>"
      ]
     },
     "metadata": {},
     "output_type": "display_data"
    },
    {
     "data": {
      "text/html": [
       "\n",
       "    <div>\n",
       "      <progress value='0' class='' max='14687' style='width:300px; height:20px; vertical-align: middle;'></progress>\n",
       "      0.00% [0/14687 00:00&lt;?]\n",
       "    </div>\n",
       "    "
      ],
      "text/plain": [
       "<IPython.core.display.HTML object>"
      ]
     },
     "metadata": {},
     "output_type": "display_data"
    },
    {
     "name": "stdout",
     "output_type": "stream",
     "text": [
      "img_batch stats: min=-0.943, max=0.962, mean=0.103, std=0.548\n",
      "NaN detected in latents\n",
      "NaN detected after VAE encoding\n"
     ]
    },
    {
     "data": {
      "text/html": [
       "\n",
       "<style>\n",
       "    /* Turns off some styling */\n",
       "    progress {\n",
       "        /* gets rid of default border in Firefox and Opera. */\n",
       "        border: none;\n",
       "        /* Needs to be in here for Safari polyfill so background images work as expected. */\n",
       "        background-size: auto;\n",
       "    }\n",
       "    progress:not([value]), progress:not([value])::-webkit-progress-bar {\n",
       "        background: repeating-linear-gradient(45deg, #7e7e7e, #7e7e7e 10px, #5c5c5c 10px, #5c5c5c 20px);\n",
       "    }\n",
       "    .progress-bar-interrupted, .progress-bar-interrupted::-webkit-progress-bar {\n",
       "        background: #F44336;\n",
       "    }\n",
       "</style>\n"
      ],
      "text/plain": [
       "<IPython.core.display.HTML object>"
      ]
     },
     "metadata": {},
     "output_type": "display_data"
    },
    {
     "data": {
      "text/html": [
       "\n",
       "    <div>\n",
       "      <progress value='0' class='' max='14687' style='width:300px; height:20px; vertical-align: middle;'></progress>\n",
       "      0.00% [0/14687 00:00&lt;?]\n",
       "    </div>\n",
       "    "
      ],
      "text/plain": [
       "<IPython.core.display.HTML object>"
      ]
     },
     "metadata": {},
     "output_type": "display_data"
    },
    {
     "name": "stdout",
     "output_type": "stream",
     "text": [
      "img_batch stats: min=-0.936, max=0.930, mean=0.218, std=0.505\n",
      "NaN detected in latents\n",
      "NaN detected after VAE encoding\n"
     ]
    },
    {
     "data": {
      "text/html": [
       "\n",
       "<style>\n",
       "    /* Turns off some styling */\n",
       "    progress {\n",
       "        /* gets rid of default border in Firefox and Opera. */\n",
       "        border: none;\n",
       "        /* Needs to be in here for Safari polyfill so background images work as expected. */\n",
       "        background-size: auto;\n",
       "    }\n",
       "    progress:not([value]), progress:not([value])::-webkit-progress-bar {\n",
       "        background: repeating-linear-gradient(45deg, #7e7e7e, #7e7e7e 10px, #5c5c5c 10px, #5c5c5c 20px);\n",
       "    }\n",
       "    .progress-bar-interrupted, .progress-bar-interrupted::-webkit-progress-bar {\n",
       "        background: #F44336;\n",
       "    }\n",
       "</style>\n"
      ],
      "text/plain": [
       "<IPython.core.display.HTML object>"
      ]
     },
     "metadata": {},
     "output_type": "display_data"
    },
    {
     "data": {
      "text/html": [
       "\n",
       "    <div>\n",
       "      <progress value='0' class='' max='14687' style='width:300px; height:20px; vertical-align: middle;'></progress>\n",
       "      0.00% [0/14687 00:00&lt;?]\n",
       "    </div>\n",
       "    "
      ],
      "text/plain": [
       "<IPython.core.display.HTML object>"
      ]
     },
     "metadata": {},
     "output_type": "display_data"
    },
    {
     "name": "stdout",
     "output_type": "stream",
     "text": [
      "img_batch stats: min=-0.948, max=0.935, mean=0.221, std=0.491\n",
      "NaN detected in latents\n",
      "NaN detected after VAE encoding\n"
     ]
    },
    {
     "data": {
      "text/html": [
       "\n",
       "<style>\n",
       "    /* Turns off some styling */\n",
       "    progress {\n",
       "        /* gets rid of default border in Firefox and Opera. */\n",
       "        border: none;\n",
       "        /* Needs to be in here for Safari polyfill so background images work as expected. */\n",
       "        background-size: auto;\n",
       "    }\n",
       "    progress:not([value]), progress:not([value])::-webkit-progress-bar {\n",
       "        background: repeating-linear-gradient(45deg, #7e7e7e, #7e7e7e 10px, #5c5c5c 10px, #5c5c5c 20px);\n",
       "    }\n",
       "    .progress-bar-interrupted, .progress-bar-interrupted::-webkit-progress-bar {\n",
       "        background: #F44336;\n",
       "    }\n",
       "</style>\n"
      ],
      "text/plain": [
       "<IPython.core.display.HTML object>"
      ]
     },
     "metadata": {},
     "output_type": "display_data"
    },
    {
     "data": {
      "text/html": [
       "\n",
       "    <div>\n",
       "      <progress value='0' class='' max='14687' style='width:300px; height:20px; vertical-align: middle;'></progress>\n",
       "      0.00% [0/14687 00:00&lt;?]\n",
       "    </div>\n",
       "    "
      ],
      "text/plain": [
       "<IPython.core.display.HTML object>"
      ]
     },
     "metadata": {},
     "output_type": "display_data"
    },
    {
     "name": "stdout",
     "output_type": "stream",
     "text": [
      "img_batch stats: min=-0.977, max=0.909, mean=0.056, std=0.644\n",
      "NaN detected in latents\n",
      "NaN detected after VAE encoding\n"
     ]
    },
    {
     "data": {
      "text/html": [
       "\n",
       "<style>\n",
       "    /* Turns off some styling */\n",
       "    progress {\n",
       "        /* gets rid of default border in Firefox and Opera. */\n",
       "        border: none;\n",
       "        /* Needs to be in here for Safari polyfill so background images work as expected. */\n",
       "        background-size: auto;\n",
       "    }\n",
       "    progress:not([value]), progress:not([value])::-webkit-progress-bar {\n",
       "        background: repeating-linear-gradient(45deg, #7e7e7e, #7e7e7e 10px, #5c5c5c 10px, #5c5c5c 20px);\n",
       "    }\n",
       "    .progress-bar-interrupted, .progress-bar-interrupted::-webkit-progress-bar {\n",
       "        background: #F44336;\n",
       "    }\n",
       "</style>\n"
      ],
      "text/plain": [
       "<IPython.core.display.HTML object>"
      ]
     },
     "metadata": {},
     "output_type": "display_data"
    },
    {
     "data": {
      "text/html": [
       "\n",
       "    <div>\n",
       "      <progress value='0' class='' max='14687' style='width:300px; height:20px; vertical-align: middle;'></progress>\n",
       "      0.00% [0/14687 00:00&lt;?]\n",
       "    </div>\n",
       "    "
      ],
      "text/plain": [
       "<IPython.core.display.HTML object>"
      ]
     },
     "metadata": {},
     "output_type": "display_data"
    },
    {
     "name": "stdout",
     "output_type": "stream",
     "text": [
      "img_batch stats: min=-0.977, max=0.897, mean=0.040, std=0.659\n",
      "NaN detected in latents\n",
      "NaN detected after VAE encoding\n"
     ]
    },
    {
     "data": {
      "text/html": [
       "\n",
       "<style>\n",
       "    /* Turns off some styling */\n",
       "    progress {\n",
       "        /* gets rid of default border in Firefox and Opera. */\n",
       "        border: none;\n",
       "        /* Needs to be in here for Safari polyfill so background images work as expected. */\n",
       "        background-size: auto;\n",
       "    }\n",
       "    progress:not([value]), progress:not([value])::-webkit-progress-bar {\n",
       "        background: repeating-linear-gradient(45deg, #7e7e7e, #7e7e7e 10px, #5c5c5c 10px, #5c5c5c 20px);\n",
       "    }\n",
       "    .progress-bar-interrupted, .progress-bar-interrupted::-webkit-progress-bar {\n",
       "        background: #F44336;\n",
       "    }\n",
       "</style>\n"
      ],
      "text/plain": [
       "<IPython.core.display.HTML object>"
      ]
     },
     "metadata": {},
     "output_type": "display_data"
    },
    {
     "data": {
      "text/html": [
       "\n",
       "    <div>\n",
       "      <progress value='0' class='' max='14687' style='width:300px; height:20px; vertical-align: middle;'></progress>\n",
       "      0.00% [0/14687 00:00&lt;?]\n",
       "    </div>\n",
       "    "
      ],
      "text/plain": [
       "<IPython.core.display.HTML object>"
      ]
     },
     "metadata": {},
     "output_type": "display_data"
    },
    {
     "name": "stdout",
     "output_type": "stream",
     "text": [
      "img_batch stats: min=-0.977, max=0.919, mean=0.076, std=0.673\n",
      "NaN detected in latents\n",
      "NaN detected after VAE encoding\n"
     ]
    },
    {
     "data": {
      "text/html": [
       "\n",
       "<style>\n",
       "    /* Turns off some styling */\n",
       "    progress {\n",
       "        /* gets rid of default border in Firefox and Opera. */\n",
       "        border: none;\n",
       "        /* Needs to be in here for Safari polyfill so background images work as expected. */\n",
       "        background-size: auto;\n",
       "    }\n",
       "    progress:not([value]), progress:not([value])::-webkit-progress-bar {\n",
       "        background: repeating-linear-gradient(45deg, #7e7e7e, #7e7e7e 10px, #5c5c5c 10px, #5c5c5c 20px);\n",
       "    }\n",
       "    .progress-bar-interrupted, .progress-bar-interrupted::-webkit-progress-bar {\n",
       "        background: #F44336;\n",
       "    }\n",
       "</style>\n"
      ],
      "text/plain": [
       "<IPython.core.display.HTML object>"
      ]
     },
     "metadata": {},
     "output_type": "display_data"
    },
    {
     "data": {
      "text/html": [
       "\n",
       "    <div>\n",
       "      <progress value='0' class='' max='14687' style='width:300px; height:20px; vertical-align: middle;'></progress>\n",
       "      0.00% [0/14687 00:00&lt;?]\n",
       "    </div>\n",
       "    "
      ],
      "text/plain": [
       "<IPython.core.display.HTML object>"
      ]
     },
     "metadata": {},
     "output_type": "display_data"
    },
    {
     "name": "stdout",
     "output_type": "stream",
     "text": [
      "img_batch stats: min=-0.977, max=0.923, mean=0.088, std=0.591\n",
      "NaN detected in latents\n",
      "NaN detected after VAE encoding\n"
     ]
    },
    {
     "data": {
      "text/html": [
       "\n",
       "<style>\n",
       "    /* Turns off some styling */\n",
       "    progress {\n",
       "        /* gets rid of default border in Firefox and Opera. */\n",
       "        border: none;\n",
       "        /* Needs to be in here for Safari polyfill so background images work as expected. */\n",
       "        background-size: auto;\n",
       "    }\n",
       "    progress:not([value]), progress:not([value])::-webkit-progress-bar {\n",
       "        background: repeating-linear-gradient(45deg, #7e7e7e, #7e7e7e 10px, #5c5c5c 10px, #5c5c5c 20px);\n",
       "    }\n",
       "    .progress-bar-interrupted, .progress-bar-interrupted::-webkit-progress-bar {\n",
       "        background: #F44336;\n",
       "    }\n",
       "</style>\n"
      ],
      "text/plain": [
       "<IPython.core.display.HTML object>"
      ]
     },
     "metadata": {},
     "output_type": "display_data"
    },
    {
     "data": {
      "text/html": [
       "\n",
       "    <div>\n",
       "      <progress value='0' class='' max='14687' style='width:300px; height:20px; vertical-align: middle;'></progress>\n",
       "      0.00% [0/14687 00:00&lt;?]\n",
       "    </div>\n",
       "    "
      ],
      "text/plain": [
       "<IPython.core.display.HTML object>"
      ]
     },
     "metadata": {},
     "output_type": "display_data"
    },
    {
     "name": "stdout",
     "output_type": "stream",
     "text": [
      "img_batch stats: min=-0.978, max=0.929, mean=0.148, std=0.609\n",
      "NaN detected in latents\n",
      "NaN detected after VAE encoding\n"
     ]
    },
    {
     "data": {
      "text/html": [
       "\n",
       "<style>\n",
       "    /* Turns off some styling */\n",
       "    progress {\n",
       "        /* gets rid of default border in Firefox and Opera. */\n",
       "        border: none;\n",
       "        /* Needs to be in here for Safari polyfill so background images work as expected. */\n",
       "        background-size: auto;\n",
       "    }\n",
       "    progress:not([value]), progress:not([value])::-webkit-progress-bar {\n",
       "        background: repeating-linear-gradient(45deg, #7e7e7e, #7e7e7e 10px, #5c5c5c 10px, #5c5c5c 20px);\n",
       "    }\n",
       "    .progress-bar-interrupted, .progress-bar-interrupted::-webkit-progress-bar {\n",
       "        background: #F44336;\n",
       "    }\n",
       "</style>\n"
      ],
      "text/plain": [
       "<IPython.core.display.HTML object>"
      ]
     },
     "metadata": {},
     "output_type": "display_data"
    },
    {
     "data": {
      "text/html": [
       "\n",
       "    <div>\n",
       "      <progress value='0' class='' max='14687' style='width:300px; height:20px; vertical-align: middle;'></progress>\n",
       "      0.00% [0/14687 00:00&lt;?]\n",
       "    </div>\n",
       "    "
      ],
      "text/plain": [
       "<IPython.core.display.HTML object>"
      ]
     },
     "metadata": {},
     "output_type": "display_data"
    },
    {
     "name": "stdout",
     "output_type": "stream",
     "text": [
      "img_batch stats: min=-0.943, max=0.942, mean=0.217, std=0.540\n",
      "NaN detected in latents\n",
      "NaN detected after VAE encoding\n"
     ]
    },
    {
     "data": {
      "text/html": [
       "\n",
       "<style>\n",
       "    /* Turns off some styling */\n",
       "    progress {\n",
       "        /* gets rid of default border in Firefox and Opera. */\n",
       "        border: none;\n",
       "        /* Needs to be in here for Safari polyfill so background images work as expected. */\n",
       "        background-size: auto;\n",
       "    }\n",
       "    progress:not([value]), progress:not([value])::-webkit-progress-bar {\n",
       "        background: repeating-linear-gradient(45deg, #7e7e7e, #7e7e7e 10px, #5c5c5c 10px, #5c5c5c 20px);\n",
       "    }\n",
       "    .progress-bar-interrupted, .progress-bar-interrupted::-webkit-progress-bar {\n",
       "        background: #F44336;\n",
       "    }\n",
       "</style>\n"
      ],
      "text/plain": [
       "<IPython.core.display.HTML object>"
      ]
     },
     "metadata": {},
     "output_type": "display_data"
    },
    {
     "data": {
      "text/html": [
       "\n",
       "    <div>\n",
       "      <progress value='0' class='' max='14687' style='width:300px; height:20px; vertical-align: middle;'></progress>\n",
       "      0.00% [0/14687 00:00&lt;?]\n",
       "    </div>\n",
       "    "
      ],
      "text/plain": [
       "<IPython.core.display.HTML object>"
      ]
     },
     "metadata": {},
     "output_type": "display_data"
    },
    {
     "name": "stdout",
     "output_type": "stream",
     "text": [
      "img_batch stats: min=-0.978, max=0.922, mean=0.157, std=0.583\n",
      "NaN detected in latents\n",
      "NaN detected after VAE encoding\n"
     ]
    },
    {
     "data": {
      "text/html": [
       "\n",
       "<style>\n",
       "    /* Turns off some styling */\n",
       "    progress {\n",
       "        /* gets rid of default border in Firefox and Opera. */\n",
       "        border: none;\n",
       "        /* Needs to be in here for Safari polyfill so background images work as expected. */\n",
       "        background-size: auto;\n",
       "    }\n",
       "    progress:not([value]), progress:not([value])::-webkit-progress-bar {\n",
       "        background: repeating-linear-gradient(45deg, #7e7e7e, #7e7e7e 10px, #5c5c5c 10px, #5c5c5c 20px);\n",
       "    }\n",
       "    .progress-bar-interrupted, .progress-bar-interrupted::-webkit-progress-bar {\n",
       "        background: #F44336;\n",
       "    }\n",
       "</style>\n"
      ],
      "text/plain": [
       "<IPython.core.display.HTML object>"
      ]
     },
     "metadata": {},
     "output_type": "display_data"
    },
    {
     "data": {
      "text/html": [
       "\n",
       "    <div>\n",
       "      <progress value='0' class='' max='14687' style='width:300px; height:20px; vertical-align: middle;'></progress>\n",
       "      0.00% [0/14687 00:00&lt;?]\n",
       "    </div>\n",
       "    "
      ],
      "text/plain": [
       "<IPython.core.display.HTML object>"
      ]
     },
     "metadata": {},
     "output_type": "display_data"
    },
    {
     "name": "stdout",
     "output_type": "stream",
     "text": [
      "img_batch stats: min=-0.977, max=0.914, mean=0.079, std=0.639\n",
      "NaN detected in latents\n",
      "NaN detected after VAE encoding\n"
     ]
    },
    {
     "data": {
      "text/html": [
       "\n",
       "<style>\n",
       "    /* Turns off some styling */\n",
       "    progress {\n",
       "        /* gets rid of default border in Firefox and Opera. */\n",
       "        border: none;\n",
       "        /* Needs to be in here for Safari polyfill so background images work as expected. */\n",
       "        background-size: auto;\n",
       "    }\n",
       "    progress:not([value]), progress:not([value])::-webkit-progress-bar {\n",
       "        background: repeating-linear-gradient(45deg, #7e7e7e, #7e7e7e 10px, #5c5c5c 10px, #5c5c5c 20px);\n",
       "    }\n",
       "    .progress-bar-interrupted, .progress-bar-interrupted::-webkit-progress-bar {\n",
       "        background: #F44336;\n",
       "    }\n",
       "</style>\n"
      ],
      "text/plain": [
       "<IPython.core.display.HTML object>"
      ]
     },
     "metadata": {},
     "output_type": "display_data"
    },
    {
     "data": {
      "text/html": [
       "\n",
       "    <div>\n",
       "      <progress value='0' class='' max='14687' style='width:300px; height:20px; vertical-align: middle;'></progress>\n",
       "      0.00% [0/14687 00:00&lt;?]\n",
       "    </div>\n",
       "    "
      ],
      "text/plain": [
       "<IPython.core.display.HTML object>"
      ]
     },
     "metadata": {},
     "output_type": "display_data"
    },
    {
     "name": "stdout",
     "output_type": "stream",
     "text": [
      "img_batch stats: min=-0.944, max=0.955, mean=0.175, std=0.553\n",
      "NaN detected in latents\n",
      "NaN detected after VAE encoding\n"
     ]
    },
    {
     "data": {
      "text/html": [
       "\n",
       "<style>\n",
       "    /* Turns off some styling */\n",
       "    progress {\n",
       "        /* gets rid of default border in Firefox and Opera. */\n",
       "        border: none;\n",
       "        /* Needs to be in here for Safari polyfill so background images work as expected. */\n",
       "        background-size: auto;\n",
       "    }\n",
       "    progress:not([value]), progress:not([value])::-webkit-progress-bar {\n",
       "        background: repeating-linear-gradient(45deg, #7e7e7e, #7e7e7e 10px, #5c5c5c 10px, #5c5c5c 20px);\n",
       "    }\n",
       "    .progress-bar-interrupted, .progress-bar-interrupted::-webkit-progress-bar {\n",
       "        background: #F44336;\n",
       "    }\n",
       "</style>\n"
      ],
      "text/plain": [
       "<IPython.core.display.HTML object>"
      ]
     },
     "metadata": {},
     "output_type": "display_data"
    },
    {
     "data": {
      "text/html": [
       "\n",
       "    <div>\n",
       "      <progress value='0' class='' max='14687' style='width:300px; height:20px; vertical-align: middle;'></progress>\n",
       "      0.00% [0/14687 00:00&lt;?]\n",
       "    </div>\n",
       "    "
      ],
      "text/plain": [
       "<IPython.core.display.HTML object>"
      ]
     },
     "metadata": {},
     "output_type": "display_data"
    },
    {
     "name": "stdout",
     "output_type": "stream",
     "text": [
      "img_batch stats: min=-0.935, max=0.947, mean=0.249, std=0.483\n",
      "NaN detected in latents\n",
      "NaN detected after VAE encoding\n"
     ]
    },
    {
     "data": {
      "text/html": [
       "\n",
       "<style>\n",
       "    /* Turns off some styling */\n",
       "    progress {\n",
       "        /* gets rid of default border in Firefox and Opera. */\n",
       "        border: none;\n",
       "        /* Needs to be in here for Safari polyfill so background images work as expected. */\n",
       "        background-size: auto;\n",
       "    }\n",
       "    progress:not([value]), progress:not([value])::-webkit-progress-bar {\n",
       "        background: repeating-linear-gradient(45deg, #7e7e7e, #7e7e7e 10px, #5c5c5c 10px, #5c5c5c 20px);\n",
       "    }\n",
       "    .progress-bar-interrupted, .progress-bar-interrupted::-webkit-progress-bar {\n",
       "        background: #F44336;\n",
       "    }\n",
       "</style>\n"
      ],
      "text/plain": [
       "<IPython.core.display.HTML object>"
      ]
     },
     "metadata": {},
     "output_type": "display_data"
    },
    {
     "data": {
      "text/html": [
       "\n",
       "    <div>\n",
       "      <progress value='0' class='' max='14687' style='width:300px; height:20px; vertical-align: middle;'></progress>\n",
       "      0.00% [0/14687 00:00&lt;?]\n",
       "    </div>\n",
       "    "
      ],
      "text/plain": [
       "<IPython.core.display.HTML object>"
      ]
     },
     "metadata": {},
     "output_type": "display_data"
    },
    {
     "name": "stdout",
     "output_type": "stream",
     "text": [
      "img_batch stats: min=-0.977, max=0.940, mean=0.136, std=0.570\n",
      "NaN detected in latents\n",
      "NaN detected after VAE encoding\n"
     ]
    },
    {
     "data": {
      "text/html": [
       "\n",
       "<style>\n",
       "    /* Turns off some styling */\n",
       "    progress {\n",
       "        /* gets rid of default border in Firefox and Opera. */\n",
       "        border: none;\n",
       "        /* Needs to be in here for Safari polyfill so background images work as expected. */\n",
       "        background-size: auto;\n",
       "    }\n",
       "    progress:not([value]), progress:not([value])::-webkit-progress-bar {\n",
       "        background: repeating-linear-gradient(45deg, #7e7e7e, #7e7e7e 10px, #5c5c5c 10px, #5c5c5c 20px);\n",
       "    }\n",
       "    .progress-bar-interrupted, .progress-bar-interrupted::-webkit-progress-bar {\n",
       "        background: #F44336;\n",
       "    }\n",
       "</style>\n"
      ],
      "text/plain": [
       "<IPython.core.display.HTML object>"
      ]
     },
     "metadata": {},
     "output_type": "display_data"
    },
    {
     "data": {
      "text/html": [
       "\n",
       "    <div>\n",
       "      <progress value='0' class='' max='14687' style='width:300px; height:20px; vertical-align: middle;'></progress>\n",
       "      0.00% [0/14687 00:00&lt;?]\n",
       "    </div>\n",
       "    "
      ],
      "text/plain": [
       "<IPython.core.display.HTML object>"
      ]
     },
     "metadata": {},
     "output_type": "display_data"
    },
    {
     "name": "stdout",
     "output_type": "stream",
     "text": [
      "img_batch stats: min=-0.973, max=0.934, mean=0.223, std=0.556\n",
      "NaN detected in latents\n",
      "NaN detected after VAE encoding\n"
     ]
    },
    {
     "data": {
      "text/html": [
       "\n",
       "<style>\n",
       "    /* Turns off some styling */\n",
       "    progress {\n",
       "        /* gets rid of default border in Firefox and Opera. */\n",
       "        border: none;\n",
       "        /* Needs to be in here for Safari polyfill so background images work as expected. */\n",
       "        background-size: auto;\n",
       "    }\n",
       "    progress:not([value]), progress:not([value])::-webkit-progress-bar {\n",
       "        background: repeating-linear-gradient(45deg, #7e7e7e, #7e7e7e 10px, #5c5c5c 10px, #5c5c5c 20px);\n",
       "    }\n",
       "    .progress-bar-interrupted, .progress-bar-interrupted::-webkit-progress-bar {\n",
       "        background: #F44336;\n",
       "    }\n",
       "</style>\n"
      ],
      "text/plain": [
       "<IPython.core.display.HTML object>"
      ]
     },
     "metadata": {},
     "output_type": "display_data"
    },
    {
     "data": {
      "text/html": [
       "\n",
       "    <div>\n",
       "      <progress value='0' class='' max='14687' style='width:300px; height:20px; vertical-align: middle;'></progress>\n",
       "      0.00% [0/14687 00:00&lt;?]\n",
       "    </div>\n",
       "    "
      ],
      "text/plain": [
       "<IPython.core.display.HTML object>"
      ]
     },
     "metadata": {},
     "output_type": "display_data"
    },
    {
     "name": "stdout",
     "output_type": "stream",
     "text": [
      "img_batch stats: min=-0.977, max=0.916, mean=0.110, std=0.591\n",
      "NaN detected in latents\n",
      "NaN detected after VAE encoding\n"
     ]
    },
    {
     "data": {
      "text/html": [
       "\n",
       "<style>\n",
       "    /* Turns off some styling */\n",
       "    progress {\n",
       "        /* gets rid of default border in Firefox and Opera. */\n",
       "        border: none;\n",
       "        /* Needs to be in here for Safari polyfill so background images work as expected. */\n",
       "        background-size: auto;\n",
       "    }\n",
       "    progress:not([value]), progress:not([value])::-webkit-progress-bar {\n",
       "        background: repeating-linear-gradient(45deg, #7e7e7e, #7e7e7e 10px, #5c5c5c 10px, #5c5c5c 20px);\n",
       "    }\n",
       "    .progress-bar-interrupted, .progress-bar-interrupted::-webkit-progress-bar {\n",
       "        background: #F44336;\n",
       "    }\n",
       "</style>\n"
      ],
      "text/plain": [
       "<IPython.core.display.HTML object>"
      ]
     },
     "metadata": {},
     "output_type": "display_data"
    },
    {
     "data": {
      "text/html": [
       "\n",
       "    <div>\n",
       "      <progress value='0' class='' max='14687' style='width:300px; height:20px; vertical-align: middle;'></progress>\n",
       "      0.00% [0/14687 00:00&lt;?]\n",
       "    </div>\n",
       "    "
      ],
      "text/plain": [
       "<IPython.core.display.HTML object>"
      ]
     },
     "metadata": {},
     "output_type": "display_data"
    },
    {
     "name": "stdout",
     "output_type": "stream",
     "text": [
      "img_batch stats: min=-0.977, max=0.913, mean=0.047, std=0.662\n",
      "NaN detected in latents\n",
      "NaN detected after VAE encoding\n"
     ]
    },
    {
     "data": {
      "text/html": [
       "\n",
       "<style>\n",
       "    /* Turns off some styling */\n",
       "    progress {\n",
       "        /* gets rid of default border in Firefox and Opera. */\n",
       "        border: none;\n",
       "        /* Needs to be in here for Safari polyfill so background images work as expected. */\n",
       "        background-size: auto;\n",
       "    }\n",
       "    progress:not([value]), progress:not([value])::-webkit-progress-bar {\n",
       "        background: repeating-linear-gradient(45deg, #7e7e7e, #7e7e7e 10px, #5c5c5c 10px, #5c5c5c 20px);\n",
       "    }\n",
       "    .progress-bar-interrupted, .progress-bar-interrupted::-webkit-progress-bar {\n",
       "        background: #F44336;\n",
       "    }\n",
       "</style>\n"
      ],
      "text/plain": [
       "<IPython.core.display.HTML object>"
      ]
     },
     "metadata": {},
     "output_type": "display_data"
    },
    {
     "data": {
      "text/html": [
       "\n",
       "    <div>\n",
       "      <progress value='0' class='' max='14687' style='width:300px; height:20px; vertical-align: middle;'></progress>\n",
       "      0.00% [0/14687 00:00&lt;?]\n",
       "    </div>\n",
       "    "
      ],
      "text/plain": [
       "<IPython.core.display.HTML object>"
      ]
     },
     "metadata": {},
     "output_type": "display_data"
    },
    {
     "name": "stdout",
     "output_type": "stream",
     "text": [
      "img_batch stats: min=-0.977, max=0.930, mean=0.102, std=0.643\n",
      "NaN detected in latents\n",
      "NaN detected after VAE encoding\n"
     ]
    },
    {
     "data": {
      "text/html": [
       "\n",
       "<style>\n",
       "    /* Turns off some styling */\n",
       "    progress {\n",
       "        /* gets rid of default border in Firefox and Opera. */\n",
       "        border: none;\n",
       "        /* Needs to be in here for Safari polyfill so background images work as expected. */\n",
       "        background-size: auto;\n",
       "    }\n",
       "    progress:not([value]), progress:not([value])::-webkit-progress-bar {\n",
       "        background: repeating-linear-gradient(45deg, #7e7e7e, #7e7e7e 10px, #5c5c5c 10px, #5c5c5c 20px);\n",
       "    }\n",
       "    .progress-bar-interrupted, .progress-bar-interrupted::-webkit-progress-bar {\n",
       "        background: #F44336;\n",
       "    }\n",
       "</style>\n"
      ],
      "text/plain": [
       "<IPython.core.display.HTML object>"
      ]
     },
     "metadata": {},
     "output_type": "display_data"
    },
    {
     "data": {
      "text/html": [
       "\n",
       "    <div>\n",
       "      <progress value='0' class='' max='14687' style='width:300px; height:20px; vertical-align: middle;'></progress>\n",
       "      0.00% [0/14687 00:00&lt;?]\n",
       "    </div>\n",
       "    "
      ],
      "text/plain": [
       "<IPython.core.display.HTML object>"
      ]
     },
     "metadata": {},
     "output_type": "display_data"
    },
    {
     "name": "stdout",
     "output_type": "stream",
     "text": [
      "img_batch stats: min=-0.977, max=0.915, mean=0.090, std=0.653\n",
      "NaN detected in latents\n",
      "NaN detected after VAE encoding\n"
     ]
    },
    {
     "data": {
      "text/html": [
       "\n",
       "<style>\n",
       "    /* Turns off some styling */\n",
       "    progress {\n",
       "        /* gets rid of default border in Firefox and Opera. */\n",
       "        border: none;\n",
       "        /* Needs to be in here for Safari polyfill so background images work as expected. */\n",
       "        background-size: auto;\n",
       "    }\n",
       "    progress:not([value]), progress:not([value])::-webkit-progress-bar {\n",
       "        background: repeating-linear-gradient(45deg, #7e7e7e, #7e7e7e 10px, #5c5c5c 10px, #5c5c5c 20px);\n",
       "    }\n",
       "    .progress-bar-interrupted, .progress-bar-interrupted::-webkit-progress-bar {\n",
       "        background: #F44336;\n",
       "    }\n",
       "</style>\n"
      ],
      "text/plain": [
       "<IPython.core.display.HTML object>"
      ]
     },
     "metadata": {},
     "output_type": "display_data"
    },
    {
     "data": {
      "text/html": [
       "\n",
       "    <div>\n",
       "      <progress value='0' class='' max='14687' style='width:300px; height:20px; vertical-align: middle;'></progress>\n",
       "      0.00% [0/14687 00:00&lt;?]\n",
       "    </div>\n",
       "    "
      ],
      "text/plain": [
       "<IPython.core.display.HTML object>"
      ]
     },
     "metadata": {},
     "output_type": "display_data"
    },
    {
     "name": "stdout",
     "output_type": "stream",
     "text": [
      "img_batch stats: min=-0.977, max=0.916, mean=0.049, std=0.646\n",
      "NaN detected in latents\n",
      "NaN detected after VAE encoding\n"
     ]
    },
    {
     "data": {
      "text/html": [
       "\n",
       "<style>\n",
       "    /* Turns off some styling */\n",
       "    progress {\n",
       "        /* gets rid of default border in Firefox and Opera. */\n",
       "        border: none;\n",
       "        /* Needs to be in here for Safari polyfill so background images work as expected. */\n",
       "        background-size: auto;\n",
       "    }\n",
       "    progress:not([value]), progress:not([value])::-webkit-progress-bar {\n",
       "        background: repeating-linear-gradient(45deg, #7e7e7e, #7e7e7e 10px, #5c5c5c 10px, #5c5c5c 20px);\n",
       "    }\n",
       "    .progress-bar-interrupted, .progress-bar-interrupted::-webkit-progress-bar {\n",
       "        background: #F44336;\n",
       "    }\n",
       "</style>\n"
      ],
      "text/plain": [
       "<IPython.core.display.HTML object>"
      ]
     },
     "metadata": {},
     "output_type": "display_data"
    },
    {
     "data": {
      "text/html": [
       "\n",
       "    <div>\n",
       "      <progress value='0' class='' max='14687' style='width:300px; height:20px; vertical-align: middle;'></progress>\n",
       "      0.00% [0/14687 00:00&lt;?]\n",
       "    </div>\n",
       "    "
      ],
      "text/plain": [
       "<IPython.core.display.HTML object>"
      ]
     },
     "metadata": {},
     "output_type": "display_data"
    },
    {
     "name": "stdout",
     "output_type": "stream",
     "text": [
      "img_batch stats: min=-0.977, max=0.910, mean=0.099, std=0.621\n",
      "NaN detected in latents\n",
      "NaN detected after VAE encoding\n"
     ]
    },
    {
     "data": {
      "text/html": [
       "\n",
       "<style>\n",
       "    /* Turns off some styling */\n",
       "    progress {\n",
       "        /* gets rid of default border in Firefox and Opera. */\n",
       "        border: none;\n",
       "        /* Needs to be in here for Safari polyfill so background images work as expected. */\n",
       "        background-size: auto;\n",
       "    }\n",
       "    progress:not([value]), progress:not([value])::-webkit-progress-bar {\n",
       "        background: repeating-linear-gradient(45deg, #7e7e7e, #7e7e7e 10px, #5c5c5c 10px, #5c5c5c 20px);\n",
       "    }\n",
       "    .progress-bar-interrupted, .progress-bar-interrupted::-webkit-progress-bar {\n",
       "        background: #F44336;\n",
       "    }\n",
       "</style>\n"
      ],
      "text/plain": [
       "<IPython.core.display.HTML object>"
      ]
     },
     "metadata": {},
     "output_type": "display_data"
    },
    {
     "data": {
      "text/html": [
       "\n",
       "    <div>\n",
       "      <progress value='0' class='' max='14687' style='width:300px; height:20px; vertical-align: middle;'></progress>\n",
       "      0.00% [0/14687 00:00&lt;?]\n",
       "    </div>\n",
       "    "
      ],
      "text/plain": [
       "<IPython.core.display.HTML object>"
      ]
     },
     "metadata": {},
     "output_type": "display_data"
    },
    {
     "name": "stdout",
     "output_type": "stream",
     "text": [
      "img_batch stats: min=-0.979, max=0.941, mean=0.127, std=0.645\n",
      "NaN detected in latents\n",
      "NaN detected after VAE encoding\n"
     ]
    }
   ],
   "source": [
    "import torch\n",
    "import torch.nn.functional as F\n",
    "\n",
    "def check_tensor(tensor, name, print_stats=False):\n",
    "    \"\"\"Utility function to check tensor for NaN/Inf values and optionally print statistics\"\"\"\n",
    "    if torch.isnan(tensor).any():\n",
    "        print(f\"NaN detected in {name}\")\n",
    "        return False\n",
    "    if torch.isinf(tensor).any():\n",
    "        print(f\"Inf detected in {name}\")\n",
    "        return False\n",
    "    if print_stats:\n",
    "        print(f\"{name} stats: min={tensor.min().item():.3f}, max={tensor.max().item():.3f}, \"\n",
    "              f\"mean={tensor.mean().item():.3f}, std={tensor.std().item():.3f}\")\n",
    "    return True\n",
    "\n",
    "# Modified training loop with checks\n",
    "for epoch in progress_bar(range(config.epochs), total=config.epochs, leave=True):\n",
    "    unet.train()\n",
    "    pbar = progress_bar(train_dataloader, leave=False)\n",
    "    for batch in pbar:\n",
    "        if torch.isnan(batch).all():\n",
    "            continue\n",
    "            \n",
    "        # Check input batch\n",
    "        batch = torch.nan_to_num(batch, nan=0)\n",
    "        img_batch = batch.to(device)\n",
    "        check_tensor(img_batch, \"img_batch\", print_stats=True)\n",
    "        \n",
    "        with torch.autocast(device):\n",
    "            # VAE encoding check\n",
    "            latents = encode_frames(img_batch, vae) \n",
    "            latents = vae.scale_latents(latents, encode=True)\n",
    "            if not check_tensor(latents, \"latents\", print_stats=True):\n",
    "                print(\"NaN detected after VAE encoding\")\n",
    "                break\n",
    "                \n",
    "            # Diffusion preparation checks\n",
    "            past_frames = latents[:, :, :-1]\n",
    "            last_frame = latents[:, :, -1]\n",
    "            check_tensor(past_frames, \"past_frames\")\n",
    "            check_tensor(last_frame, \"last_frame\")\n",
    "            \n",
    "            # Noise addition check\n",
    "            noised_img, t, noise = noisify_ddpm(last_frame)\n",
    "            check_tensor(noised_img, \"noised_img\")\n",
    "            check_tensor(noise, \"noise\")\n",
    "            \n",
    "            # Check reshape operations\n",
    "            past_frames = past_frames.permute(0, 2, 1, 3, 4)\n",
    "            past_frames = past_frames.reshape(latents.shape[0], -1, latents.shape[3], latents.shape[4])\n",
    "            check_tensor(past_frames, \"reshaped_past_frames\")\n",
    "            \n",
    "            # Check concatenated input\n",
    "            diffusion_input = torch.cat([past_frames, noised_img], dim=1)\n",
    "            check_tensor(diffusion_input, \"diffusion_input\")\n",
    "            \n",
    "            # Check UNet output\n",
    "            predicted_noise = unet(diffusion_input, t)\n",
    "            if not check_tensor(predicted_noise, \"predicted_noise\", print_stats=True):\n",
    "                print(\"NaN detected in UNet output\")\n",
    "                break\n",
    "            \n",
    "            # Loss calculation checks\n",
    "            diffusion_loss = F.mse_loss(predicted_noise, noise)\n",
    "            check_tensor(diffusion_loss, \"diffusion_loss\")\n",
    "            \n",
    "            img_batch_hat = decode_frames(latents * (1 / 0.18215), vae, use_channel_mixer)\n",
    "            check_tensor(img_batch_hat, \"decoded_frames\")\n",
    "            \n",
    "            vae_loss = F.mse_loss(img_batch_hat, img_batch)\n",
    "            check_tensor(vae_loss, \"vae_loss\")\n",
    "            \n",
    "            loss = diffusion_loss  # +0.1*vae_loss\n",
    "            if not check_tensor(loss, \"total_loss\"):\n",
    "                print(\"NaN detected in final loss\")\n",
    "                break\n",
    "        \n",
    "        # Gradient checking\n",
    "        optimizer.zero_grad()\n",
    "        scaler.scale(loss).backward()\n",
    "        \n",
    "        # Check gradients before optimizer step\n",
    "        for name, param in unet.named_parameters():\n",
    "            if param.grad is not None:\n",
    "                if not check_tensor(param.grad, f\"gradient_{name}\"):\n",
    "                    print(f\"NaN gradient detected in {name}\")\n",
    "                    break\n",
    "        \n",
    "        scaler.step(optimizer)\n",
    "        scaler.update()\n",
    "        scheduler.step()\n",
    "        \n",
    "        pbar.comment = f\"epoch={epoch}, vae_loss={vae_loss.item():2.3f}, diffusion_loss={diffusion_loss.item():2.3f}\"\n",
    "\n",
    "    # with torch.no_grad():\n",
    "    #     val_latents = encode_frames(val_batch, vae)\n",
    "    #     past_val_frames = val_latents[:, :, :-1]\n",
    "    #     last_val_frame = val_latents[:, :, -1]  # intentionally remove time dim\n",
    "    #     past_val_frames = past_val_frames.permute(0, 2, 1, 3, 4).reshape(val_latents.shape[0], -1, val_latents.shape[3], val_latents.shape[4]).float()\n",
    "    #     samples = sampler(unet, past_frames=past_val_frames, num_channels=4)\n",
    "\n",
    "\n",
    "\n",
    "\n",
    "    # # log predictions\n",
    "    # if epoch % config.log_every_epoch == 0:\n",
    "    #     samples = ...\n",
    "    #     log_images(val_batch, samples)\n",
    "\n",
    "# save_model(vae, config.model_name)\n",
    "\n",
    "\n"
   ]
  },
  {
   "cell_type": "code",
   "execution_count": 6,
   "metadata": {},
   "outputs": [
    {
     "ename": "RuntimeError",
     "evalue": "Given groups=1, weight of size [128, 3, 3, 3], expected input[1, 11, 64, 64] to have 3 channels, but got 11 channels instead",
     "output_type": "error",
     "traceback": [
      "\u001b[0;31m---------------------------------------------------------------------------\u001b[0m",
      "\u001b[0;31mRuntimeError\u001b[0m                              Traceback (most recent call last)",
      "Cell \u001b[0;32mIn[6], line 46\u001b[0m\n\u001b[1;32m     44\u001b[0m test_input \u001b[38;5;241m=\u001b[39m torch\u001b[38;5;241m.\u001b[39mtanh(test_input)  \u001b[38;5;66;03m# Ensure [-1, 1] range\u001b[39;00m\n\u001b[1;32m     45\u001b[0m \u001b[38;5;28;01mwith\u001b[39;00m torch\u001b[38;5;241m.\u001b[39mautocast(device):\n\u001b[0;32m---> 46\u001b[0m     \u001b[43mdebug_vae_distribution\u001b[49m\u001b[43m(\u001b[49m\u001b[43mvae\u001b[49m\u001b[43m,\u001b[49m\u001b[43m \u001b[49m\u001b[43mtest_input\u001b[49m\u001b[43m)\u001b[49m\n",
      "Cell \u001b[0;32mIn[6], line 4\u001b[0m, in \u001b[0;36mdebug_vae_distribution\u001b[0;34m(vae, input_tensor)\u001b[0m\n\u001b[1;32m      1\u001b[0m \u001b[38;5;28;01mdef\u001b[39;00m \u001b[38;5;21mdebug_vae_distribution\u001b[39m(vae, input_tensor):\n\u001b[1;32m      2\u001b[0m     \u001b[38;5;28;01mwith\u001b[39;00m torch\u001b[38;5;241m.\u001b[39mno_grad():\n\u001b[1;32m      3\u001b[0m         \u001b[38;5;66;03m# Get encoder output\u001b[39;00m\n\u001b[0;32m----> 4\u001b[0m         encoder_out \u001b[38;5;241m=\u001b[39m \u001b[43mvae\u001b[49m\u001b[38;5;241;43m.\u001b[39;49m\u001b[43mencoder\u001b[49m\u001b[43m(\u001b[49m\u001b[43minput_tensor\u001b[49m\u001b[43m)\u001b[49m\n\u001b[1;32m      5\u001b[0m         \u001b[38;5;28mprint\u001b[39m(\u001b[38;5;124m\"\u001b[39m\u001b[38;5;130;01m\\n\u001b[39;00m\u001b[38;5;124mEncoder output stats:\u001b[39m\u001b[38;5;124m\"\u001b[39m)\n\u001b[1;32m      6\u001b[0m         \u001b[38;5;28mprint\u001b[39m(\u001b[38;5;124mf\u001b[39m\u001b[38;5;124m\"\u001b[39m\u001b[38;5;124mShape: \u001b[39m\u001b[38;5;132;01m{\u001b[39;00mencoder_out\u001b[38;5;241m.\u001b[39mshape\u001b[38;5;132;01m}\u001b[39;00m\u001b[38;5;124m\"\u001b[39m)\n",
      "File \u001b[0;32m~/forecasting-space/users/gmmg6904/cloud_diffusion/.venv/lib/python3.12/site-packages/torch/nn/modules/module.py:1740\u001b[0m, in \u001b[0;36mModule._wrapped_call_impl\u001b[0;34m(self, *args, **kwargs)\u001b[0m\n\u001b[1;32m   1738\u001b[0m     \u001b[38;5;28;01mreturn\u001b[39;00m \u001b[38;5;28mself\u001b[39m\u001b[38;5;241m.\u001b[39m_compiled_call_impl(\u001b[38;5;241m*\u001b[39margs, \u001b[38;5;241m*\u001b[39m\u001b[38;5;241m*\u001b[39mkwargs)  \u001b[38;5;66;03m# type: ignore[misc]\u001b[39;00m\n\u001b[1;32m   1739\u001b[0m \u001b[38;5;28;01melse\u001b[39;00m:\n\u001b[0;32m-> 1740\u001b[0m     \u001b[38;5;28;01mreturn\u001b[39;00m \u001b[38;5;28;43mself\u001b[39;49m\u001b[38;5;241;43m.\u001b[39;49m\u001b[43m_call_impl\u001b[49m\u001b[43m(\u001b[49m\u001b[38;5;241;43m*\u001b[39;49m\u001b[43margs\u001b[49m\u001b[43m,\u001b[49m\u001b[43m \u001b[49m\u001b[38;5;241;43m*\u001b[39;49m\u001b[38;5;241;43m*\u001b[39;49m\u001b[43mkwargs\u001b[49m\u001b[43m)\u001b[49m\n",
      "File \u001b[0;32m~/forecasting-space/users/gmmg6904/cloud_diffusion/.venv/lib/python3.12/site-packages/torch/nn/modules/module.py:1751\u001b[0m, in \u001b[0;36mModule._call_impl\u001b[0;34m(self, *args, **kwargs)\u001b[0m\n\u001b[1;32m   1746\u001b[0m \u001b[38;5;66;03m# If we don't have any hooks, we want to skip the rest of the logic in\u001b[39;00m\n\u001b[1;32m   1747\u001b[0m \u001b[38;5;66;03m# this function, and just call forward.\u001b[39;00m\n\u001b[1;32m   1748\u001b[0m \u001b[38;5;28;01mif\u001b[39;00m \u001b[38;5;129;01mnot\u001b[39;00m (\u001b[38;5;28mself\u001b[39m\u001b[38;5;241m.\u001b[39m_backward_hooks \u001b[38;5;129;01mor\u001b[39;00m \u001b[38;5;28mself\u001b[39m\u001b[38;5;241m.\u001b[39m_backward_pre_hooks \u001b[38;5;129;01mor\u001b[39;00m \u001b[38;5;28mself\u001b[39m\u001b[38;5;241m.\u001b[39m_forward_hooks \u001b[38;5;129;01mor\u001b[39;00m \u001b[38;5;28mself\u001b[39m\u001b[38;5;241m.\u001b[39m_forward_pre_hooks\n\u001b[1;32m   1749\u001b[0m         \u001b[38;5;129;01mor\u001b[39;00m _global_backward_pre_hooks \u001b[38;5;129;01mor\u001b[39;00m _global_backward_hooks\n\u001b[1;32m   1750\u001b[0m         \u001b[38;5;129;01mor\u001b[39;00m _global_forward_hooks \u001b[38;5;129;01mor\u001b[39;00m _global_forward_pre_hooks):\n\u001b[0;32m-> 1751\u001b[0m     \u001b[38;5;28;01mreturn\u001b[39;00m \u001b[43mforward_call\u001b[49m\u001b[43m(\u001b[49m\u001b[38;5;241;43m*\u001b[39;49m\u001b[43margs\u001b[49m\u001b[43m,\u001b[49m\u001b[43m \u001b[49m\u001b[38;5;241;43m*\u001b[39;49m\u001b[38;5;241;43m*\u001b[39;49m\u001b[43mkwargs\u001b[49m\u001b[43m)\u001b[49m\n\u001b[1;32m   1753\u001b[0m result \u001b[38;5;241m=\u001b[39m \u001b[38;5;28;01mNone\u001b[39;00m\n\u001b[1;32m   1754\u001b[0m called_always_called_hooks \u001b[38;5;241m=\u001b[39m \u001b[38;5;28mset\u001b[39m()\n",
      "File \u001b[0;32m~/forecasting-space/users/gmmg6904/cloud_diffusion/.venv/lib/python3.12/site-packages/diffusers/models/autoencoders/vae.py:143\u001b[0m, in \u001b[0;36mEncoder.forward\u001b[0;34m(self, sample)\u001b[0m\n\u001b[1;32m    140\u001b[0m \u001b[38;5;28;01mdef\u001b[39;00m \u001b[38;5;21mforward\u001b[39m(\u001b[38;5;28mself\u001b[39m, sample: torch\u001b[38;5;241m.\u001b[39mTensor) \u001b[38;5;241m-\u001b[39m\u001b[38;5;241m>\u001b[39m torch\u001b[38;5;241m.\u001b[39mTensor:\n\u001b[1;32m    141\u001b[0m \u001b[38;5;250m    \u001b[39m\u001b[38;5;124mr\u001b[39m\u001b[38;5;124;03m\"\"\"The forward method of the `Encoder` class.\"\"\"\u001b[39;00m\n\u001b[0;32m--> 143\u001b[0m     sample \u001b[38;5;241m=\u001b[39m \u001b[38;5;28;43mself\u001b[39;49m\u001b[38;5;241;43m.\u001b[39;49m\u001b[43mconv_in\u001b[49m\u001b[43m(\u001b[49m\u001b[43msample\u001b[49m\u001b[43m)\u001b[49m\n\u001b[1;32m    145\u001b[0m     \u001b[38;5;28;01mif\u001b[39;00m \u001b[38;5;28mself\u001b[39m\u001b[38;5;241m.\u001b[39mtraining \u001b[38;5;129;01mand\u001b[39;00m \u001b[38;5;28mself\u001b[39m\u001b[38;5;241m.\u001b[39mgradient_checkpointing:\n\u001b[1;32m    147\u001b[0m         \u001b[38;5;28;01mdef\u001b[39;00m \u001b[38;5;21mcreate_custom_forward\u001b[39m(module):\n",
      "File \u001b[0;32m~/forecasting-space/users/gmmg6904/cloud_diffusion/.venv/lib/python3.12/site-packages/torch/nn/modules/module.py:1740\u001b[0m, in \u001b[0;36mModule._wrapped_call_impl\u001b[0;34m(self, *args, **kwargs)\u001b[0m\n\u001b[1;32m   1738\u001b[0m     \u001b[38;5;28;01mreturn\u001b[39;00m \u001b[38;5;28mself\u001b[39m\u001b[38;5;241m.\u001b[39m_compiled_call_impl(\u001b[38;5;241m*\u001b[39margs, \u001b[38;5;241m*\u001b[39m\u001b[38;5;241m*\u001b[39mkwargs)  \u001b[38;5;66;03m# type: ignore[misc]\u001b[39;00m\n\u001b[1;32m   1739\u001b[0m \u001b[38;5;28;01melse\u001b[39;00m:\n\u001b[0;32m-> 1740\u001b[0m     \u001b[38;5;28;01mreturn\u001b[39;00m \u001b[38;5;28;43mself\u001b[39;49m\u001b[38;5;241;43m.\u001b[39;49m\u001b[43m_call_impl\u001b[49m\u001b[43m(\u001b[49m\u001b[38;5;241;43m*\u001b[39;49m\u001b[43margs\u001b[49m\u001b[43m,\u001b[49m\u001b[43m \u001b[49m\u001b[38;5;241;43m*\u001b[39;49m\u001b[38;5;241;43m*\u001b[39;49m\u001b[43mkwargs\u001b[49m\u001b[43m)\u001b[49m\n",
      "File \u001b[0;32m~/forecasting-space/users/gmmg6904/cloud_diffusion/.venv/lib/python3.12/site-packages/torch/nn/modules/module.py:1751\u001b[0m, in \u001b[0;36mModule._call_impl\u001b[0;34m(self, *args, **kwargs)\u001b[0m\n\u001b[1;32m   1746\u001b[0m \u001b[38;5;66;03m# If we don't have any hooks, we want to skip the rest of the logic in\u001b[39;00m\n\u001b[1;32m   1747\u001b[0m \u001b[38;5;66;03m# this function, and just call forward.\u001b[39;00m\n\u001b[1;32m   1748\u001b[0m \u001b[38;5;28;01mif\u001b[39;00m \u001b[38;5;129;01mnot\u001b[39;00m (\u001b[38;5;28mself\u001b[39m\u001b[38;5;241m.\u001b[39m_backward_hooks \u001b[38;5;129;01mor\u001b[39;00m \u001b[38;5;28mself\u001b[39m\u001b[38;5;241m.\u001b[39m_backward_pre_hooks \u001b[38;5;129;01mor\u001b[39;00m \u001b[38;5;28mself\u001b[39m\u001b[38;5;241m.\u001b[39m_forward_hooks \u001b[38;5;129;01mor\u001b[39;00m \u001b[38;5;28mself\u001b[39m\u001b[38;5;241m.\u001b[39m_forward_pre_hooks\n\u001b[1;32m   1749\u001b[0m         \u001b[38;5;129;01mor\u001b[39;00m _global_backward_pre_hooks \u001b[38;5;129;01mor\u001b[39;00m _global_backward_hooks\n\u001b[1;32m   1750\u001b[0m         \u001b[38;5;129;01mor\u001b[39;00m _global_forward_hooks \u001b[38;5;129;01mor\u001b[39;00m _global_forward_pre_hooks):\n\u001b[0;32m-> 1751\u001b[0m     \u001b[38;5;28;01mreturn\u001b[39;00m \u001b[43mforward_call\u001b[49m\u001b[43m(\u001b[49m\u001b[38;5;241;43m*\u001b[39;49m\u001b[43margs\u001b[49m\u001b[43m,\u001b[49m\u001b[43m \u001b[49m\u001b[38;5;241;43m*\u001b[39;49m\u001b[38;5;241;43m*\u001b[39;49m\u001b[43mkwargs\u001b[49m\u001b[43m)\u001b[49m\n\u001b[1;32m   1753\u001b[0m result \u001b[38;5;241m=\u001b[39m \u001b[38;5;28;01mNone\u001b[39;00m\n\u001b[1;32m   1754\u001b[0m called_always_called_hooks \u001b[38;5;241m=\u001b[39m \u001b[38;5;28mset\u001b[39m()\n",
      "File \u001b[0;32m~/forecasting-space/users/gmmg6904/cloud_diffusion/.venv/lib/python3.12/site-packages/torch/nn/modules/conv.py:554\u001b[0m, in \u001b[0;36mConv2d.forward\u001b[0;34m(self, input)\u001b[0m\n\u001b[1;32m    553\u001b[0m \u001b[38;5;28;01mdef\u001b[39;00m \u001b[38;5;21mforward\u001b[39m(\u001b[38;5;28mself\u001b[39m, \u001b[38;5;28minput\u001b[39m: Tensor) \u001b[38;5;241m-\u001b[39m\u001b[38;5;241m>\u001b[39m Tensor:\n\u001b[0;32m--> 554\u001b[0m     \u001b[38;5;28;01mreturn\u001b[39;00m \u001b[38;5;28;43mself\u001b[39;49m\u001b[38;5;241;43m.\u001b[39;49m\u001b[43m_conv_forward\u001b[49m\u001b[43m(\u001b[49m\u001b[38;5;28;43minput\u001b[39;49m\u001b[43m,\u001b[49m\u001b[43m \u001b[49m\u001b[38;5;28;43mself\u001b[39;49m\u001b[38;5;241;43m.\u001b[39;49m\u001b[43mweight\u001b[49m\u001b[43m,\u001b[49m\u001b[43m \u001b[49m\u001b[38;5;28;43mself\u001b[39;49m\u001b[38;5;241;43m.\u001b[39;49m\u001b[43mbias\u001b[49m\u001b[43m)\u001b[49m\n",
      "File \u001b[0;32m~/forecasting-space/users/gmmg6904/cloud_diffusion/.venv/lib/python3.12/site-packages/torch/nn/modules/conv.py:549\u001b[0m, in \u001b[0;36mConv2d._conv_forward\u001b[0;34m(self, input, weight, bias)\u001b[0m\n\u001b[1;32m    537\u001b[0m \u001b[38;5;28;01mif\u001b[39;00m \u001b[38;5;28mself\u001b[39m\u001b[38;5;241m.\u001b[39mpadding_mode \u001b[38;5;241m!=\u001b[39m \u001b[38;5;124m\"\u001b[39m\u001b[38;5;124mzeros\u001b[39m\u001b[38;5;124m\"\u001b[39m:\n\u001b[1;32m    538\u001b[0m     \u001b[38;5;28;01mreturn\u001b[39;00m F\u001b[38;5;241m.\u001b[39mconv2d(\n\u001b[1;32m    539\u001b[0m         F\u001b[38;5;241m.\u001b[39mpad(\n\u001b[1;32m    540\u001b[0m             \u001b[38;5;28minput\u001b[39m, \u001b[38;5;28mself\u001b[39m\u001b[38;5;241m.\u001b[39m_reversed_padding_repeated_twice, mode\u001b[38;5;241m=\u001b[39m\u001b[38;5;28mself\u001b[39m\u001b[38;5;241m.\u001b[39mpadding_mode\n\u001b[0;32m   (...)\u001b[0m\n\u001b[1;32m    547\u001b[0m         \u001b[38;5;28mself\u001b[39m\u001b[38;5;241m.\u001b[39mgroups,\n\u001b[1;32m    548\u001b[0m     )\n\u001b[0;32m--> 549\u001b[0m \u001b[38;5;28;01mreturn\u001b[39;00m \u001b[43mF\u001b[49m\u001b[38;5;241;43m.\u001b[39;49m\u001b[43mconv2d\u001b[49m\u001b[43m(\u001b[49m\n\u001b[1;32m    550\u001b[0m \u001b[43m    \u001b[49m\u001b[38;5;28;43minput\u001b[39;49m\u001b[43m,\u001b[49m\u001b[43m \u001b[49m\u001b[43mweight\u001b[49m\u001b[43m,\u001b[49m\u001b[43m \u001b[49m\u001b[43mbias\u001b[49m\u001b[43m,\u001b[49m\u001b[43m \u001b[49m\u001b[38;5;28;43mself\u001b[39;49m\u001b[38;5;241;43m.\u001b[39;49m\u001b[43mstride\u001b[49m\u001b[43m,\u001b[49m\u001b[43m \u001b[49m\u001b[38;5;28;43mself\u001b[39;49m\u001b[38;5;241;43m.\u001b[39;49m\u001b[43mpadding\u001b[49m\u001b[43m,\u001b[49m\u001b[43m \u001b[49m\u001b[38;5;28;43mself\u001b[39;49m\u001b[38;5;241;43m.\u001b[39;49m\u001b[43mdilation\u001b[49m\u001b[43m,\u001b[49m\u001b[43m \u001b[49m\u001b[38;5;28;43mself\u001b[39;49m\u001b[38;5;241;43m.\u001b[39;49m\u001b[43mgroups\u001b[49m\n\u001b[1;32m    551\u001b[0m \u001b[43m\u001b[49m\u001b[43m)\u001b[49m\n",
      "\u001b[0;31mRuntimeError\u001b[0m: Given groups=1, weight of size [128, 3, 3, 3], expected input[1, 11, 64, 64] to have 3 channels, but got 11 channels instead"
     ]
    }
   ],
   "source": [
    "def debug_vae_distribution(vae, input_tensor):\n",
    "    with torch.no_grad():\n",
    "        # Get encoder output\n",
    "        encoder_out = vae.encoder(input_tensor)\n",
    "        print(\"\\nEncoder output stats:\")\n",
    "        print(f\"Shape: {encoder_out.shape}\")\n",
    "        print(f\"Range: [{encoder_out.min():.3f}, {encoder_out.max():.3f}]\")\n",
    "        print(f\"Mean: {encoder_out.mean():.3f}\")\n",
    "        \n",
    "        # Debug the moment computation\n",
    "        # In most VAEs, this is where mean and logvar are computed\n",
    "        try:\n",
    "            # Assuming the VAE has these components - adjust based on your modification\n",
    "            moments = vae.encoder.conv_out(encoder_out)\n",
    "            print(\"\\nMoments output stats:\")\n",
    "            print(f\"Shape: {moments.shape}\")\n",
    "            print(f\"Range: [{moments.min():.3f}, {moments.max():.3f}]\")\n",
    "            print(f\"Mean: {moments.mean():.3f}\")\n",
    "            \n",
    "            # Split into mean and logvar\n",
    "            mean, logvar = torch.chunk(moments, 2, dim=1)\n",
    "            print(\"\\nMean stats:\")\n",
    "            print(f\"Range: [{mean.min():.3f}, {mean.max():.3f}]\")\n",
    "            print(f\"Has NaN: {torch.isnan(mean).any()}\")\n",
    "            \n",
    "            print(\"\\nLogvar stats:\")\n",
    "            print(f\"Range: [{logvar.min():.3f}, {logvar.max():.3f}]\")\n",
    "            print(f\"Has NaN: {torch.isnan(logvar).any()}\")\n",
    "            \n",
    "            # Check exp(logvar/2) operation\n",
    "            std = torch.exp(0.5 * logvar)\n",
    "            print(\"\\nStd stats:\")\n",
    "            print(f\"Range: [{std.min():.3f}, {std.max():.3f}]\")\n",
    "            print(f\"Has NaN: {torch.isnan(std).any()}\")\n",
    "            \n",
    "        except Exception as e:\n",
    "            print(f\"Error in moment computation: {str(e)}\")\n",
    "            import traceback\n",
    "            print(traceback.format_exc())\n",
    "\n",
    "vae = AutoencoderKL.from_pretrained(\"stabilityai/sdxl-vae\").to(device)\n",
    "# Test with normalized input\n",
    "test_input = torch.randn(1, 11, 64, 64).to(device)\n",
    "test_input = torch.tanh(test_input)  # Ensure [-1, 1] range\n",
    "with torch.autocast(device):\n",
    "    debug_vae_distribution(vae, test_input)"
   ]
  },
  {
   "cell_type": "code",
   "execution_count": null,
   "metadata": {},
   "outputs": [],
   "source": [
    "from torch import nn\n",
    "\n",
    "class VAEChannelAdapter(nn.Module):\n",
    "    \"\"\"\n",
    "    Adapter module to convert arbitrary channel inputs to work with SDXL VAE.\n",
    "    \n",
    "    Key design principles:\n",
    "    1. Gradual channel reduction to preserve information\n",
    "    2. Careful normalization for training stability\n",
    "    3. Bounded outputs to match VAE expectations\n",
    "    4. Separation of concerns between adaptation and encoding\n",
    "    \"\"\"\n",
    "    def __init__(self, vae, in_channels=11):\n",
    "        super().__init__()\n",
    "        self.vae = vae\n",
    "        \n",
    "        # Input adapter network: converts in_channels -> 3 channels\n",
    "        # Architecture designed for stability and information preservation\n",
    "        self.in_adapter = nn.Sequential(\n",
    "            # Layer 1: Initial dimension expansion and processing\n",
    "            # - Expand to 32 channels to preserve information capacity\n",
    "            # - 3x3 conv maintains spatial context\n",
    "            # - Padding=1 preserves spatial dimensions\n",
    "            nn.Conv2d(in_channels, 32, 3, padding=1),\n",
    "            # GroupNorm with 8 groups (4 channels per group)\n",
    "            # - Batch-size independent normalization\n",
    "            # - More stable than BatchNorm or LayerNorm for image data\n",
    "            nn.GroupNorm(8, 32),\n",
    "            # SiLU activation\n",
    "            # - Smooth gradients\n",
    "            # - No vanishing gradient issues\n",
    "            # - Better performance than ReLU for vision tasks\n",
    "            nn.SiLU(),\n",
    "            \n",
    "            # Layer 2: Intermediate processing\n",
    "            # - Reduce channels gradually (32 -> 16)\n",
    "            # - Maintain spatial dimensions\n",
    "            nn.Conv2d(32, 16, 3, padding=1),\n",
    "            # GroupNorm with 4 groups (4 channels per group)\n",
    "            # - Groups reduced to maintain consistent channels per group\n",
    "            nn.GroupNorm(4, 16),\n",
    "            nn.SiLU(),\n",
    "            \n",
    "            # Layer 3: Final mapping to RGB\n",
    "            # - Convert to 3 channels for VAE input\n",
    "            # - Maintain spatial dimensions\n",
    "            nn.Conv2d(16, 3, 3, padding=1),\n",
    "            # Tanh activation\n",
    "            # - Forces output to [-1, 1] range\n",
    "            # - Matches VAE's expected input distribution\n",
    "            # - Prevents extreme values\n",
    "            nn.Tanh()\n",
    "        )\n",
    "        \n",
    "        # Freeze VAE parameters\n",
    "        # - Prevents modification of pretrained weights\n",
    "        # - Ensures stability of latent space\n",
    "        # - Reduces training complexity\n",
    "        for param in self.vae.parameters():\n",
    "            param.requires_grad = False\n",
    "    \n",
    "    def encode(self, x):\n",
    "        \"\"\"\n",
    "        Convert input to 3 channels and encode with VAE.\n",
    "        \n",
    "        Process:\n",
    "        1. Transform input channels to RGB-like space\n",
    "        2. Use pretrained VAE encoder\n",
    "        \n",
    "        Returns VAE's latent distribution for sampling\n",
    "        \"\"\"\n",
    "        x = self.in_adapter(x)  # Convert to 3 channels\n",
    "        return self.vae.encode(x)  # Use original VAE encoder\n",
    "    \n",
    "    def decode(self, z):\n",
    "        \"\"\"\n",
    "        Decode latents using VAE decoder.\n",
    "        \n",
    "        Note: No modification needed here since:\n",
    "        - Decoder operates in latent space\n",
    "        - Output is already in desired format\n",
    "        \"\"\"\n",
    "        return self.vae.decode(z)\n",
    "    \n",
    "    @staticmethod\n",
    "    def scale_latents(latents, vae, encode=True):\n",
    "        \"\"\"\n",
    "        Scale latents by VAE's scaling factor.\n",
    "        \n",
    "        Args:\n",
    "            latents: Tensor to scale\n",
    "            vae: VAE model containing scaling factor\n",
    "            encode: If True, scale for encoding (multiply)\n",
    "                   If False, scale for decoding (divide)\n",
    "        \"\"\"\n",
    "        scaling_factor = vae.config.scaling_factor\n",
    "        if encode:\n",
    "            return latents * scaling_factor\n",
    "        return latents / scaling_factor\n",
    "\n",
    "# Example usage:\n",
    "\"\"\"\n",
    "# Create and move to device\n",
    "adapted_vae = VAEChannelAdapter(original_vae, in_channels=11).to(device)\n",
    "\n",
    "# Encoding\n",
    "x = torch.randn(1, 11, 64, 64).to(device)  # 11-channel input\n",
    "encoded = adapted_vae.encode(x)\n",
    "latents = encoded.latent_dist.sample()\n",
    "latents = VAEChannelAdapter.scale_latents(latents, original_vae, encode=True)\n",
    "\n",
    "# Decoding\n",
    "scaled_latents = VAEChannelAdapter.scale_latents(latents, original_vae, encode=False)\n",
    "decoded = adapted_vae.decode(scaled_latents).sample\n",
    "\"\"\"\n",
    "vae = AutoencoderKL.from_pretrained(\"stabilityai/sdxl-vae\").to(device)\n",
    "# Create the adapted VAE\n",
    "adapted_vae = VAEChannelAdapter(vae, in_channels=11).to(device)\n",
    "\n",
    "# Encoding\n",
    "x = torch.randn(1, 11, 64, 64).to(device)  # 11-channel input\n",
    "encoded = adapted_vae.encode(x)\n",
    "latents = encoded.latent_dist.sample()\n",
    "latents = VAEChannelAdapter.scale_latents(latents, vae, encode=True)\n",
    "\n",
    "# Decoding\n",
    "scaled_latents = VAEChannelAdapter.scale_latents(latents, vae, encode=False)\n",
    "decoded = adapted_vae.decode(scaled_latents).sample"
   ]
  },
  {
   "cell_type": "code",
   "execution_count": null,
   "metadata": {},
   "outputs": [],
   "source": [
    "decoded"
   ]
  },
  {
   "cell_type": "code",
   "execution_count": null,
   "metadata": {},
   "outputs": [],
   "source": [
    "\n",
    "# Test function\n",
    "def test_adapted_vae(adapted_vae, input_tensor):\n",
    "    print(f\"\\nInput shape: {input_tensor.shape}\")\n",
    "    print(f\"Input range: [{input_tensor.min():.3f}, {input_tensor.max():.3f}]\")\n",
    "    \n",
    "    with torch.no_grad():\n",
    "        try:\n",
    "            # Test the whole encode path\n",
    "            encoded = adapted_vae.encode(input_tensor)\n",
    "            latents = encoded.latent_dist.sample() * vae.config.scaling_factor\n",
    "            \n",
    "            print(\"\\nLatents:\")\n",
    "            print(f\"Shape: {latents.shape}\")\n",
    "            print(f\"Range: [{latents.min():.3f}, {latents.max():.3f}]\")\n",
    "            print(f\"Has NaN: {torch.isnan(latents).any()}\")\n",
    "            \n",
    "            # Test decoding too\n",
    "            decoded = adapted_vae.decode(latents * 1 / vae.config.scaling_factor).sample\n",
    "            print(\"\\nDecoded:\")\n",
    "            print(f\"Shape: {decoded.shape}\")\n",
    "            print(f\"Range: [{decoded.min():.3f}, {decoded.max():.3f}]\")\n",
    "            print(f\"Has NaN: {torch.isnan(decoded).any()}\")\n",
    "            \n",
    "        except Exception as e:\n",
    "            print(f\"Error: {str(e)}\")\n",
    "            import traceback\n",
    "            print(traceback.format_exc())\n",
    "\n",
    "# Test it\n",
    "test_input = torch.randn(1, 11, 64, 64).to(device)\n",
    "test_input = torch.tanh(test_input)  # Ensure reasonable input range\n",
    "test_adapted_vae(adapted_vae, test_input)"
   ]
  },
  {
   "cell_type": "code",
   "execution_count": null,
   "metadata": {},
   "outputs": [],
   "source": [
    "\n",
    "\n",
    "visualize_channels_over_time(X_latents.cpu())"
   ]
  },
  {
   "cell_type": "code",
   "execution_count": null,
   "metadata": {},
   "outputs": [],
   "source": [
    "def visualize_channels_over_time(images,  batch_idx=0, figsize=(12, 8), cmap='viridis'):\n",
    "    \"\"\"\n",
    "    Visualize multi-channel images over time, handling both single and multiple timesteps.\n",
    "    \n",
    "    Args:\n",
    "        images: Tensor of shape (batch, channels, time, height, width)\n",
    "        channel_names: List of names for each channel\n",
    "        batch_idx: Which batch element to visualize\n",
    "        figsize: Size of the figure\n",
    "        cmap: Colormap to use for visualization\n",
    "    \"\"\"\n",
    "    n_channels = images.shape[1]\n",
    "    n_timesteps = images.shape[2]\n",
    "    \n",
    "\n",
    "    \n",
    "    # Create a grid of subplots\n",
    "    if n_timesteps == 1:\n",
    "        fig, axes = plt.subplots(n_channels, 1, figsize=figsize)\n",
    "        axes = axes.reshape(-1, 1)  # Reshape to 2D array for consistent indexing\n",
    "    else:\n",
    "        fig, axes = plt.subplots(n_channels, n_timesteps, figsize=figsize)\n",
    "    \n",
    "    # Set the spacing between subplots\n",
    "    plt.subplots_adjust(hspace=0.2, wspace=-0.5)\n",
    "    \n",
    "    # Iterate through channels and timesteps\n",
    "    for channel in range(n_channels):\n",
    "        for timestep in range(n_timesteps):\n",
    "            # Get the current image\n",
    "            img = images[batch_idx, channel, timestep].numpy()\n",
    "            \n",
    "            # Normalize the image for better visualization\n",
    "            # img_min = img.min()\n",
    "            # img_max = img.max()\n",
    "            # if img_max > img_min:\n",
    "            #     img = (img - img_min) / (img_max - img_min)\n",
    "            \n",
    "            # Plot the image\n",
    "            im = axes[channel, timestep].imshow(img, cmap=cmap, origin='lower')\n",
    "            axes[channel, timestep].axis('off')\n",
    "            \n",
    "            # Add colorbar\n",
    "            plt.colorbar(im, ax=axes[channel, timestep], fraction=0.046, pad=0.04)\n",
    "            \n",
    "            # Add titles\n",
    "            if channel == 0:\n",
    "                axes[channel, timestep].set_title(f'frame {timestep-3}')\n",
    "            if timestep == 0:\n",
    "                axes[channel, timestep].text(-10, 32, channel_names[channel], \n",
    "                                          rotation=0, ha='right', va='center')\n",
    "\n",
    "    return fig\n",
    "visualize_channels_over_time(X);"
   ]
  },
  {
   "cell_type": "code",
   "execution_count": null,
   "metadata": {},
   "outputs": [],
   "source": [
    "def match_sizes(ground_truth, prediction, method='crop'):\n",
    "    \"\"\"\n",
    "    Match the sizes of ground truth and prediction arrays.\n",
    "    \n",
    "    Args:\n",
    "        ground_truth: Tensor of shape (batch, channels, height1, width1)\n",
    "        prediction: Tensor of shape (batch, channels, height2, width2)\n",
    "        method: One of ['crop', 'pad', 'resize']\n",
    "    \n",
    "    Returns:\n",
    "        Tuple of tensors with matched sizes\n",
    "    \"\"\"\n",
    "    import torch.nn.functional as F\n",
    "    \n",
    "    if method == 'crop':\n",
    "        # Crop ground truth to prediction size\n",
    "        h_diff = ground_truth.shape[2] - prediction.shape[2]\n",
    "        w_diff = ground_truth.shape[3] - prediction.shape[3]\n",
    "        \n",
    "        h_start = h_diff // 2\n",
    "        w_start = w_diff // 2\n",
    "        \n",
    "        gt_matched = ground_truth[:, :, \n",
    "                                h_start:h_start + prediction.shape[2],\n",
    "                                w_start:w_start + prediction.shape[3]]\n",
    "        pred_matched = prediction\n",
    "        \n",
    "    elif method == 'pad':\n",
    "        # Pad prediction to ground truth size\n",
    "        h_diff = ground_truth.shape[2] - prediction.shape[2]\n",
    "        w_diff = ground_truth.shape[3] - prediction.shape[3]\n",
    "        \n",
    "        h_pad = (h_diff // 2, h_diff - h_diff // 2)\n",
    "        w_pad = (w_diff // 2, w_diff - w_diff // 2)\n",
    "        \n",
    "        pred_matched = F.pad(prediction, (w_pad[0], w_pad[1], h_pad[0], h_pad[1]))\n",
    "        gt_matched = ground_truth\n",
    "        \n",
    "    elif method == 'resize':\n",
    "        # Resize prediction to ground truth size using bilinear interpolation\n",
    "        pred_matched = F.interpolate(prediction, \n",
    "                                   size=(ground_truth.shape[2], ground_truth.shape[3]),\n",
    "                                   mode='bilinear',\n",
    "                                   align_corners=False)\n",
    "        gt_matched = ground_truth\n",
    "        \n",
    "    else:\n",
    "        raise ValueError(\"method must be one of ['crop', 'pad', 'resize']\")\n",
    "        \n",
    "    return gt_matched, pred_matched\n",
    "\n",
    "def visualize_prediction_comparison(ground_truth, prediction, batch_idx=0, figsize=(20, 8), \n",
    "                                  cmap='viridis', diff_cmap='RdBu_r', size_match='crop'):\n",
    "    \"\"\"\n",
    "    Visualize ground truth, prediction, and their differences side by side for each channel.\n",
    "    Maintains original data ranges for proper visualization.\n",
    "    \"\"\"\n",
    "    # Match sizes\n",
    "    gt_matched, pred_matched = match_sizes(ground_truth, prediction, method=size_match)\n",
    "    n_channels = ground_truth.shape[1]\n",
    "\n",
    "    pred_matched[torch.isnan(gt_matched)] = torch.nan\n",
    "\n",
    "    # Create a grid of subplots\n",
    "    fig, axes = plt.subplots(n_channels, 3, figsize=figsize)\n",
    "\n",
    "    # Set the spacing between subplots\n",
    "    plt.subplots_adjust(hspace=0.2, wspace=-0.8)\n",
    "    \n",
    "    # Iterate through channels\n",
    "    for channel in range(n_channels):\n",
    "        # Get images\n",
    "        gt_img = gt_matched[batch_idx, channel].numpy()\n",
    "        pred_img = pred_matched[batch_idx, channel].numpy()\n",
    "        diff_img = pred_img - gt_img\n",
    "        \n",
    "        # For difference plot, use symmetric limits around zero\n",
    "        diff_bound = max(abs(diff_img.min()), abs(diff_img.max()))\n",
    "        diff_bound = max(diff_bound, 0.1)  # Ensure some minimum range for visualization\n",
    "        \n",
    "        # Plot ground truth with original range\n",
    "        im_gt = axes[channel, 0].imshow(gt_img, cmap=cmap, origin='lower')\n",
    "        axes[channel, 0].axis('off')\n",
    "        plt.colorbar(im_gt, ax=axes[channel, 0], fraction=0.046, pad=0.04)\n",
    "        \n",
    "        # Plot prediction with same range as ground truth\n",
    "        im_pred = axes[channel, 1].imshow(pred_img, cmap=cmap, origin='lower')\n",
    "        axes[channel, 1].axis('off')\n",
    "        plt.colorbar(im_pred, ax=axes[channel, 1], fraction=0.046, pad=0.04)\n",
    "        \n",
    "        # Plot difference with symmetric range\n",
    "        im_diff = axes[channel, 2].imshow(diff_img, cmap=diff_cmap, origin='lower',\n",
    "                                        vmin=-diff_bound, vmax=diff_bound)\n",
    "        axes[channel, 2].axis('off')\n",
    "        plt.colorbar(im_diff, ax=axes[channel, 2], fraction=0.046, pad=0.04)\n",
    "        \n",
    "        # Add channel name on the left\n",
    "        axes[channel, 0].text(-10, 32, channel_names[channel],\n",
    "                            rotation=0, ha='right', va='center')\n",
    "    \n",
    "    # Add column headers\n",
    "    axes[0, 0].set_title(f'Ground Truth ({gt_matched.shape[2]}x{gt_matched.shape[3]})')\n",
    "    axes[0, 1].set_title(f'Prediction ({pred_matched.shape[2]}x{pred_matched.shape[3]})')\n",
    "    axes[0, 2].set_title('Difference (Pred - GT)')\n",
    "    return fig\n",
    "\n",
    "visualize_prediction_comparison(img_batch[:, :,  :, :], res[:, :, :, :], size_match=\"resize\");"
   ]
  }
 ],
 "metadata": {
  "kernelspec": {
   "display_name": ".venv",
   "language": "python",
   "name": "python3"
  },
  "language_info": {
   "codemirror_mode": {
    "name": "ipython",
    "version": 3
   },
   "file_extension": ".py",
   "mimetype": "text/x-python",
   "name": "python",
   "nbconvert_exporter": "python",
   "pygments_lexer": "ipython3",
   "version": "3.12.7"
  }
 },
 "nbformat": 4,
 "nbformat_minor": 2
}
