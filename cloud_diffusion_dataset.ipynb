{
 "cells": [
  {
   "cell_type": "code",
   "execution_count": 2,
   "id": "d9cc93dc-5370-4e9f-8476-8f8087bb03b7",
   "metadata": {},
   "outputs": [],
   "source": [
    "import random, logging\n",
    "from types import SimpleNamespace\n",
    "\n",
    "import torch, wandb\n",
    "from fastprogress import progress_bar\n",
    "\n",
    "from cloud_diffusion.dataset import download_dataset, CloudDataset\n",
    "from cloud_diffusion.ddpm import ddim_sampler\n",
    "from cloud_diffusion.models import UNet2D, get_unet_params\n",
    "from cloud_diffusion.utils import parse_args, set_seed\n",
    "from cloud_diffusion.wandb import to_video, vhtile"
   ]
  },
  {
   "cell_type": "markdown",
   "id": "7dc9230b-f79d-4887-ade8-61c6ce9366b7",
   "metadata": {},
   "source": [
    "## Download cloud_diffusion dataset from weights and biases"
   ]
  },
  {
   "cell_type": "markdown",
   "id": "9e3ff1a2-08d7-417f-9ecd-5c4333cbacf8",
   "metadata": {},
   "source": [
    "[notes on how to download their datasets](https://wandb.ai/capecape/ddpm_clouds/reports/GTC-Diffusion-on-the-Clouds--VmlldzozNzQ1OTkz)"
   ]
  },
  {
   "cell_type": "code",
   "execution_count": 15,
   "id": "3a7b6b67-bb3d-44b2-801c-ea18cc956e47",
   "metadata": {},
   "outputs": [],
   "source": [
    "#\"Downloads dataset from wandb artifact\"\n",
    "DATASET_ARTIFACT_SMALL = 'capecape/gtc/np_dataset:v0' #single band\n",
    "DATASET_ARTIFACT_LARGE = 'capecape/gtc/np_dataset:v1' #twice the sequences by combining 2 bands.\n",
    "DATASET_ARTIFACT = DATASET_ARTIFACT_SMALL"
   ]
  },
  {
   "cell_type": "code",
   "execution_count": null,
   "id": "0bfef495-5c0c-46aa-8629-c21c1ed1539e",
   "metadata": {},
   "outputs": [],
   "source": [
    "with wandb.init(job_type=\"download_dataset\"):\n",
    "    artifact = wandb.use_artifact(DATASET_ARTIFACT, type='dataset')\n",
    "    artifact_dir = artifact.download()"
   ]
  },
  {
   "cell_type": "markdown",
   "id": "b10efe48-ce76-4e2c-9708-b4c659e23d3e",
   "metadata": {},
   "source": [
    "## Load downloaded small cloud_diffusion dataset"
   ]
  },
  {
   "cell_type": "code",
   "execution_count": null,
   "id": "a63e9b1f-2064-43f3-983f-a22d6ebecb10",
   "metadata": {},
   "outputs": [],
   "source": [
    "import os\n",
    "import numpy as np"
   ]
  },
  {
   "cell_type": "code",
   "execution_count": null,
   "id": "16c3b07d-0ec4-4e2c-ae07-10f3bd3f2985",
   "metadata": {},
   "outputs": [],
   "source": [
    "def load_numpy_arrays_from_folder(folder_path):\n",
    "    numpy_arrays = []\n",
    "    for filename in os.listdir(folder_path):\n",
    "        if filename.endswith(\".npy\"):\n",
    "            file_path = os.path.join(folder_path, filename)\n",
    "            numpy_arrays.append(np.load(file_path))\n",
    "    return numpy_arrays"
   ]
  },
  {
   "cell_type": "code",
   "execution_count": null,
   "id": "20f218fd-95a5-4f21-ac86-592169c6edd1",
   "metadata": {},
   "outputs": [],
   "source": [
    "folder_path = \"/bask/projects/v/vjgo8416-climate/users/lwcf1795/diffusion/artifacts/np_dataset:v0\"\n",
    "dataset = load_numpy_arrays_from_folder(folder_path)"
   ]
  },
  {
   "cell_type": "markdown",
   "id": "ecefe426-78a2-4add-b8ab-d2b5bc6a2b43",
   "metadata": {},
   "source": [
    "## Inspect small cloud_diffusion dataset"
   ]
  },
  {
   "cell_type": "code",
   "execution_count": 5,
   "id": "1bb939ac-6d4a-4365-8f38-2d984af0c4e6",
   "metadata": {},
   "outputs": [],
   "source": [
    "file = np.load('/bask/projects/v/vjgo8416-climate/users/lwcf1795/diffusion/artifacts/np_dataset:v0/B07_2022_06_01.npy')"
   ]
  },
  {
   "cell_type": "code",
   "execution_count": 6,
   "id": "2b5496a8-d79e-4e3e-8668-7276833e8bd1",
   "metadata": {},
   "outputs": [
    {
     "data": {
      "text/plain": [
       "(96, 1, 446, 780)"
      ]
     },
     "execution_count": 6,
     "metadata": {},
     "output_type": "execute_result"
    }
   ],
   "source": [
    "file.shape"
   ]
  },
  {
   "cell_type": "code",
   "execution_count": null,
   "id": "bce60a86-8b06-445e-bb09-c1e9cf31c9cd",
   "metadata": {},
   "outputs": [],
   "source": [
    "dataset[0].shape"
   ]
  },
  {
   "cell_type": "markdown",
   "id": "37d7b4dd-1d62-4497-987c-a00659261aba",
   "metadata": {},
   "source": [
    "### Each numpy file is an array with shape (96, 1, 446, 780). This represents a batch of 96 items, where each item is a single channel image of size 446x780"
   ]
  },
  {
   "cell_type": "code",
   "execution_count": null,
   "id": "7b15d9c9-ebfc-4ce4-9ba3-9a24811a6487",
   "metadata": {},
   "outputs": [],
   "source": [
    "import matplotlib.pyplot as plt"
   ]
  },
  {
   "cell_type": "code",
   "execution_count": 10,
   "id": "81a05e0d-5633-4458-aec6-491299ee6f79",
   "metadata": {},
   "outputs": [],
   "source": [
    "data_slice = file[0, 0, :, :]"
   ]
  },
  {
   "cell_type": "code",
   "execution_count": null,
   "id": "e50adfa5-7060-4ec2-8bee-daf360380eeb",
   "metadata": {},
   "outputs": [],
   "source": [
    "# Plot the data slice\n",
    "plt.imshow(data_slice, cmap='gray')\n",
    "plt.title('Data Slice from Numpy Array')\n",
    "plt.show()"
   ]
  },
  {
   "cell_type": "code",
   "execution_count": 14,
   "id": "65e5cbf2-9296-4094-8231-32efc6ad4e83",
   "metadata": {},
   "outputs": [],
   "source": [
    "PROJECT_NAME = \"ddpm_clouds\""
   ]
  },
  {
   "cell_type": "code",
   "execution_count": 16,
   "id": "776c1ce5-aeae-4b7e-a7a6-ccedb0afffe2",
   "metadata": {},
   "outputs": [],
   "source": [
    "config = SimpleNamespace(\n",
    "    model_name=\"unet_small\", # model name to save [unet_small, unet_big]\n",
    "    sampler_steps=333, # number of sampler steps on the diffusion process\n",
    "    num_frames=4, # number of frames to use as input,\n",
    "    img_size=64, # image size to use\n",
    "    num_random_experiments = 2, # we will perform inference multiple times on the same inputs\n",
    "    seed=42,\n",
    "    device=\"cuda\" if torch.cuda.is_available() else \"cpu\",\n",
    "    # device=\"mps\",\n",
    "    sampler=\"ddim\",\n",
    "    future_frames=10,  # number of future frames\n",
    "    bs=8, # how many samples\n",
    ")"
   ]
  },
  {
   "cell_type": "markdown",
   "id": "1a187f2d-bffa-4efa-b5fd-32db73cb42bf",
   "metadata": {},
   "source": [
    "## Examine data preparation steps for [inference](https://github.com/tcapelle/cloud_diffusion/blob/master/inference.py)\n",
    "### from Line 56 'def prepare_data(self)':"
   ]
  },
  {
   "cell_type": "markdown",
   "id": "94ea5515-e216-4ba8-8bba-290fa99cc222",
   "metadata": {},
   "source": [
    "### use cloud_diffusion download dataset function"
   ]
  },
  {
   "cell_type": "code",
   "execution_count": 17,
   "id": "d3103d9f-043e-4bc2-b210-842dccd5114e",
   "metadata": {},
   "outputs": [
    {
     "data": {
      "text/html": [
       "Tracking run with wandb version 0.18.5"
      ],
      "text/plain": [
       "<IPython.core.display.HTML object>"
      ]
     },
     "metadata": {},
     "output_type": "display_data"
    },
    {
     "data": {
      "text/html": [
       "Run data is saved locally in <code>/bask/projects/v/vjgo8416-climate/users/lwcf1795/diffusion/wandb/run-20241024_145255-hejmciyk</code>"
      ],
      "text/plain": [
       "<IPython.core.display.HTML object>"
      ]
     },
     "metadata": {},
     "output_type": "display_data"
    },
    {
     "data": {
      "text/html": [
       "Syncing run <strong><a href='https://wandb.ai/manchester_prize/ddpm_clouds/runs/hejmciyk' target=\"_blank\">magic-pine-10</a></strong> to <a href='https://wandb.ai/manchester_prize/ddpm_clouds' target=\"_blank\">Weights & Biases</a> (<a href='https://wandb.me/run' target=\"_blank\">docs</a>)<br/>"
      ],
      "text/plain": [
       "<IPython.core.display.HTML object>"
      ]
     },
     "metadata": {},
     "output_type": "display_data"
    },
    {
     "data": {
      "text/html": [
       " View project at <a href='https://wandb.ai/manchester_prize/ddpm_clouds' target=\"_blank\">https://wandb.ai/manchester_prize/ddpm_clouds</a>"
      ],
      "text/plain": [
       "<IPython.core.display.HTML object>"
      ]
     },
     "metadata": {},
     "output_type": "display_data"
    },
    {
     "data": {
      "text/html": [
       " View run at <a href='https://wandb.ai/manchester_prize/ddpm_clouds/runs/hejmciyk' target=\"_blank\">https://wandb.ai/manchester_prize/ddpm_clouds/runs/hejmciyk</a>"
      ],
      "text/plain": [
       "<IPython.core.display.HTML object>"
      ]
     },
     "metadata": {},
     "output_type": "display_data"
    },
    {
     "name": "stderr",
     "output_type": "stream",
     "text": [
      "\u001b[34m\u001b[1mwandb\u001b[0m: Downloading large artifact np_dataset:v0, 3816.62MB. 30 files... \n",
      "\u001b[34m\u001b[1mwandb\u001b[0m:   30 of 30 files downloaded.  \n",
      "Done. 0:0:2.6\n"
     ]
    },
    {
     "data": {
      "text/html": [
       " View run <strong style=\"color:#cdcd00\">magic-pine-10</strong> at: <a href='https://wandb.ai/manchester_prize/ddpm_clouds/runs/hejmciyk' target=\"_blank\">https://wandb.ai/manchester_prize/ddpm_clouds/runs/hejmciyk</a><br/> View project at: <a href='https://wandb.ai/manchester_prize/ddpm_clouds' target=\"_blank\">https://wandb.ai/manchester_prize/ddpm_clouds</a><br/>Synced 5 W&B file(s), 0 media file(s), 0 artifact file(s) and 0 other file(s)"
      ],
      "text/plain": [
       "<IPython.core.display.HTML object>"
      ]
     },
     "metadata": {},
     "output_type": "display_data"
    },
    {
     "data": {
      "text/html": [
       "Find logs at: <code>./wandb/run-20241024_145255-hejmciyk/logs</code>"
      ],
      "text/plain": [
       "<IPython.core.display.HTML object>"
      ]
     },
     "metadata": {},
     "output_type": "display_data"
    }
   ],
   "source": [
    "files = download_dataset(DATASET_ARTIFACT, PROJECT_NAME)"
   ]
  },
  {
   "cell_type": "markdown",
   "id": "5920bc78-1416-4f64-b60f-da29b222e56c",
   "metadata": {},
   "source": [
    "### files = list of file paths to downloaded numpy arrays"
   ]
  },
  {
   "cell_type": "code",
   "execution_count": 18,
   "id": "30321804-2873-47ba-96c9-d479f67d96ac",
   "metadata": {},
   "outputs": [
    {
     "data": {
      "text/plain": [
       "[Path('/bask/projects/v/vjgo8416-climate/users/lwcf1795/diffusion/artifacts/np_dataset:v0/B07_2022_06_01.npy'),\n",
       " Path('/bask/projects/v/vjgo8416-climate/users/lwcf1795/diffusion/artifacts/np_dataset:v0/B07_2022_06_02.npy'),\n",
       " Path('/bask/projects/v/vjgo8416-climate/users/lwcf1795/diffusion/artifacts/np_dataset:v0/B07_2022_06_03.npy'),\n",
       " Path('/bask/projects/v/vjgo8416-climate/users/lwcf1795/diffusion/artifacts/np_dataset:v0/B07_2022_06_04.npy'),\n",
       " Path('/bask/projects/v/vjgo8416-climate/users/lwcf1795/diffusion/artifacts/np_dataset:v0/B07_2022_06_05.npy'),\n",
       " Path('/bask/projects/v/vjgo8416-climate/users/lwcf1795/diffusion/artifacts/np_dataset:v0/B07_2022_06_06.npy'),\n",
       " Path('/bask/projects/v/vjgo8416-climate/users/lwcf1795/diffusion/artifacts/np_dataset:v0/B07_2022_06_07.npy'),\n",
       " Path('/bask/projects/v/vjgo8416-climate/users/lwcf1795/diffusion/artifacts/np_dataset:v0/B07_2022_06_08.npy'),\n",
       " Path('/bask/projects/v/vjgo8416-climate/users/lwcf1795/diffusion/artifacts/np_dataset:v0/B07_2022_06_09.npy'),\n",
       " Path('/bask/projects/v/vjgo8416-climate/users/lwcf1795/diffusion/artifacts/np_dataset:v0/B07_2022_06_10.npy'),\n",
       " Path('/bask/projects/v/vjgo8416-climate/users/lwcf1795/diffusion/artifacts/np_dataset:v0/B07_2022_06_11.npy'),\n",
       " Path('/bask/projects/v/vjgo8416-climate/users/lwcf1795/diffusion/artifacts/np_dataset:v0/B07_2022_06_12.npy'),\n",
       " Path('/bask/projects/v/vjgo8416-climate/users/lwcf1795/diffusion/artifacts/np_dataset:v0/B07_2022_06_13.npy'),\n",
       " Path('/bask/projects/v/vjgo8416-climate/users/lwcf1795/diffusion/artifacts/np_dataset:v0/B07_2022_06_14.npy'),\n",
       " Path('/bask/projects/v/vjgo8416-climate/users/lwcf1795/diffusion/artifacts/np_dataset:v0/B07_2022_06_15.npy'),\n",
       " Path('/bask/projects/v/vjgo8416-climate/users/lwcf1795/diffusion/artifacts/np_dataset:v0/B07_2022_06_16.npy'),\n",
       " Path('/bask/projects/v/vjgo8416-climate/users/lwcf1795/diffusion/artifacts/np_dataset:v0/B07_2022_06_17.npy'),\n",
       " Path('/bask/projects/v/vjgo8416-climate/users/lwcf1795/diffusion/artifacts/np_dataset:v0/B07_2022_06_18.npy'),\n",
       " Path('/bask/projects/v/vjgo8416-climate/users/lwcf1795/diffusion/artifacts/np_dataset:v0/B07_2022_06_19.npy'),\n",
       " Path('/bask/projects/v/vjgo8416-climate/users/lwcf1795/diffusion/artifacts/np_dataset:v0/B07_2022_06_20.npy'),\n",
       " Path('/bask/projects/v/vjgo8416-climate/users/lwcf1795/diffusion/artifacts/np_dataset:v0/B07_2022_06_21.npy'),\n",
       " Path('/bask/projects/v/vjgo8416-climate/users/lwcf1795/diffusion/artifacts/np_dataset:v0/B07_2022_06_22.npy'),\n",
       " Path('/bask/projects/v/vjgo8416-climate/users/lwcf1795/diffusion/artifacts/np_dataset:v0/B07_2022_06_23.npy'),\n",
       " Path('/bask/projects/v/vjgo8416-climate/users/lwcf1795/diffusion/artifacts/np_dataset:v0/B07_2022_06_24.npy'),\n",
       " Path('/bask/projects/v/vjgo8416-climate/users/lwcf1795/diffusion/artifacts/np_dataset:v0/B07_2022_06_25.npy'),\n",
       " Path('/bask/projects/v/vjgo8416-climate/users/lwcf1795/diffusion/artifacts/np_dataset:v0/B07_2022_06_26.npy'),\n",
       " Path('/bask/projects/v/vjgo8416-climate/users/lwcf1795/diffusion/artifacts/np_dataset:v0/B07_2022_06_27.npy'),\n",
       " Path('/bask/projects/v/vjgo8416-climate/users/lwcf1795/diffusion/artifacts/np_dataset:v0/B07_2022_06_28.npy'),\n",
       " Path('/bask/projects/v/vjgo8416-climate/users/lwcf1795/diffusion/artifacts/np_dataset:v0/B07_2022_06_29.npy'),\n",
       " Path('/bask/projects/v/vjgo8416-climate/users/lwcf1795/diffusion/artifacts/np_dataset:v0/B07_2022_06_30.npy')]"
      ]
     },
     "execution_count": 18,
     "metadata": {},
     "output_type": "execute_result"
    }
   ],
   "source": [
    "files"
   ]
  },
  {
   "cell_type": "markdown",
   "id": "aefeecb5-bf05-469b-99ac-0ca8f342fc11",
   "metadata": {},
   "source": [
    "## extract three days worth of validation data from full dataset"
   ]
  },
  {
   "cell_type": "code",
   "execution_count": 19,
   "id": "fa840329-ea1a-4474-a4b7-6cdcf416dd2f",
   "metadata": {},
   "outputs": [
    {
     "data": {
      "text/html": [
       "\n",
       "<style>\n",
       "    /* Turns off some styling */\n",
       "    progress {\n",
       "        /* gets rid of default border in Firefox and Opera. */\n",
       "        border: none;\n",
       "        /* Needs to be in here for Safari polyfill so background images work as expected. */\n",
       "        background-size: auto;\n",
       "    }\n",
       "    progress:not([value]), progress:not([value])::-webkit-progress-bar {\n",
       "        background: repeating-linear-gradient(45deg, #7e7e7e, #7e7e7e 10px, #5c5c5c 10px, #5c5c5c 20px);\n",
       "    }\n",
       "    .progress-bar-interrupted, .progress-bar-interrupted::-webkit-progress-bar {\n",
       "        background: #F44336;\n",
       "    }\n",
       "</style>\n"
      ],
      "text/plain": [
       "<IPython.core.display.HTML object>"
      ]
     },
     "metadata": {},
     "output_type": "display_data"
    },
    {
     "data": {
      "text/html": [],
      "text/plain": [
       "<IPython.core.display.HTML object>"
      ]
     },
     "metadata": {},
     "output_type": "display_data"
    }
   ],
   "source": [
    "valid_ds = CloudDataset(files=files[-3:], # 3 days of validation data \n",
    "                                num_frames=config.num_frames, img_size=config.img_size)"
   ]
  },
  {
   "cell_type": "markdown",
   "id": "e8266dd9-8ae9-4af7-90d4-6fc8ae9706c6",
   "metadata": {},
   "source": [
    "## validation dataset is list of tensors with shape [4, 64, 64]"
   ]
  },
  {
   "cell_type": "code",
   "execution_count": 20,
   "id": "948260b9-373b-4668-9f61-9653eed280ed",
   "metadata": {},
   "outputs": [
    {
     "data": {
      "text/plain": [
       "tensor([[[-0.2148, -0.2150, -0.2152,  ..., -0.1546, -0.1568, -0.1596],\n",
       "         [-0.2171, -0.2172, -0.2176,  ..., -0.1672, -0.1678, -0.1722],\n",
       "         [-0.2128, -0.2161, -0.2200,  ..., -0.1913, -0.1936, -0.1970],\n",
       "         ...,\n",
       "         [ 0.0137,  0.0527, -0.0090,  ..., -0.2838, -0.2498, -0.2445],\n",
       "         [ 0.0307,  0.0268,  0.0024,  ..., -0.3208, -0.2935, -0.2796],\n",
       "         [ 0.0470,  0.0357,  0.0557,  ..., -0.3338, -0.3256, -0.2947]],\n",
       "\n",
       "        [[-0.2133, -0.2139, -0.2168,  ..., -0.1524, -0.1532, -0.1519],\n",
       "         [-0.2143, -0.2176, -0.2187,  ..., -0.1621, -0.1595, -0.1598],\n",
       "         [-0.2139, -0.2173, -0.2168,  ..., -0.1801, -0.1788, -0.1849],\n",
       "         ...,\n",
       "         [ 0.0360,  0.1036,  0.0661,  ..., -0.2281, -0.3011, -0.3177],\n",
       "         [ 0.1195,  0.1047,  0.0782,  ..., -0.2324, -0.2912, -0.3200],\n",
       "         [ 0.0910,  0.0788,  0.0494,  ..., -0.2922, -0.2995, -0.3123]],\n",
       "\n",
       "        [[-0.2136, -0.2103, -0.2142,  ..., -0.1571, -0.1563, -0.1579],\n",
       "         [-0.2159, -0.2149, -0.2160,  ..., -0.1578, -0.1614, -0.1598],\n",
       "         [-0.2158, -0.2154, -0.2138,  ..., -0.1707, -0.1736, -0.1713],\n",
       "         ...,\n",
       "         [-0.0759,  0.0908,  0.0760,  ..., -0.3088, -0.3112, -0.3024],\n",
       "         [-0.0603,  0.0863,  0.0510,  ..., -0.3240, -0.3276, -0.3233],\n",
       "         [ 0.0946,  0.1154, -0.0018,  ..., -0.3057, -0.3257, -0.3303]],\n",
       "\n",
       "        [[-0.2118, -0.2117, -0.2116,  ..., -0.1498, -0.1576, -0.1593],\n",
       "         [-0.2135, -0.2132, -0.2129,  ..., -0.1547, -0.1582, -0.1570],\n",
       "         [-0.2153, -0.2134, -0.2103,  ..., -0.1560, -0.1623, -0.1573],\n",
       "         ...,\n",
       "         [-0.1911, -0.1218,  0.0289,  ..., -0.2791, -0.3090, -0.3147],\n",
       "         [-0.1932, -0.1289, -0.0449,  ..., -0.3223, -0.3255, -0.3230],\n",
       "         [-0.1835, -0.1303, -0.0727,  ..., -0.3214, -0.3170, -0.3236]]])"
      ]
     },
     "execution_count": 20,
     "metadata": {},
     "output_type": "execute_result"
    }
   ],
   "source": [
    "valid_ds[0]"
   ]
  },
  {
   "cell_type": "code",
   "execution_count": 21,
   "id": "ab98043d-80c6-44fb-b4cd-d0d73cd9233c",
   "metadata": {},
   "outputs": [
    {
     "data": {
      "text/plain": [
       "torch.Size([4, 64, 64])"
      ]
     },
     "execution_count": 21,
     "metadata": {},
     "output_type": "execute_result"
    }
   ],
   "source": [
    "valid_ds[0].shape"
   ]
  },
  {
   "cell_type": "code",
   "execution_count": 30,
   "id": "526c1d94-c54e-4e86-87ac-c023a4b3fde5",
   "metadata": {},
   "outputs": [
    {
     "data": {
      "text/plain": [
       "<cloud_diffusion.dataset.CloudDataset at 0x1503e5842920>"
      ]
     },
     "execution_count": 30,
     "metadata": {},
     "output_type": "execute_result"
    }
   ],
   "source": [
    "valid_ds"
   ]
  },
  {
   "cell_type": "markdown",
   "id": "fbc09016-5328-4408-af07-2076f5699c5f",
   "metadata": {},
   "source": [
    "## randomly select some samples from the validation dataset"
   ]
  },
  {
   "cell_type": "code",
   "execution_count": 72,
   "id": "fb8f7589-cc12-4554-bb25-fadaf17fc669",
   "metadata": {},
   "outputs": [],
   "source": [
    "idxs = random.choices(range(len(valid_ds) - config.future_frames), k=config.bs)  # select some samples"
   ]
  },
  {
   "cell_type": "code",
   "execution_count": 73,
   "id": "6300b315-6fe3-4370-bdbe-c18aa2ae1e62",
   "metadata": {},
   "outputs": [
    {
     "data": {
      "text/plain": [
       "[113, 7, 58, 135, 7, 53, 174, 146]"
      ]
     },
     "execution_count": 73,
     "metadata": {},
     "output_type": "execute_result"
    }
   ],
   "source": [
    "idxs"
   ]
  },
  {
   "cell_type": "code",
   "execution_count": null,
   "id": "36518188-6f1e-4c78-b542-45e47d5070b4",
   "metadata": {},
   "outputs": [],
   "source": [
    "# fix the batch to the same samples for reproducibility\n",
    "batch = valid_ds[idxs].to(config.device)\n",
    "batch"
   ]
  },
  {
   "cell_type": "code",
   "execution_count": 26,
   "id": "508256a4-c75b-4563-998c-9cd4d5a4faa3",
   "metadata": {},
   "outputs": [
    {
     "data": {
      "text/plain": [
       "torch.Size([8, 4, 64, 64])"
      ]
     },
     "execution_count": 26,
     "metadata": {},
     "output_type": "execute_result"
    }
   ],
   "source": [
    "batch.shape"
   ]
  },
  {
   "cell_type": "code",
   "execution_count": 76,
   "id": "a52190e8-4563-4846-97e7-1a122fe66843",
   "metadata": {},
   "outputs": [
    {
     "data": {
      "text/plain": [
       "torch.Size([14, 64, 64])"
      ]
     },
     "execution_count": 76,
     "metadata": {},
     "output_type": "execute_result"
    }
   ],
   "source": [
    "vid_sequence = valid_ds[idxs[0]:idxs[0]+4+config.future_frames,0,...]\n",
    "vid_sequence.shape"
   ]
  },
  {
   "cell_type": "markdown",
   "id": "4128ab99-72e8-4f9c-9189-f115c5307943",
   "metadata": {},
   "source": [
    "## Prepare Our Data"
   ]
  },
  {
   "cell_type": "code",
   "execution_count": 8,
   "id": "b698b8f5-23c6-454a-b675-11a491da90a2",
   "metadata": {},
   "outputs": [],
   "source": [
    "from cloudcasting.dataset import SatelliteDataset\n",
    "from cloudcasting.constants import DATA_INTERVAL_SPACING_MINUTES\n",
    "\n",
    "TRAINING_DATA_PATH = \"/bask/projects/v/vjgo8416-climate/shared/data/eumetsat/training/2022_training_nonhrv.zarr\"\n",
    "HISTORY_STEPS = 3\n",
    "\n",
    "# Instantiate the torch dataset object\n",
    "dataset = SatelliteDataset(\n",
    "    zarr_path=TRAINING_DATA_PATH,\n",
    "    start_time=\"2022-01-31\",\n",
    "    end_time=None,\n",
    "    history_mins=(HISTORY_STEPS - 1) * DATA_INTERVAL_SPACING_MINUTES,\n",
    "    forecast_mins=15,\n",
    "    sample_freq_mins=15,\n",
    "    nan_to_num=True,\n",
    ")"
   ]
  },
  {
   "cell_type": "code",
   "execution_count": 9,
   "id": "99bd3140-32f7-49a7-9d3a-cfc119890251",
   "metadata": {},
   "outputs": [],
   "source": [
    "import torch\n",
    "import numpy as np\n",
    "import torchvision.transforms as T\n",
    "\n",
    "class SatelliteDataset2(SatelliteDataset):\n",
    "    def __init__(self, *args, img_size=64, **kwargs):\n",
    "        super().__init__(*args, **kwargs)\n",
    "        tfms = [T.Resize((img_size, int(img_size*614/372)))]\n",
    "        tfms += [T.RandomCrop(img_size)]\n",
    "        self.tfms = T.Compose(tfms)\n",
    "\n",
    "    def __getitem__(self, idx):\n",
    "        concat_data = np.concatenate(super().__getitem__(idx), axis=-3)[-3]\n",
    "        return 0.5-self.tfms(torch.from_numpy(concat_data))"
   ]
  },
  {
   "cell_type": "code",
   "execution_count": 10,
   "id": "2e799a99-6126-4122-9a7e-0a03bc67e1cc",
   "metadata": {},
   "outputs": [],
   "source": [
    "dataset2 = SatelliteDataset2(\n",
    "    zarr_path=TRAINING_DATA_PATH,\n",
    "    start_time=\"2022-01-31\",\n",
    "    end_time=None,\n",
    "    history_mins=(HISTORY_STEPS - 1) * DATA_INTERVAL_SPACING_MINUTES,\n",
    "    forecast_mins=15,\n",
    "    sample_freq_mins=15,\n",
    "    nan_to_num=True,\n",
    ")"
   ]
  },
  {
   "cell_type": "code",
   "execution_count": 31,
   "id": "82df4c15-450a-4f26-9297-953a0b8a6ea7",
   "metadata": {},
   "outputs": [
    {
     "data": {
      "text/plain": [
       "tensor([[[0.4760, 0.4760, 0.4760,  ..., 0.4763, 0.4764, 0.4763],\n",
       "         [0.4760, 0.4760, 0.4760,  ..., 0.4761, 0.4763, 0.4761],\n",
       "         [0.4760, 0.4760, 0.4760,  ..., 0.4764, 0.4764, 0.4763],\n",
       "         ...,\n",
       "         [0.4760, 0.4760, 0.4760,  ..., 0.4762, 0.4764, 0.4765],\n",
       "         [0.4760, 0.4760, 0.4760,  ..., 0.4773, 0.4973, 0.5646],\n",
       "         [0.5945, 0.5945, 0.5945,  ..., 0.8918, 1.0996, 1.2834]],\n",
       "\n",
       "        [[0.4765, 0.4765, 0.4765,  ..., 0.4765, 0.4765, 0.4765],\n",
       "         [0.4765, 0.4765, 0.4765,  ..., 0.4765, 0.4765, 0.4765],\n",
       "         [0.4764, 0.4764, 0.4765,  ..., 0.4765, 0.4765, 0.4765],\n",
       "         ...,\n",
       "         [0.4765, 0.4765, 0.4765,  ..., 0.4765, 0.4765, 0.4767],\n",
       "         [0.4764, 0.4765, 0.4764,  ..., 0.4779, 0.4974, 0.5647],\n",
       "         [0.5947, 0.5949, 0.5948,  ..., 0.8923, 1.0997, 1.2834]],\n",
       "\n",
       "        [[0.4765, 0.4765, 0.4765,  ..., 0.4765, 0.4765, 0.4765],\n",
       "         [0.4765, 0.4765, 0.4765,  ..., 0.4765, 0.4765, 0.4765],\n",
       "         [0.4765, 0.4765, 0.4765,  ..., 0.4765, 0.4765, 0.4765],\n",
       "         ...,\n",
       "         [0.4765, 0.4765, 0.4765,  ..., 0.4765, 0.4765, 0.4765],\n",
       "         [0.4765, 0.4765, 0.4765,  ..., 0.4780, 0.4977, 0.5645],\n",
       "         [0.4767, 0.4767, 0.4767,  ..., 0.8922, 1.0998, 1.2834]],\n",
       "\n",
       "        [[0.4765, 0.4765, 0.4765,  ..., 0.4765, 0.4765, 0.4765],\n",
       "         [0.4765, 0.4765, 0.4765,  ..., 0.4765, 0.4765, 0.4765],\n",
       "         [0.4765, 0.4765, 0.4765,  ..., 0.4765, 0.4765, 0.4765],\n",
       "         ...,\n",
       "         [0.4765, 0.4765, 0.4765,  ..., 0.4765, 0.4765, 0.4767],\n",
       "         [0.4765, 0.4765, 0.4765,  ..., 0.4779, 0.4977, 0.5649],\n",
       "         [0.4767, 0.4767, 0.4767,  ..., 0.8917, 1.0998, 1.2835]]])"
      ]
     },
     "execution_count": 31,
     "metadata": {},
     "output_type": "execute_result"
    }
   ],
   "source": [
    "dataset2[0]"
   ]
  },
  {
   "cell_type": "code",
   "execution_count": 28,
   "id": "cd54845e-5b73-4fce-9002-59dea4488eb9",
   "metadata": {},
   "outputs": [
    {
     "data": {
      "text/plain": [
       "torch.Size([4, 64, 64])"
      ]
     },
     "execution_count": 28,
     "metadata": {},
     "output_type": "execute_result"
    }
   ],
   "source": [
    "dataset2[0].shape"
   ]
  },
  {
   "cell_type": "code",
   "execution_count": 77,
   "id": "9d9f5f40-c3a9-4945-85c7-723c0d7af1a3",
   "metadata": {},
   "outputs": [
    {
     "data": {
      "text/plain": [
       "[2683, 7173, 9853, 79, 9809, 8498, 4141, 1892]"
      ]
     },
     "execution_count": 77,
     "metadata": {},
     "output_type": "execute_result"
    }
   ],
   "source": [
    "idxs = random.choices(range(len(dataset2) - config.future_frames), k=config.bs)  # select some samples\n",
    "idxs"
   ]
  },
  {
   "cell_type": "code",
   "execution_count": null,
   "id": "21a05d58-e76f-4d9e-a606-1caa0086822d",
   "metadata": {},
   "outputs": [],
   "source": [
    "# fix the batch to the same samples for reproducibility\n",
    "batch = torch.stack([dataset2[idxs[0]].to(config.device), dataset2[idxs[1]].to(config.device), \n",
    "                     dataset2[idxs[2]].to(config.device), dataset2[idxs[3]].to(config.device), \n",
    "                     dataset2[idxs[4]].to(config.device), dataset2[idxs[5]].to(config.device),\n",
    "                    dataset2[idxs[6]].to(config.device), dataset2[idxs[7]].to(config.device)])\n",
    "batch"
   ]
  },
  {
   "cell_type": "code",
   "execution_count": 53,
   "id": "e924a519-f50e-4ce2-9c58-595477d58ebe",
   "metadata": {},
   "outputs": [
    {
     "data": {
      "text/plain": [
       "torch.Size([8, 4, 64, 64])"
      ]
     },
     "execution_count": 53,
     "metadata": {},
     "output_type": "execute_result"
    }
   ],
   "source": [
    "batch.shape"
   ]
  },
  {
   "cell_type": "code",
   "execution_count": 63,
   "id": "8f9ef901-892c-488a-9441-52854a4cd057",
   "metadata": {},
   "outputs": [
    {
     "data": {
      "text/plain": [
       "tensor([[0.4765, 0.4765, 0.4765,  ..., 0.4765, 0.4765, 0.4765],\n",
       "        [0.4765, 0.4765, 0.4765,  ..., 0.4765, 0.4765, 0.4765],\n",
       "        [0.4765, 0.4765, 0.4765,  ..., 0.4765, 0.4765, 0.4765],\n",
       "        ...,\n",
       "        [1.3331, 1.3331, 1.3331,  ..., 1.4513, 1.4955, 1.5000],\n",
       "        [1.5000, 1.5000, 1.5000,  ..., 1.5000, 1.5000, 1.5000],\n",
       "        [1.5000, 1.5000, 1.5000,  ..., 1.5000, 1.5000, 1.5000]])"
      ]
     },
     "execution_count": 63,
     "metadata": {},
     "output_type": "execute_result"
    }
   ],
   "source": [
    "dataset2[idxs[0]][0]"
   ]
  },
  {
   "cell_type": "code",
   "execution_count": 78,
   "id": "bc62dd6c-12ca-4ddf-8b8e-a6afa63ec4a6",
   "metadata": {},
   "outputs": [],
   "source": [
    "idx = idxs[0]"
   ]
  },
  {
   "cell_type": "code",
   "execution_count": 79,
   "id": "89919b0a-2d10-40f3-95b0-4b04b231d3f1",
   "metadata": {},
   "outputs": [
    {
     "data": {
      "text/plain": [
       "torch.Size([14, 64, 64])"
      ]
     },
     "execution_count": 79,
     "metadata": {},
     "output_type": "execute_result"
    }
   ],
   "source": [
    "vid_sequence2 = torch.stack([dataset2[idx][0], dataset2[idx+1][0], dataset2[idx+2][0], dataset2[idx+3][0],\n",
    "                                           dataset2[idx+4][0], dataset2[idx+5][0], dataset2[idx+6][0], dataset2[idx+7][0],\n",
    "                                           dataset2[idx+8][0], dataset2[idx+9][0], dataset2[idx+10][0], dataset2[idx+11][0],\n",
    "                                           dataset2[idx+12][0], dataset2[idx+13][0]])\n",
    "vid_sequence2.shape"
   ]
  },
  {
   "cell_type": "code",
   "execution_count": 82,
   "id": "49125835-0472-4d83-954f-663a3c019049",
   "metadata": {},
   "outputs": [
    {
     "data": {
      "text/plain": [
       "torch.Size([64, 64])"
      ]
     },
     "execution_count": 82,
     "metadata": {},
     "output_type": "execute_result"
    }
   ],
   "source": [
    "vid_sequence[0].shape"
   ]
  },
  {
   "cell_type": "code",
   "execution_count": 87,
   "id": "01a96433-0a58-4cc8-b37a-5e04b058e5bb",
   "metadata": {},
   "outputs": [],
   "source": [
    "from pathlib import Path\n",
    "\n",
    "import torch\n",
    "import wandb\n",
    "import numpy as np\n",
    "\n",
    "## For Training\n",
    "\n",
    "def to_wandb_image(img):\n",
    "    \"Convert a tensor to a wandb.Image\"\n",
    "    return wandb.Image(torch.cat(img.split(1), dim=-1).cpu().numpy())\n",
    "\n",
    "def log_images(xt, samples):\n",
    "    \"Log sampled images to wandb\"\n",
    "    device = samples.device\n",
    "    frames = torch.cat([xt[:, :-1,...].to(device), samples], dim=1)\n",
    "    wandb.log({\"sampled_images\": [to_wandb_image(img) for img in frames]})\n",
    "\n",
    "def save_model(model, model_name):\n",
    "    \"Save the model to wandb\"\n",
    "    model_name = f\"{wandb.run.id}_{model_name}\"\n",
    "    models_folder = Path(\"models\")\n",
    "    if not models_folder.exists():\n",
    "        models_folder.mkdir()\n",
    "    torch.save(model.state_dict(), models_folder/f\"{model_name}.pth\")\n",
    "    at = wandb.Artifact(model_name, type=\"model\")\n",
    "    at.add_file(f\"models/{model_name}.pth\")\n",
    "    wandb.log_artifact(at)\n",
    "\n",
    "\n",
    "## For Inference\n",
    "def htile(img):\n",
    "    \"Horizontally tile a batch of images.\"\n",
    "    return torch.cat(img.split(1), dim=-1)\n",
    "\n",
    "def vtile(img):\n",
    "    \"Vertically tile a batch of images.\"\n",
    "    return torch.cat(img.split(1), dim=-2)\n",
    "\n",
    "def vhtile(*imgs):\n",
    "    \"Vertically and horizontally tile a batch of images.\"\n",
    "    return vtile(torch.cat([htile(img) for img in imgs], dim=0))\n",
    "\n",
    "def scale(arr):\n",
    "    \"Scales values of array in [0,1]\"\n",
    "    m, M = arr.min(), arr.max()\n",
    "    return (arr - m) / (M - m)\n",
    "\n",
    "def preprocess_frames(data):\n",
    "    \"Preprocess frames for wandb.Video\"\n",
    "    sdata = scale(data.squeeze())\n",
    "    # print(sdata.shape)\n",
    "    def tfm(frame):\n",
    "        rframe = 255 * frame\n",
    "        return rframe.cpu().numpy().astype(np.uint8)\n",
    "    return [tfm(frame) for frame in sdata]"
   ]
  },
  {
   "cell_type": "code",
   "execution_count": 92,
   "id": "aa6f2224-4a79-4b71-ae99-e6ec40126a2d",
   "metadata": {},
   "outputs": [],
   "source": [
    "def make_video(data):\n",
    "    frames = preprocess_frames(data)\n",
    "    vid = np.repeat(np.stack(frames)[:,None,...],3,axis=1)\n",
    "    return wandb.Video(vid)"
   ]
  },
  {
   "cell_type": "code",
   "execution_count": 93,
   "id": "ad81e394-2de8-4cd6-9fd2-5cf78b925bbc",
   "metadata": {},
   "outputs": [],
   "source": [
    "import random, logging\n",
    "from types import SimpleNamespace\n",
    "\n",
    "import torch, wandb\n",
    "from fastprogress import progress_bar\n",
    "\n",
    "from cloud_diffusion.dataset import download_dataset, CloudDataset\n",
    "from cloud_diffusion.ddpm import ddim_sampler\n",
    "from cloud_diffusion.models import UNet2D, get_unet_params\n",
    "from cloud_diffusion.utils import parse_args, set_seed\n",
    "from cloud_diffusion.wandb import to_video, vhtile\n",
    "\n",
    "logging.basicConfig(format='%(asctime)s - %(levelname)s: %(message)s')\n",
    "logger = logging.getLogger(__name__)\n",
    "logger.setLevel(logging.INFO)\n",
    "\n",
    "PROJECT_NAME = \"ddpm_clouds\"\n",
    "JOB_TYPE = \"inference\"\n",
    "MODEL_ARTIFACT = \"capecape/ddpm_clouds/esezp3jh_unet_small:v0\"  # small model\n",
    "\n",
    "config = SimpleNamespace(\n",
    "    model_name=\"unet_small\", # model name to save [unet_small, unet_big]\n",
    "    sampler_steps=333, # number of sampler steps on the diffusion process\n",
    "    num_frames=4, # number of frames to use as input,\n",
    "    img_size=64, # image size to use\n",
    "    num_random_experiments = 2, # we will perform inference multiple times on the same inputs\n",
    "    seed=42,\n",
    "    device=\"cuda\" if torch.cuda.is_available() else \"cpu\",\n",
    "    # device=\"mps\",\n",
    "    sampler=\"ddim\",\n",
    "    future_frames=10,  # number of future frames\n",
    "    bs=8, # how many samples\n",
    ")\n",
    "\n",
    "class Inference:\n",
    "\n",
    "    def __init__(self, config):\n",
    "        self.config = config\n",
    "        set_seed(config.seed)\n",
    "\n",
    "        # create a batch of data to use for inference\n",
    "        self.prepare_data()\n",
    "        \n",
    "        # we default to ddim as it's faster and as good as ddpm\n",
    "        self.sampler = ddim_sampler(config.sampler_steps)\n",
    "\n",
    "        # create the Unet\n",
    "        model_params = get_unet_params(config.model_name, config.num_frames)\n",
    "\n",
    "        logger.info(f\"Loading model {config.model_name} from artifact: {MODEL_ARTIFACT}\")\n",
    "        self.model = UNet2D.from_artifact(model_params, MODEL_ARTIFACT).to(config.device)\n",
    "\n",
    "        self.model.eval()\n",
    "    \n",
    "    def prepare_data(self):\n",
    "        \"Generates a batch of data from the validation dataset\"\n",
    "\n",
    "        self.valid_ds = dataset2\n",
    "        self.idxs = random.choices(range(len(self.valid_ds) - config.future_frames), k=config.bs)  # select some samples\n",
    "        # fix the batch to the same samples for reproducibility\n",
    "        #self.batch = self.valid_ds[self.idxs[0]].to(config.device)\n",
    "        self.batch = torch.stack([self.valid_ds[idxs[0]].to(config.device), self.valid_ds[idxs[1]].to(config.device), \n",
    "                     self.valid_ds[idxs[2]].to(config.device), self.valid_ds[idxs[3]].to(config.device), \n",
    "                     self.valid_ds[idxs[4]].to(config.device), self.valid_ds[idxs[5]].to(config.device),\n",
    "                    self.valid_ds[idxs[6]].to(config.device), self.valid_ds[idxs[7]].to(config.device)])\n",
    "\n",
    "    def sample_more(self, frames, future_frames=1):\n",
    "        \"Autoregressive sampling, starting from `frames`. It is hardcoded to work with 3 frame inputs.\"\n",
    "        for _ in progress_bar(range(future_frames), total=future_frames, leave=True):\n",
    "            # compute new frame with previous 3 frames\n",
    "            new_frame = self.sampler(self.model, frames[:,-3:,...])\n",
    "            # add new frame to the sequence\n",
    "            frames = torch.cat([frames, new_frame.to(frames.device)], dim=1)\n",
    "        return frames.cpu()\n",
    "\n",
    "    def forecast(self):\n",
    "        \"Perform inference on the batch of data.\"\n",
    "        logger.info(f\"Forecasting {self.batch.shape[0]} samples for {self.config.future_frames} future frames.\")\n",
    "        sequences = []\n",
    "        for i in range(self.config.num_random_experiments):\n",
    "            logger.info(f\"Generating {i+1}/{self.config.num_random_experiments} futures.\")\n",
    "            frames = self.sample_more(self.batch, self.config.future_frames)\n",
    "            sequences.append(frames)\n",
    "\n",
    "        return sequences\n",
    "\n",
    "    def log_to_wandb(self, sequences):\n",
    "        \"Create a table with the ground truth and the generated frames. Log it to wandb.\"\n",
    "        table = wandb.Table(columns=[\"id\", \"gt\", *[f\"gen_{i}\" for i in range(config.num_random_experiments)], \"gt/gen\"])\n",
    "        for i, idx in enumerate(self.idxs):\n",
    "            vid_obj = torch.stack([self.valid_ds[idx][0], self.valid_ds[idx+1][0], self.valid_ds[idx+2][0], self.valid_ds[idx+3][0],\n",
    "                                           self.valid_ds[idx+4][0], self.valid_ds[idx+5][0], self.valid_ds[idx+6][0], self.valid_ds[idx+7][0],\n",
    "                                           self.valid_ds[idx+8][0], self.valid_ds[idx+9][0], self.valid_ds[idx+10][0], self.valid_ds[idx+11][0],\n",
    "                                           self.valid_ds[idx+12][0], self.valid_ds[idx+13][0]])\n",
    "            #gt_vid = to_video(np.repeat(gt_vid.detach().cpu().numpy(), 3, axis=1) * 255)\n",
    "            gt_vid = make_video(vid_obj)\n",
    "            pred_vids = [make_video(frames[i]) for frames in sequences]\n",
    "            gt_gen = wandb.Image(vhtile(torch.stack([self.valid_ds[idx][0], self.valid_ds[idx+1][0], self.valid_ds[idx+2][0], self.valid_ds[idx+3][0],\n",
    "                                           self.valid_ds[idx+4][0], self.valid_ds[idx+5][0], self.valid_ds[idx+6][0], self.valid_ds[idx+7][0],\n",
    "                                           self.valid_ds[idx+8][0], self.valid_ds[idx+9][0], self.valid_ds[idx+10][0], self.valid_ds[idx+11][0],\n",
    "                                           self.valid_ds[idx+12][0], self.valid_ds[idx+13][0]]), *[frames[i] for frames in sequences]))\n",
    "            table.add_data(idx, gt_vid, *pred_vids, gt_gen)\n",
    "        logger.info(\"Logging results to wandb...\")\n",
    "        wandb.log({f\"gen_table_{config.future_frames}_random\":table})"
   ]
  },
  {
   "cell_type": "code",
   "execution_count": 94,
   "id": "4521c656-f783-451a-9142-c72a3e8b61c0",
   "metadata": {},
   "outputs": [
    {
     "data": {
      "text/html": [
       "Tracking run with wandb version 0.18.5"
      ],
      "text/plain": [
       "<IPython.core.display.HTML object>"
      ]
     },
     "metadata": {},
     "output_type": "display_data"
    },
    {
     "data": {
      "text/html": [
       "Run data is saved locally in <code>/bask/projects/v/vjgo8416-climate/users/lwcf1795/diffusion/wandb/run-20241024_170259-q2o7uiup</code>"
      ],
      "text/plain": [
       "<IPython.core.display.HTML object>"
      ]
     },
     "metadata": {},
     "output_type": "display_data"
    },
    {
     "data": {
      "text/html": [
       "Syncing run <strong><a href='https://wandb.ai/manchester_prize/ddpm_clouds/runs/q2o7uiup' target=\"_blank\">true-star-20</a></strong> to <a href='https://wandb.ai/manchester_prize/ddpm_clouds' target=\"_blank\">Weights & Biases</a> (<a href='https://wandb.me/run' target=\"_blank\">docs</a>)<br/>"
      ],
      "text/plain": [
       "<IPython.core.display.HTML object>"
      ]
     },
     "metadata": {},
     "output_type": "display_data"
    },
    {
     "data": {
      "text/html": [
       " View project at <a href='https://wandb.ai/manchester_prize/ddpm_clouds' target=\"_blank\">https://wandb.ai/manchester_prize/ddpm_clouds</a>"
      ],
      "text/plain": [
       "<IPython.core.display.HTML object>"
      ]
     },
     "metadata": {},
     "output_type": "display_data"
    },
    {
     "data": {
      "text/html": [
       " View run at <a href='https://wandb.ai/manchester_prize/ddpm_clouds/runs/q2o7uiup' target=\"_blank\">https://wandb.ai/manchester_prize/ddpm_clouds/runs/q2o7uiup</a>"
      ],
      "text/plain": [
       "<IPython.core.display.HTML object>"
      ]
     },
     "metadata": {},
     "output_type": "display_data"
    },
    {
     "name": "stderr",
     "output_type": "stream",
     "text": [
      "2024-10-24 17:03:02,034 - INFO - Loading model unet_small from artifact: capecape/ddpm_clouds/esezp3jh_unet_small:v0\n",
      "\u001b[34m\u001b[1mwandb\u001b[0m:   1 of 1 files downloaded.  \n",
      "2024-10-24 17:03:03,546 - INFO - Forecasting 8 samples for 10 future frames.\n",
      "2024-10-24 17:03:03,548 - INFO - Generating 1/2 futures.\n"
     ]
    },
    {
     "name": "stdout",
     "output_type": "stream",
     "text": [
      "Loading model from: /bask/projects/v/vjgo8416-climate/users/lwcf1795/diffusion/artifacts/esezp3jh_unet_small:v0/esezp3jh_unet_small.pth\n"
     ]
    },
    {
     "data": {
      "text/html": [
       "\n",
       "<style>\n",
       "    /* Turns off some styling */\n",
       "    progress {\n",
       "        /* gets rid of default border in Firefox and Opera. */\n",
       "        border: none;\n",
       "        /* Needs to be in here for Safari polyfill so background images work as expected. */\n",
       "        background-size: auto;\n",
       "    }\n",
       "    progress:not([value]), progress:not([value])::-webkit-progress-bar {\n",
       "        background: repeating-linear-gradient(45deg, #7e7e7e, #7e7e7e 10px, #5c5c5c 10px, #5c5c5c 20px);\n",
       "    }\n",
       "    .progress-bar-interrupted, .progress-bar-interrupted::-webkit-progress-bar {\n",
       "        background: #F44336;\n",
       "    }\n",
       "</style>\n"
      ],
      "text/plain": [
       "<IPython.core.display.HTML object>"
      ]
     },
     "metadata": {},
     "output_type": "display_data"
    },
    {
     "data": {
      "text/html": [
       "\n",
       "    <div>\n",
       "      <progress value='10' class='' max='10' style='width:300px; height:20px; vertical-align: middle;'></progress>\n",
       "      100.00% [10/10 00:55&lt;00:00]\n",
       "    </div>\n",
       "    "
      ],
      "text/plain": [
       "<IPython.core.display.HTML object>"
      ]
     },
     "metadata": {},
     "output_type": "display_data"
    },
    {
     "data": {
      "text/html": [
       "\n",
       "<style>\n",
       "    /* Turns off some styling */\n",
       "    progress {\n",
       "        /* gets rid of default border in Firefox and Opera. */\n",
       "        border: none;\n",
       "        /* Needs to be in here for Safari polyfill so background images work as expected. */\n",
       "        background-size: auto;\n",
       "    }\n",
       "    progress:not([value]), progress:not([value])::-webkit-progress-bar {\n",
       "        background: repeating-linear-gradient(45deg, #7e7e7e, #7e7e7e 10px, #5c5c5c 10px, #5c5c5c 20px);\n",
       "    }\n",
       "    .progress-bar-interrupted, .progress-bar-interrupted::-webkit-progress-bar {\n",
       "        background: #F44336;\n",
       "    }\n",
       "</style>\n"
      ],
      "text/plain": [
       "<IPython.core.display.HTML object>"
      ]
     },
     "metadata": {},
     "output_type": "display_data"
    },
    {
     "data": {
      "text/html": [],
      "text/plain": [
       "<IPython.core.display.HTML object>"
      ]
     },
     "metadata": {},
     "output_type": "display_data"
    },
    {
     "data": {
      "text/html": [
       "\n",
       "<style>\n",
       "    /* Turns off some styling */\n",
       "    progress {\n",
       "        /* gets rid of default border in Firefox and Opera. */\n",
       "        border: none;\n",
       "        /* Needs to be in here for Safari polyfill so background images work as expected. */\n",
       "        background-size: auto;\n",
       "    }\n",
       "    progress:not([value]), progress:not([value])::-webkit-progress-bar {\n",
       "        background: repeating-linear-gradient(45deg, #7e7e7e, #7e7e7e 10px, #5c5c5c 10px, #5c5c5c 20px);\n",
       "    }\n",
       "    .progress-bar-interrupted, .progress-bar-interrupted::-webkit-progress-bar {\n",
       "        background: #F44336;\n",
       "    }\n",
       "</style>\n"
      ],
      "text/plain": [
       "<IPython.core.display.HTML object>"
      ]
     },
     "metadata": {},
     "output_type": "display_data"
    },
    {
     "data": {
      "text/html": [],
      "text/plain": [
       "<IPython.core.display.HTML object>"
      ]
     },
     "metadata": {},
     "output_type": "display_data"
    },
    {
     "data": {
      "text/html": [
       "\n",
       "<style>\n",
       "    /* Turns off some styling */\n",
       "    progress {\n",
       "        /* gets rid of default border in Firefox and Opera. */\n",
       "        border: none;\n",
       "        /* Needs to be in here for Safari polyfill so background images work as expected. */\n",
       "        background-size: auto;\n",
       "    }\n",
       "    progress:not([value]), progress:not([value])::-webkit-progress-bar {\n",
       "        background: repeating-linear-gradient(45deg, #7e7e7e, #7e7e7e 10px, #5c5c5c 10px, #5c5c5c 20px);\n",
       "    }\n",
       "    .progress-bar-interrupted, .progress-bar-interrupted::-webkit-progress-bar {\n",
       "        background: #F44336;\n",
       "    }\n",
       "</style>\n"
      ],
      "text/plain": [
       "<IPython.core.display.HTML object>"
      ]
     },
     "metadata": {},
     "output_type": "display_data"
    },
    {
     "data": {
      "text/html": [],
      "text/plain": [
       "<IPython.core.display.HTML object>"
      ]
     },
     "metadata": {},
     "output_type": "display_data"
    },
    {
     "data": {
      "text/html": [
       "\n",
       "<style>\n",
       "    /* Turns off some styling */\n",
       "    progress {\n",
       "        /* gets rid of default border in Firefox and Opera. */\n",
       "        border: none;\n",
       "        /* Needs to be in here for Safari polyfill so background images work as expected. */\n",
       "        background-size: auto;\n",
       "    }\n",
       "    progress:not([value]), progress:not([value])::-webkit-progress-bar {\n",
       "        background: repeating-linear-gradient(45deg, #7e7e7e, #7e7e7e 10px, #5c5c5c 10px, #5c5c5c 20px);\n",
       "    }\n",
       "    .progress-bar-interrupted, .progress-bar-interrupted::-webkit-progress-bar {\n",
       "        background: #F44336;\n",
       "    }\n",
       "</style>\n"
      ],
      "text/plain": [
       "<IPython.core.display.HTML object>"
      ]
     },
     "metadata": {},
     "output_type": "display_data"
    },
    {
     "data": {
      "text/html": [],
      "text/plain": [
       "<IPython.core.display.HTML object>"
      ]
     },
     "metadata": {},
     "output_type": "display_data"
    },
    {
     "data": {
      "text/html": [
       "\n",
       "<style>\n",
       "    /* Turns off some styling */\n",
       "    progress {\n",
       "        /* gets rid of default border in Firefox and Opera. */\n",
       "        border: none;\n",
       "        /* Needs to be in here for Safari polyfill so background images work as expected. */\n",
       "        background-size: auto;\n",
       "    }\n",
       "    progress:not([value]), progress:not([value])::-webkit-progress-bar {\n",
       "        background: repeating-linear-gradient(45deg, #7e7e7e, #7e7e7e 10px, #5c5c5c 10px, #5c5c5c 20px);\n",
       "    }\n",
       "    .progress-bar-interrupted, .progress-bar-interrupted::-webkit-progress-bar {\n",
       "        background: #F44336;\n",
       "    }\n",
       "</style>\n"
      ],
      "text/plain": [
       "<IPython.core.display.HTML object>"
      ]
     },
     "metadata": {},
     "output_type": "display_data"
    },
    {
     "data": {
      "text/html": [],
      "text/plain": [
       "<IPython.core.display.HTML object>"
      ]
     },
     "metadata": {},
     "output_type": "display_data"
    },
    {
     "data": {
      "text/html": [
       "\n",
       "<style>\n",
       "    /* Turns off some styling */\n",
       "    progress {\n",
       "        /* gets rid of default border in Firefox and Opera. */\n",
       "        border: none;\n",
       "        /* Needs to be in here for Safari polyfill so background images work as expected. */\n",
       "        background-size: auto;\n",
       "    }\n",
       "    progress:not([value]), progress:not([value])::-webkit-progress-bar {\n",
       "        background: repeating-linear-gradient(45deg, #7e7e7e, #7e7e7e 10px, #5c5c5c 10px, #5c5c5c 20px);\n",
       "    }\n",
       "    .progress-bar-interrupted, .progress-bar-interrupted::-webkit-progress-bar {\n",
       "        background: #F44336;\n",
       "    }\n",
       "</style>\n"
      ],
      "text/plain": [
       "<IPython.core.display.HTML object>"
      ]
     },
     "metadata": {},
     "output_type": "display_data"
    },
    {
     "data": {
      "text/html": [],
      "text/plain": [
       "<IPython.core.display.HTML object>"
      ]
     },
     "metadata": {},
     "output_type": "display_data"
    },
    {
     "data": {
      "text/html": [
       "\n",
       "<style>\n",
       "    /* Turns off some styling */\n",
       "    progress {\n",
       "        /* gets rid of default border in Firefox and Opera. */\n",
       "        border: none;\n",
       "        /* Needs to be in here for Safari polyfill so background images work as expected. */\n",
       "        background-size: auto;\n",
       "    }\n",
       "    progress:not([value]), progress:not([value])::-webkit-progress-bar {\n",
       "        background: repeating-linear-gradient(45deg, #7e7e7e, #7e7e7e 10px, #5c5c5c 10px, #5c5c5c 20px);\n",
       "    }\n",
       "    .progress-bar-interrupted, .progress-bar-interrupted::-webkit-progress-bar {\n",
       "        background: #F44336;\n",
       "    }\n",
       "</style>\n"
      ],
      "text/plain": [
       "<IPython.core.display.HTML object>"
      ]
     },
     "metadata": {},
     "output_type": "display_data"
    },
    {
     "data": {
      "text/html": [],
      "text/plain": [
       "<IPython.core.display.HTML object>"
      ]
     },
     "metadata": {},
     "output_type": "display_data"
    },
    {
     "data": {
      "text/html": [
       "\n",
       "<style>\n",
       "    /* Turns off some styling */\n",
       "    progress {\n",
       "        /* gets rid of default border in Firefox and Opera. */\n",
       "        border: none;\n",
       "        /* Needs to be in here for Safari polyfill so background images work as expected. */\n",
       "        background-size: auto;\n",
       "    }\n",
       "    progress:not([value]), progress:not([value])::-webkit-progress-bar {\n",
       "        background: repeating-linear-gradient(45deg, #7e7e7e, #7e7e7e 10px, #5c5c5c 10px, #5c5c5c 20px);\n",
       "    }\n",
       "    .progress-bar-interrupted, .progress-bar-interrupted::-webkit-progress-bar {\n",
       "        background: #F44336;\n",
       "    }\n",
       "</style>\n"
      ],
      "text/plain": [
       "<IPython.core.display.HTML object>"
      ]
     },
     "metadata": {},
     "output_type": "display_data"
    },
    {
     "data": {
      "text/html": [],
      "text/plain": [
       "<IPython.core.display.HTML object>"
      ]
     },
     "metadata": {},
     "output_type": "display_data"
    },
    {
     "data": {
      "text/html": [
       "\n",
       "<style>\n",
       "    /* Turns off some styling */\n",
       "    progress {\n",
       "        /* gets rid of default border in Firefox and Opera. */\n",
       "        border: none;\n",
       "        /* Needs to be in here for Safari polyfill so background images work as expected. */\n",
       "        background-size: auto;\n",
       "    }\n",
       "    progress:not([value]), progress:not([value])::-webkit-progress-bar {\n",
       "        background: repeating-linear-gradient(45deg, #7e7e7e, #7e7e7e 10px, #5c5c5c 10px, #5c5c5c 20px);\n",
       "    }\n",
       "    .progress-bar-interrupted, .progress-bar-interrupted::-webkit-progress-bar {\n",
       "        background: #F44336;\n",
       "    }\n",
       "</style>\n"
      ],
      "text/plain": [
       "<IPython.core.display.HTML object>"
      ]
     },
     "metadata": {},
     "output_type": "display_data"
    },
    {
     "data": {
      "text/html": [],
      "text/plain": [
       "<IPython.core.display.HTML object>"
      ]
     },
     "metadata": {},
     "output_type": "display_data"
    },
    {
     "data": {
      "text/html": [
       "\n",
       "<style>\n",
       "    /* Turns off some styling */\n",
       "    progress {\n",
       "        /* gets rid of default border in Firefox and Opera. */\n",
       "        border: none;\n",
       "        /* Needs to be in here for Safari polyfill so background images work as expected. */\n",
       "        background-size: auto;\n",
       "    }\n",
       "    progress:not([value]), progress:not([value])::-webkit-progress-bar {\n",
       "        background: repeating-linear-gradient(45deg, #7e7e7e, #7e7e7e 10px, #5c5c5c 10px, #5c5c5c 20px);\n",
       "    }\n",
       "    .progress-bar-interrupted, .progress-bar-interrupted::-webkit-progress-bar {\n",
       "        background: #F44336;\n",
       "    }\n",
       "</style>\n"
      ],
      "text/plain": [
       "<IPython.core.display.HTML object>"
      ]
     },
     "metadata": {},
     "output_type": "display_data"
    },
    {
     "data": {
      "text/html": [],
      "text/plain": [
       "<IPython.core.display.HTML object>"
      ]
     },
     "metadata": {},
     "output_type": "display_data"
    },
    {
     "name": "stderr",
     "output_type": "stream",
     "text": [
      "2024-10-24 17:03:58,953 - INFO - Generating 2/2 futures.\n"
     ]
    },
    {
     "data": {
      "text/html": [
       "\n",
       "<style>\n",
       "    /* Turns off some styling */\n",
       "    progress {\n",
       "        /* gets rid of default border in Firefox and Opera. */\n",
       "        border: none;\n",
       "        /* Needs to be in here for Safari polyfill so background images work as expected. */\n",
       "        background-size: auto;\n",
       "    }\n",
       "    progress:not([value]), progress:not([value])::-webkit-progress-bar {\n",
       "        background: repeating-linear-gradient(45deg, #7e7e7e, #7e7e7e 10px, #5c5c5c 10px, #5c5c5c 20px);\n",
       "    }\n",
       "    .progress-bar-interrupted, .progress-bar-interrupted::-webkit-progress-bar {\n",
       "        background: #F44336;\n",
       "    }\n",
       "</style>\n"
      ],
      "text/plain": [
       "<IPython.core.display.HTML object>"
      ]
     },
     "metadata": {},
     "output_type": "display_data"
    },
    {
     "data": {
      "text/html": [
       "\n",
       "    <div>\n",
       "      <progress value='10' class='' max='10' style='width:300px; height:20px; vertical-align: middle;'></progress>\n",
       "      100.00% [10/10 00:54&lt;00:00]\n",
       "    </div>\n",
       "    "
      ],
      "text/plain": [
       "<IPython.core.display.HTML object>"
      ]
     },
     "metadata": {},
     "output_type": "display_data"
    },
    {
     "data": {
      "text/html": [
       "\n",
       "<style>\n",
       "    /* Turns off some styling */\n",
       "    progress {\n",
       "        /* gets rid of default border in Firefox and Opera. */\n",
       "        border: none;\n",
       "        /* Needs to be in here for Safari polyfill so background images work as expected. */\n",
       "        background-size: auto;\n",
       "    }\n",
       "    progress:not([value]), progress:not([value])::-webkit-progress-bar {\n",
       "        background: repeating-linear-gradient(45deg, #7e7e7e, #7e7e7e 10px, #5c5c5c 10px, #5c5c5c 20px);\n",
       "    }\n",
       "    .progress-bar-interrupted, .progress-bar-interrupted::-webkit-progress-bar {\n",
       "        background: #F44336;\n",
       "    }\n",
       "</style>\n"
      ],
      "text/plain": [
       "<IPython.core.display.HTML object>"
      ]
     },
     "metadata": {},
     "output_type": "display_data"
    },
    {
     "data": {
      "text/html": [],
      "text/plain": [
       "<IPython.core.display.HTML object>"
      ]
     },
     "metadata": {},
     "output_type": "display_data"
    },
    {
     "data": {
      "text/html": [
       "\n",
       "<style>\n",
       "    /* Turns off some styling */\n",
       "    progress {\n",
       "        /* gets rid of default border in Firefox and Opera. */\n",
       "        border: none;\n",
       "        /* Needs to be in here for Safari polyfill so background images work as expected. */\n",
       "        background-size: auto;\n",
       "    }\n",
       "    progress:not([value]), progress:not([value])::-webkit-progress-bar {\n",
       "        background: repeating-linear-gradient(45deg, #7e7e7e, #7e7e7e 10px, #5c5c5c 10px, #5c5c5c 20px);\n",
       "    }\n",
       "    .progress-bar-interrupted, .progress-bar-interrupted::-webkit-progress-bar {\n",
       "        background: #F44336;\n",
       "    }\n",
       "</style>\n"
      ],
      "text/plain": [
       "<IPython.core.display.HTML object>"
      ]
     },
     "metadata": {},
     "output_type": "display_data"
    },
    {
     "data": {
      "text/html": [],
      "text/plain": [
       "<IPython.core.display.HTML object>"
      ]
     },
     "metadata": {},
     "output_type": "display_data"
    },
    {
     "data": {
      "text/html": [
       "\n",
       "<style>\n",
       "    /* Turns off some styling */\n",
       "    progress {\n",
       "        /* gets rid of default border in Firefox and Opera. */\n",
       "        border: none;\n",
       "        /* Needs to be in here for Safari polyfill so background images work as expected. */\n",
       "        background-size: auto;\n",
       "    }\n",
       "    progress:not([value]), progress:not([value])::-webkit-progress-bar {\n",
       "        background: repeating-linear-gradient(45deg, #7e7e7e, #7e7e7e 10px, #5c5c5c 10px, #5c5c5c 20px);\n",
       "    }\n",
       "    .progress-bar-interrupted, .progress-bar-interrupted::-webkit-progress-bar {\n",
       "        background: #F44336;\n",
       "    }\n",
       "</style>\n"
      ],
      "text/plain": [
       "<IPython.core.display.HTML object>"
      ]
     },
     "metadata": {},
     "output_type": "display_data"
    },
    {
     "data": {
      "text/html": [],
      "text/plain": [
       "<IPython.core.display.HTML object>"
      ]
     },
     "metadata": {},
     "output_type": "display_data"
    },
    {
     "data": {
      "text/html": [
       "\n",
       "<style>\n",
       "    /* Turns off some styling */\n",
       "    progress {\n",
       "        /* gets rid of default border in Firefox and Opera. */\n",
       "        border: none;\n",
       "        /* Needs to be in here for Safari polyfill so background images work as expected. */\n",
       "        background-size: auto;\n",
       "    }\n",
       "    progress:not([value]), progress:not([value])::-webkit-progress-bar {\n",
       "        background: repeating-linear-gradient(45deg, #7e7e7e, #7e7e7e 10px, #5c5c5c 10px, #5c5c5c 20px);\n",
       "    }\n",
       "    .progress-bar-interrupted, .progress-bar-interrupted::-webkit-progress-bar {\n",
       "        background: #F44336;\n",
       "    }\n",
       "</style>\n"
      ],
      "text/plain": [
       "<IPython.core.display.HTML object>"
      ]
     },
     "metadata": {},
     "output_type": "display_data"
    },
    {
     "data": {
      "text/html": [],
      "text/plain": [
       "<IPython.core.display.HTML object>"
      ]
     },
     "metadata": {},
     "output_type": "display_data"
    },
    {
     "data": {
      "text/html": [
       "\n",
       "<style>\n",
       "    /* Turns off some styling */\n",
       "    progress {\n",
       "        /* gets rid of default border in Firefox and Opera. */\n",
       "        border: none;\n",
       "        /* Needs to be in here for Safari polyfill so background images work as expected. */\n",
       "        background-size: auto;\n",
       "    }\n",
       "    progress:not([value]), progress:not([value])::-webkit-progress-bar {\n",
       "        background: repeating-linear-gradient(45deg, #7e7e7e, #7e7e7e 10px, #5c5c5c 10px, #5c5c5c 20px);\n",
       "    }\n",
       "    .progress-bar-interrupted, .progress-bar-interrupted::-webkit-progress-bar {\n",
       "        background: #F44336;\n",
       "    }\n",
       "</style>\n"
      ],
      "text/plain": [
       "<IPython.core.display.HTML object>"
      ]
     },
     "metadata": {},
     "output_type": "display_data"
    },
    {
     "data": {
      "text/html": [],
      "text/plain": [
       "<IPython.core.display.HTML object>"
      ]
     },
     "metadata": {},
     "output_type": "display_data"
    },
    {
     "data": {
      "text/html": [
       "\n",
       "<style>\n",
       "    /* Turns off some styling */\n",
       "    progress {\n",
       "        /* gets rid of default border in Firefox and Opera. */\n",
       "        border: none;\n",
       "        /* Needs to be in here for Safari polyfill so background images work as expected. */\n",
       "        background-size: auto;\n",
       "    }\n",
       "    progress:not([value]), progress:not([value])::-webkit-progress-bar {\n",
       "        background: repeating-linear-gradient(45deg, #7e7e7e, #7e7e7e 10px, #5c5c5c 10px, #5c5c5c 20px);\n",
       "    }\n",
       "    .progress-bar-interrupted, .progress-bar-interrupted::-webkit-progress-bar {\n",
       "        background: #F44336;\n",
       "    }\n",
       "</style>\n"
      ],
      "text/plain": [
       "<IPython.core.display.HTML object>"
      ]
     },
     "metadata": {},
     "output_type": "display_data"
    },
    {
     "data": {
      "text/html": [],
      "text/plain": [
       "<IPython.core.display.HTML object>"
      ]
     },
     "metadata": {},
     "output_type": "display_data"
    },
    {
     "data": {
      "text/html": [
       "\n",
       "<style>\n",
       "    /* Turns off some styling */\n",
       "    progress {\n",
       "        /* gets rid of default border in Firefox and Opera. */\n",
       "        border: none;\n",
       "        /* Needs to be in here for Safari polyfill so background images work as expected. */\n",
       "        background-size: auto;\n",
       "    }\n",
       "    progress:not([value]), progress:not([value])::-webkit-progress-bar {\n",
       "        background: repeating-linear-gradient(45deg, #7e7e7e, #7e7e7e 10px, #5c5c5c 10px, #5c5c5c 20px);\n",
       "    }\n",
       "    .progress-bar-interrupted, .progress-bar-interrupted::-webkit-progress-bar {\n",
       "        background: #F44336;\n",
       "    }\n",
       "</style>\n"
      ],
      "text/plain": [
       "<IPython.core.display.HTML object>"
      ]
     },
     "metadata": {},
     "output_type": "display_data"
    },
    {
     "data": {
      "text/html": [],
      "text/plain": [
       "<IPython.core.display.HTML object>"
      ]
     },
     "metadata": {},
     "output_type": "display_data"
    },
    {
     "data": {
      "text/html": [
       "\n",
       "<style>\n",
       "    /* Turns off some styling */\n",
       "    progress {\n",
       "        /* gets rid of default border in Firefox and Opera. */\n",
       "        border: none;\n",
       "        /* Needs to be in here for Safari polyfill so background images work as expected. */\n",
       "        background-size: auto;\n",
       "    }\n",
       "    progress:not([value]), progress:not([value])::-webkit-progress-bar {\n",
       "        background: repeating-linear-gradient(45deg, #7e7e7e, #7e7e7e 10px, #5c5c5c 10px, #5c5c5c 20px);\n",
       "    }\n",
       "    .progress-bar-interrupted, .progress-bar-interrupted::-webkit-progress-bar {\n",
       "        background: #F44336;\n",
       "    }\n",
       "</style>\n"
      ],
      "text/plain": [
       "<IPython.core.display.HTML object>"
      ]
     },
     "metadata": {},
     "output_type": "display_data"
    },
    {
     "data": {
      "text/html": [],
      "text/plain": [
       "<IPython.core.display.HTML object>"
      ]
     },
     "metadata": {},
     "output_type": "display_data"
    },
    {
     "data": {
      "text/html": [
       "\n",
       "<style>\n",
       "    /* Turns off some styling */\n",
       "    progress {\n",
       "        /* gets rid of default border in Firefox and Opera. */\n",
       "        border: none;\n",
       "        /* Needs to be in here for Safari polyfill so background images work as expected. */\n",
       "        background-size: auto;\n",
       "    }\n",
       "    progress:not([value]), progress:not([value])::-webkit-progress-bar {\n",
       "        background: repeating-linear-gradient(45deg, #7e7e7e, #7e7e7e 10px, #5c5c5c 10px, #5c5c5c 20px);\n",
       "    }\n",
       "    .progress-bar-interrupted, .progress-bar-interrupted::-webkit-progress-bar {\n",
       "        background: #F44336;\n",
       "    }\n",
       "</style>\n"
      ],
      "text/plain": [
       "<IPython.core.display.HTML object>"
      ]
     },
     "metadata": {},
     "output_type": "display_data"
    },
    {
     "data": {
      "text/html": [],
      "text/plain": [
       "<IPython.core.display.HTML object>"
      ]
     },
     "metadata": {},
     "output_type": "display_data"
    },
    {
     "data": {
      "text/html": [
       "\n",
       "<style>\n",
       "    /* Turns off some styling */\n",
       "    progress {\n",
       "        /* gets rid of default border in Firefox and Opera. */\n",
       "        border: none;\n",
       "        /* Needs to be in here for Safari polyfill so background images work as expected. */\n",
       "        background-size: auto;\n",
       "    }\n",
       "    progress:not([value]), progress:not([value])::-webkit-progress-bar {\n",
       "        background: repeating-linear-gradient(45deg, #7e7e7e, #7e7e7e 10px, #5c5c5c 10px, #5c5c5c 20px);\n",
       "    }\n",
       "    .progress-bar-interrupted, .progress-bar-interrupted::-webkit-progress-bar {\n",
       "        background: #F44336;\n",
       "    }\n",
       "</style>\n"
      ],
      "text/plain": [
       "<IPython.core.display.HTML object>"
      ]
     },
     "metadata": {},
     "output_type": "display_data"
    },
    {
     "data": {
      "text/html": [],
      "text/plain": [
       "<IPython.core.display.HTML object>"
      ]
     },
     "metadata": {},
     "output_type": "display_data"
    },
    {
     "name": "stderr",
     "output_type": "stream",
     "text": [
      "2024-10-24 17:05:43,402 - INFO - Logging results to wandb...\n"
     ]
    },
    {
     "data": {
      "text/html": [
       " View run <strong style=\"color:#cdcd00\">true-star-20</strong> at: <a href='https://wandb.ai/manchester_prize/ddpm_clouds/runs/q2o7uiup' target=\"_blank\">https://wandb.ai/manchester_prize/ddpm_clouds/runs/q2o7uiup</a><br/> View project at: <a href='https://wandb.ai/manchester_prize/ddpm_clouds' target=\"_blank\">https://wandb.ai/manchester_prize/ddpm_clouds</a><br/>Synced 5 W&B file(s), 0 media file(s), 34 artifact file(s) and 1 other file(s)"
      ],
      "text/plain": [
       "<IPython.core.display.HTML object>"
      ]
     },
     "metadata": {},
     "output_type": "display_data"
    },
    {
     "data": {
      "text/html": [
       "Find logs at: <code>./wandb/run-20241024_170259-q2o7uiup/logs</code>"
      ],
      "text/plain": [
       "<IPython.core.display.HTML object>"
      ]
     },
     "metadata": {},
     "output_type": "display_data"
    }
   ],
   "source": [
    "set_seed(config.seed)\n",
    "\n",
    "with wandb.init(project=PROJECT_NAME, job_type=JOB_TYPE, \n",
    "                config=config, tags=[\"ddpm\", config.model_name]):\n",
    "    infer = Inference(config)\n",
    "    sequences = infer.forecast()\n",
    "    infer.log_to_wandb(sequences)"
   ]
  },
  {
   "cell_type": "code",
   "execution_count": null,
   "id": "4afa3eec-4d3d-4411-8471-1666479f2d5e",
   "metadata": {},
   "outputs": [],
   "source": []
  }
 ],
 "metadata": {
  "kernelspec": {
   "display_name": "cloud_diffusion (Conda)",
   "language": "python",
   "name": "sys_cloud_diffusion"
  },
  "language_info": {
   "codemirror_mode": {
    "name": "ipython",
    "version": 3
   },
   "file_extension": ".py",
   "mimetype": "text/x-python",
   "name": "python",
   "nbconvert_exporter": "python",
   "pygments_lexer": "ipython3",
   "version": "3.10.15"
  }
 },
 "nbformat": 4,
 "nbformat_minor": 5
}
